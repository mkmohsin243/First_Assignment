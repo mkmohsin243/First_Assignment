{
 "cells": [
  {
   "cell_type": "markdown",
   "id": "1f0f57bb-30a1-4510-ad70-fe521108aa27",
   "metadata": {},
   "source": [
    "## Question 1 - Explain the key features of python that makes it a popular choice of programming ."
   ]
  },
  {
   "cell_type": "raw",
   "id": "ecb047fb-92a0-4ff1-86f7-6b95108adb1e",
   "metadata": {},
   "source": [
    "Ans - Python is a programming language that help us to understand the language of machine. Set of rules and symbols which is used to give command to machine is known as programming language.\n",
    "\n",
    "# The key features of python that makes it a popular choice of programming are :-\n",
    "\n",
    "* Vast and continuously growing ecosystem of liabraries , python are more than 137000 liabraries .\n",
    "* python programming widely used in fronted , backend , data analytics , data science and machine lernings etc.\n",
    "* python widely used in technical industries.\n",
    "* python have huge active community.\n",
    "* used in automation.\n",
    "* used in image processing\n",
    "* used in database\n",
    "* Good performance\n",
    "* python programming is easy to use.\n",
    "* easy to learn.\n",
    "* easy to read and understand."
   ]
  },
  {
   "cell_type": "markdown",
   "id": "2b846e52-c1a1-4192-8702-264bf60e6188",
   "metadata": {},
   "source": [
    "## Question 2 - Descibe the role of predefined keywords in python and provide examples of how they are used in a program."
   ]
  },
  {
   "cell_type": "raw",
   "id": "0ac78d45-bf53-4ff2-b553-425d0776e4a6",
   "metadata": {},
   "source": [
    "Ans - Basically pyhton keywords are help us to create and execute code in a very easy and succefully , we can not use keywords as assignment statement or variables . Keywords help us to define the syntax of the code . The predifined keywords of python are :- "
   ]
  },
  {
   "cell_type": "code",
   "execution_count": 2,
   "id": "aada7bc5-08c8-41b6-b5b3-af201605cc57",
   "metadata": {},
   "outputs": [
    {
     "name": "stdout",
     "output_type": "stream",
     "text": [
      "\n",
      "Here is a list of the Python keywords.  Enter any keyword to get more help.\n",
      "\n",
      "False               class               from                or\n",
      "None                continue            global              pass\n",
      "True                def                 if                  raise\n",
      "and                 del                 import              return\n",
      "as                  elif                in                  try\n",
      "assert              else                is                  while\n",
      "async               except              lambda              with\n",
      "await               finally             nonlocal            yield\n",
      "break               for                 not                 \n",
      "\n"
     ]
    }
   ],
   "source": [
    "help(\"keywords\")"
   ]
  },
  {
   "cell_type": "raw",
   "id": "0b3e35c3-a453-4177-804e-9b4b6fa66aba",
   "metadata": {},
   "source": [
    "so here we can see , the complete keywords of python , they help to execute and also define the syntax of code."
   ]
  },
  {
   "cell_type": "markdown",
   "id": "f6a413e3-165f-4572-9936-f7c311ce6158",
   "metadata": {},
   "source": [
    "#### examples of how they are used in program :-"
   ]
  },
  {
   "cell_type": "code",
   "execution_count": 3,
   "id": "c7635e27-5b11-4ac7-9980-471cc711aa50",
   "metadata": {},
   "outputs": [
    {
     "name": "stdout",
     "output_type": "stream",
     "text": [
      "What is your name\n"
     ]
    }
   ],
   "source": [
    "# if we use print keywords :- >> print keywords execute or we can say help us to print anything that we want to write.\n",
    "# example:-\n",
    "print(\"What is your name\")"
   ]
  },
  {
   "cell_type": "code",
   "execution_count": 4,
   "id": "5ea21fb2-bfce-444f-8ed7-01417fe813f9",
   "metadata": {},
   "outputs": [
    {
     "name": "stdout",
     "output_type": "stream",
     "text": [
      "What is your father's name\n"
     ]
    }
   ],
   "source": [
    "print(\"What is your father's name\")"
   ]
  },
  {
   "cell_type": "raw",
   "id": "e84c4933-ebf2-4d7d-998e-bd1651f2af2e",
   "metadata": {},
   "source": [
    "Types of variables / Identifiers - \n",
    "* Integers (int)\n",
    "* Float    (Float)\n",
    "* String    (str)\n",
    "* boolean   (bool)\n",
    "* complex   (complex)\n",
    "* None       (None)"
   ]
  },
  {
   "cell_type": "code",
   "execution_count": 6,
   "id": "9b92c3a9-58c1-45c7-8d44-ff6968dfa608",
   "metadata": {},
   "outputs": [
    {
     "data": {
      "text/plain": [
       "int"
      ]
     },
     "execution_count": 6,
     "metadata": {},
     "output_type": "execute_result"
    }
   ],
   "source": [
    "# we use type keywords:- >> type keywords help us to know the nature of variable , or we can also say type of variables.\n",
    "a = 15\n",
    "type(a)"
   ]
  },
  {
   "cell_type": "code",
   "execution_count": 7,
   "id": "849021cb-ee5a-437f-8559-4da1b6bf782b",
   "metadata": {},
   "outputs": [
    {
     "data": {
      "text/plain": [
       "str"
      ]
     },
     "execution_count": 7,
     "metadata": {},
     "output_type": "execute_result"
    }
   ],
   "source": [
    "a = \"15\"\n",
    "type(a)"
   ]
  },
  {
   "cell_type": "code",
   "execution_count": 8,
   "id": "ce11ccce-ddcd-49b8-b1e8-c8c42e9923b4",
   "metadata": {},
   "outputs": [
    {
     "data": {
      "text/plain": [
       "float"
      ]
     },
     "execution_count": 8,
     "metadata": {},
     "output_type": "execute_result"
    }
   ],
   "source": [
    "a = 15.5\n",
    "type(a)"
   ]
  },
  {
   "cell_type": "code",
   "execution_count": 9,
   "id": "dc1910cc-5271-49cb-8877-7ade44233ed6",
   "metadata": {},
   "outputs": [
    {
     "data": {
      "text/plain": [
       "True"
      ]
     },
     "execution_count": 9,
     "metadata": {},
     "output_type": "execute_result"
    }
   ],
   "source": [
    "bool(a)"
   ]
  },
  {
   "cell_type": "code",
   "execution_count": 10,
   "id": "8ffb993e-7b67-49a4-a1e6-eaa84b22bf17",
   "metadata": {},
   "outputs": [
    {
     "data": {
      "text/plain": [
       "False"
      ]
     },
     "execution_count": 10,
     "metadata": {},
     "output_type": "execute_result"
    }
   ],
   "source": [
    "a = 0\n",
    "bool(a)"
   ]
  },
  {
   "cell_type": "code",
   "execution_count": 13,
   "id": "cf7390d2-8e5d-46a2-84d1-7a49c511287d",
   "metadata": {},
   "outputs": [],
   "source": [
    "# here we use none keywords >> which define none >> it means nothing will execute or we can say nothing print\n",
    "a = 15\n",
    "None"
   ]
  },
  {
   "cell_type": "code",
   "execution_count": 15,
   "id": "5b6c625d-f5e4-4230-83d2-5e9ea3f6337b",
   "metadata": {},
   "outputs": [
    {
     "data": {
      "text/plain": [
       "False"
      ]
     },
     "execution_count": 15,
     "metadata": {},
     "output_type": "execute_result"
    }
   ],
   "source": [
    "# use of 'and' keywords >> 'and' keywords is a logical operator , it helps to know true or false by taking two operands.\n",
    "True and False"
   ]
  },
  {
   "cell_type": "code",
   "execution_count": 16,
   "id": "76d69375-67ee-4e4c-930e-3c2005152c74",
   "metadata": {},
   "outputs": [
    {
     "data": {
      "text/plain": [
       "True"
      ]
     },
     "execution_count": 16,
     "metadata": {},
     "output_type": "execute_result"
    }
   ],
   "source": [
    "True and True"
   ]
  },
  {
   "cell_type": "code",
   "execution_count": 17,
   "id": "48df4c5f-3ca0-4e13-9476-0aec98e0fb70",
   "metadata": {},
   "outputs": [
    {
     "data": {
      "text/plain": [
       "False"
      ]
     },
     "execution_count": 17,
     "metadata": {},
     "output_type": "execute_result"
    }
   ],
   "source": [
    "False and True"
   ]
  },
  {
   "cell_type": "code",
   "execution_count": 18,
   "id": "5ab259d4-4ccb-4a06-a36e-ce71a41f3d70",
   "metadata": {},
   "outputs": [
    {
     "data": {
      "text/plain": [
       "False"
      ]
     },
     "execution_count": 18,
     "metadata": {},
     "output_type": "execute_result"
    }
   ],
   "source": [
    "False and False"
   ]
  },
  {
   "cell_type": "code",
   "execution_count": 19,
   "id": "bab000d3-f2b0-4249-bbbf-77c999324ea4",
   "metadata": {},
   "outputs": [
    {
     "data": {
      "text/plain": [
       "True"
      ]
     },
     "execution_count": 19,
     "metadata": {},
     "output_type": "execute_result"
    }
   ],
   "source": [
    "# use of 'or' keywords >> 'or' keywords also helps to know the true or false by taking to operands.\n",
    "False or True"
   ]
  },
  {
   "cell_type": "code",
   "execution_count": 20,
   "id": "bcd83aac-596b-4d6f-b0fb-39144406b317",
   "metadata": {},
   "outputs": [
    {
     "data": {
      "text/plain": [
       "True"
      ]
     },
     "execution_count": 20,
     "metadata": {},
     "output_type": "execute_result"
    }
   ],
   "source": [
    "True or True"
   ]
  },
  {
   "cell_type": "code",
   "execution_count": 21,
   "id": "52983eaa-2835-48b8-a013-be1444a4b619",
   "metadata": {},
   "outputs": [
    {
     "data": {
      "text/plain": [
       "True"
      ]
     },
     "execution_count": 21,
     "metadata": {},
     "output_type": "execute_result"
    }
   ],
   "source": [
    "True or False"
   ]
  },
  {
   "cell_type": "code",
   "execution_count": 22,
   "id": "0ed29bd9-06e8-483d-8654-e575edefadaa",
   "metadata": {},
   "outputs": [
    {
     "data": {
      "text/plain": [
       "False"
      ]
     },
     "execution_count": 22,
     "metadata": {},
     "output_type": "execute_result"
    }
   ],
   "source": [
    "False or False"
   ]
  },
  {
   "cell_type": "code",
   "execution_count": 24,
   "id": "47ff2076-bd63-4d00-8a1f-e387b78f2ecc",
   "metadata": {},
   "outputs": [
    {
     "data": {
      "text/plain": [
       "True"
      ]
     },
     "execution_count": 24,
     "metadata": {},
     "output_type": "execute_result"
    }
   ],
   "source": [
    "not False"
   ]
  },
  {
   "cell_type": "code",
   "execution_count": 25,
   "id": "74633ed8-2e77-4ae6-952a-65711a2c74f9",
   "metadata": {},
   "outputs": [
    {
     "data": {
      "text/plain": [
       "False"
      ]
     },
     "execution_count": 25,
     "metadata": {},
     "output_type": "execute_result"
    }
   ],
   "source": [
    "not True"
   ]
  },
  {
   "cell_type": "code",
   "execution_count": 37,
   "id": "9f420c32-0bae-4575-8b05-fc9d6f0cf5ab",
   "metadata": {},
   "outputs": [
    {
     "name": "stdout",
     "output_type": "stream",
     "text": [
      "Second Division\n"
     ]
    }
   ],
   "source": [
    "# use of 'if' , 'else' , 'elif' , 'nested if else' keywords >>\n",
    "grade = 76\n",
    "if grade < 33:\n",
    "    print(\"Fail\")\n",
    "elif 33<=grade<=60:\n",
    "    print(\"Third Division\")\n",
    "elif 61<=grade<=80:\n",
    "    print(\"Second Division\")\n",
    "elif 81<=grade<=95:\n",
    "    print(\"First Division\")\n",
    "else:\n",
    "    print(\"First division with such an execellence\")"
   ]
  },
  {
   "cell_type": "code",
   "execution_count": 1,
   "id": "e1f425db-4f05-446c-a654-0e6f47c20e79",
   "metadata": {},
   "outputs": [],
   "source": [
    "# another keywords which are used in python are :- 'for' and 'while' , ('in' keyword also used here 'in' is a membership operator )"
   ]
  },
  {
   "cell_type": "code",
   "execution_count": 2,
   "id": "8e57dc8d-c005-458b-9431-75ad01ea5a44",
   "metadata": {},
   "outputs": [
    {
     "name": "stdout",
     "output_type": "stream",
     "text": [
      "m\n",
      "o\n",
      "h\n",
      "s\n",
      "i\n",
      "n\n"
     ]
    }
   ],
   "source": [
    "# 'for' keywords\n",
    "a = \"mohsin\"\n",
    "for i in a:\n",
    "    print(i)"
   ]
  },
  {
   "cell_type": "code",
   "execution_count": 3,
   "id": "72aa85ee-c6e2-416d-9e2d-acd2001115c5",
   "metadata": {},
   "outputs": [
    {
     "name": "stdout",
     "output_type": "stream",
     "text": [
      "mohsin\n",
      "abhishek\n",
      "adil\n",
      "sanjeev\n",
      "swati\n",
      "zeba\n",
      "ajay\n"
     ]
    }
   ],
   "source": [
    "name = [\"mohsin\" , \"abhishek\" , \"adil\" , \"sanjeev\" , \"swati\" , \"zeba\" , \"ajay\"]\n",
    "for adil in name:\n",
    "    print(adil)"
   ]
  },
  {
   "cell_type": "code",
   "execution_count": 5,
   "id": "33e198d3-3ebf-41a9-9936-eb35c104497d",
   "metadata": {},
   "outputs": [
    {
     "name": "stdout",
     "output_type": "stream",
     "text": [
      "15\n",
      "16\n",
      "17\n",
      "18\n",
      "19\n",
      "the code will execute successfully\n"
     ]
    }
   ],
   "source": [
    "# 'while' keywords\n",
    "a = 15\n",
    "b = 20\n",
    "while a <b:\n",
    "    print(a)\n",
    "    a = a+1\n",
    "else:\n",
    "    print(\"the code will execute successfully\")"
   ]
  },
  {
   "cell_type": "code",
   "execution_count": 6,
   "id": "144a7500-893d-4554-99b4-70b2efd6b786",
   "metadata": {},
   "outputs": [
    {
     "data": {
      "text/plain": [
       "True"
      ]
     },
     "execution_count": 6,
     "metadata": {},
     "output_type": "execute_result"
    }
   ],
   "source": [
    "# now here we give an example of identify operator (is) >> this is also a keyword of python\n",
    "a = 15\n",
    "b = 15\n",
    "a is b"
   ]
  },
  {
   "cell_type": "code",
   "execution_count": 7,
   "id": "49b82fcf-ed19-4e16-8d58-66b7d071dc7f",
   "metadata": {},
   "outputs": [
    {
     "data": {
      "text/plain": [
       "False"
      ]
     },
     "execution_count": 7,
     "metadata": {},
     "output_type": "execute_result"
    }
   ],
   "source": [
    "a = 15\n",
    "b = 20\n",
    "a is b"
   ]
  },
  {
   "cell_type": "markdown",
   "id": "e6e87898-d38c-488b-90cd-5b95d83a7d10",
   "metadata": {},
   "source": [
    "#### Notes 1 - Rules of defining a variables :- A variable start with letter (alphabet) or underscore character(_)"
   ]
  },
  {
   "cell_type": "code",
   "execution_count": 42,
   "id": "48da6bf2-e053-4e21-b439-1b45e07c2192",
   "metadata": {},
   "outputs": [
    {
     "data": {
      "text/plain": [
       "'mohsin'"
      ]
     },
     "execution_count": 42,
     "metadata": {},
     "output_type": "execute_result"
    }
   ],
   "source": [
    "# if we write \n",
    "name = \"mohsin\"\n",
    "name       # it will execute the code"
   ]
  },
  {
   "cell_type": "code",
   "execution_count": 43,
   "id": "29c35c09-f8e8-467c-8b78-9d4868db937c",
   "metadata": {},
   "outputs": [
    {
     "ename": "SyntaxError",
     "evalue": "invalid decimal literal (985624777.py, line 2)",
     "output_type": "error",
     "traceback": [
      "\u001b[0;36m  Cell \u001b[0;32mIn[43], line 2\u001b[0;36m\u001b[0m\n\u001b[0;31m    1name = \"mohsin\"\u001b[0m\n\u001b[0m    ^\u001b[0m\n\u001b[0;31mSyntaxError\u001b[0m\u001b[0;31m:\u001b[0m invalid decimal literal\n"
     ]
    }
   ],
   "source": [
    "# but if we write \n",
    "1name = \"mohsin\"\n",
    "1name           # it will give error , does't execute the code"
   ]
  },
  {
   "cell_type": "code",
   "execution_count": 44,
   "id": "ac8e68cc-28ce-4841-9a1e-0e1b6cde739b",
   "metadata": {},
   "outputs": [
    {
     "data": {
      "text/plain": [
       "'mohsin'"
      ]
     },
     "execution_count": 44,
     "metadata": {},
     "output_type": "execute_result"
    }
   ],
   "source": [
    "_name = \"mohsin\"\n",
    "_name   # it will execute the code because we use underscore character (_)"
   ]
  },
  {
   "cell_type": "code",
   "execution_count": 45,
   "id": "4bb887f1-a983-4cf3-9a7d-2512371fb2de",
   "metadata": {},
   "outputs": [
    {
     "data": {
      "text/plain": [
       "5"
      ]
     },
     "execution_count": 45,
     "metadata": {},
     "output_type": "execute_result"
    }
   ],
   "source": [
    "_ = 5\n",
    "_      # it will execute the code"
   ]
  },
  {
   "cell_type": "code",
   "execution_count": 48,
   "id": "7ee2c228-0fef-4563-8789-117b052e3d60",
   "metadata": {},
   "outputs": [
    {
     "data": {
      "text/plain": [
       "'pwskills'"
      ]
     },
     "execution_count": 48,
     "metadata": {},
     "output_type": "execute_result"
    }
   ],
   "source": [
    "data_science = \"pwskills\"\n",
    "data_science"
   ]
  },
  {
   "cell_type": "code",
   "execution_count": 47,
   "id": "84e4e093-e0d9-4269-8e2e-998748de70f8",
   "metadata": {},
   "outputs": [
    {
     "data": {
      "text/plain": [
       "'Mohsin'"
      ]
     },
     "execution_count": 47,
     "metadata": {},
     "output_type": "execute_result"
    }
   ],
   "source": [
    "# If we want to add comment then we can use the (#) symbol and easily add the comment \n",
    "# but if we have to use more than one line comment then we can use  ''' this symbol\n",
    "# example :-\n",
    "\n",
    "'''\n",
    "This is mango\n",
    "This is banana\n",
    "This is potato\n",
    "This is tomato \n",
    "This is grapes\n",
    "'''\n",
    "name = \"Mohsin\"\n",
    "name"
   ]
  },
  {
   "cell_type": "code",
   "execution_count": 49,
   "id": "65d301f2-cada-4747-83a0-57317695e3c4",
   "metadata": {},
   "outputs": [
    {
     "name": "stdin",
     "output_type": "stream",
     "text": [
      "What is your name  Mohsin\n"
     ]
    }
   ],
   "source": [
    "# Input / Output method :- this is used when we have to take variables with anyone else.\n",
    "# Example :-\n",
    "name = input(\"What is your name \")"
   ]
  },
  {
   "cell_type": "markdown",
   "id": "26c254c9-56c8-48b3-9656-783c01ef6cd9",
   "metadata": {},
   "source": [
    "#### Notes 2 - Python is highly sensitive programming language "
   ]
  },
  {
   "cell_type": "code",
   "execution_count": 55,
   "id": "9129aa19-8c36-4e6f-8484-61bc00d074b1",
   "metadata": {},
   "outputs": [
    {
     "name": "stdout",
     "output_type": "stream",
     "text": [
      "<class 'int'>\n",
      "<class 'float'>\n"
     ]
    }
   ],
   "source": [
    "# example :-\n",
    "a = 5\n",
    "A = 50.50\n",
    "print(type(a))\n",
    "print(type(A))  ## here small and capital letter are totally  diffrent in python language a != A in python."
   ]
  },
  {
   "cell_type": "markdown",
   "id": "05cb8422-3b55-4983-9e21-64a81656b71a",
   "metadata": {},
   "source": [
    "This means 'myVariable', 'myvariable', and 'MYVARIABLE' are all different identifiers in Python."
   ]
  },
  {
   "cell_type": "raw",
   "id": "4719a209-ae4c-4f4e-bd9e-46adf5d805e0",
   "metadata": {},
   "source": [
    "By the use of 'Markdown' , we can give headlines in pyhton .\n",
    "By the use of 'Raw' we can also give comment in python , just like i am giving here just now ."
   ]
  },
  {
   "cell_type": "raw",
   "id": "c1adac9f-d328-46b9-a415-0a431288fba2",
   "metadata": {},
   "source": [
    "So we can see here , there is so many predifined keywords in python  , in which some are explained here by me."
   ]
  },
  {
   "cell_type": "raw",
   "id": "727c6289-b44f-419f-add9-311ba5d4add6",
   "metadata": {},
   "source": [
    "This is the complete understanding of some predifined keywords in python."
   ]
  },
  {
   "cell_type": "markdown",
   "id": "aa2962b1-9696-437c-a5d4-6c3d417cc68a",
   "metadata": {},
   "source": [
    "## Question 3 - Compare and contrast mutable and immutable objects in python with examples."
   ]
  },
  {
   "cell_type": "markdown",
   "id": "069c6231-c5bc-4bb1-bb3a-596e1492da56",
   "metadata": {},
   "source": [
    "#### Mutable Objects"
   ]
  },
  {
   "cell_type": "raw",
   "id": "ac58e07a-7341-4427-abcd-17afefcd9f7f",
   "metadata": {},
   "source": [
    "Ans - Mutable object :- The container or object or item which value or state can be changed after the creation of container is known as mutable object\n",
    "* Mutable objects / support item assignment\n",
    "example :- List container >> List container always have in [] this bracket."
   ]
  },
  {
   "cell_type": "raw",
   "id": "0f5f2db8-537e-4e38-a409-ac0edff81b26",
   "metadata": {},
   "source": [
    "* List container :- list container is a type of mutable objects , because in list container we can change any variable or value very easily after the creation."
   ]
  },
  {
   "cell_type": "code",
   "execution_count": 1,
   "id": "42ee6287-fd15-4435-92c2-943350d6015d",
   "metadata": {},
   "outputs": [],
   "source": [
    "# list container\n",
    "name = [\"Mohsin\" , \"Swati\" , \"Zeba\" , \"Wahid\" , \"Abhishek\" , \"Bheema\" , \"Ajay\"] # this is a list container"
   ]
  },
  {
   "cell_type": "raw",
   "id": "d6075525-b315-4f7e-b36d-c71d542dff77",
   "metadata": {},
   "source": [
    "* now if we want to check the places of varibale \n",
    "* we count from left to right (0 , 1 , 2 , 3 , 4 , 5 , 6)\n",
    "* and if we want to count right to left (-1 , -2 , -3 , -4 , -5 , -6 , -7)\n",
    "* so this is the way to know the exact places of variables in memory block"
   ]
  },
  {
   "cell_type": "code",
   "execution_count": 3,
   "id": "f12b4aea-96fd-4583-ba9c-36842b19fcbb",
   "metadata": {},
   "outputs": [
    {
     "data": {
      "text/plain": [
       "'Mohsin'"
      ]
     },
     "execution_count": 3,
     "metadata": {},
     "output_type": "execute_result"
    }
   ],
   "source": [
    "#example ;-\n",
    "name = [\"Mohsin\" , \"Swati\" , \"Zeba\" , \"Wahid\" , \"Abhishek\" , \"Bheema\" , \"Ajay\"]\n",
    "name[0] #left to right"
   ]
  },
  {
   "cell_type": "code",
   "execution_count": 4,
   "id": "f8dabe63-7a10-41db-90ee-995f911fea38",
   "metadata": {},
   "outputs": [
    {
     "data": {
      "text/plain": [
       "'Ajay'"
      ]
     },
     "execution_count": 4,
     "metadata": {},
     "output_type": "execute_result"
    }
   ],
   "source": [
    "name[-1] #right to left"
   ]
  },
  {
   "cell_type": "code",
   "execution_count": 5,
   "id": "919c7fb4-2724-42b8-9d23-55d84c2c8d1f",
   "metadata": {},
   "outputs": [
    {
     "data": {
      "text/plain": [
       "'Bheema'"
      ]
     },
     "execution_count": 5,
     "metadata": {},
     "output_type": "execute_result"
    }
   ],
   "source": [
    "name[5] #left to right"
   ]
  },
  {
   "cell_type": "code",
   "execution_count": 6,
   "id": "14cc0631-75f3-46d6-bf1f-0b0af8c0b9c7",
   "metadata": {},
   "outputs": [
    {
     "data": {
      "text/plain": [
       "'Zeba'"
      ]
     },
     "execution_count": 6,
     "metadata": {},
     "output_type": "execute_result"
    }
   ],
   "source": [
    "name[-5] # right to left"
   ]
  },
  {
   "cell_type": "raw",
   "id": "e11abd31-25cb-455b-9cf2-0ce5821bfae7",
   "metadata": {},
   "source": [
    "so this is the way to know the exact position of variables in the memory block"
   ]
  },
  {
   "cell_type": "code",
   "execution_count": 7,
   "id": "9e2773fc-3925-46d6-a92f-bdef71513ab9",
   "metadata": {},
   "outputs": [
    {
     "data": {
      "text/plain": [
       "'Bheema'"
      ]
     },
     "execution_count": 7,
     "metadata": {},
     "output_type": "execute_result"
    }
   ],
   "source": [
    "# so now we are going to prove that , list container is a mutable object\n",
    "name = [\"Mohsin\" , \"Swati\" , \"Zeba\" , \"Wahid\" , \"Abhishek\" , \"Bheema\" , \"Ajay\"]\n",
    "name[5]"
   ]
  },
  {
   "cell_type": "code",
   "execution_count": 8,
   "id": "43ff31ad-8e9a-4df2-8524-198473ef782d",
   "metadata": {},
   "outputs": [
    {
     "data": {
      "text/plain": [
       "['Mohsin', 'Swati', 'Zeba', 'Wahid', 'Abhishek', 'Shruti', 'Ajay']"
      ]
     },
     "execution_count": 8,
     "metadata": {},
     "output_type": "execute_result"
    }
   ],
   "source": [
    "name[5] = \"Shruti\"\n",
    "name"
   ]
  },
  {
   "cell_type": "code",
   "execution_count": 9,
   "id": "dd7813a2-3752-4191-822d-c64466fc00b1",
   "metadata": {},
   "outputs": [
    {
     "data": {
      "text/plain": [
       "['Mohsin', 'Swati', True, 'Wahid', 'Abhishek', 'Bheema', 'Ajay']"
      ]
     },
     "execution_count": 9,
     "metadata": {},
     "output_type": "execute_result"
    }
   ],
   "source": [
    "# lets try once more\n",
    "name = [\"Mohsin\" , \"Swati\" , \"Zeba\" , \"Wahid\" , \"Abhishek\" , \"Bheema\" , \"Ajay\"]\n",
    "name[-5] = True\n",
    "name"
   ]
  },
  {
   "cell_type": "raw",
   "id": "c7eb43f5-394c-41b9-a21d-2680692ae042",
   "metadata": {},
   "source": [
    "So here we can see , value or state can be changed after they created of a container is known as mutable objects.\n",
    "so its proved that list container is a mutable objects."
   ]
  },
  {
   "cell_type": "markdown",
   "id": "6d605362-90c8-4207-a9ac-786061d9c2aa",
   "metadata": {},
   "source": [
    "### Immutable objects"
   ]
  },
  {
   "cell_type": "raw",
   "id": "f4ad1729-0043-4fc4-8cb1-4603951ec069",
   "metadata": {},
   "source": [
    "** Immutable objects - The container or objects whose state or value cannot be changed after the created are called immutable objects.\n",
    " * immutable objects / doesn't support item assignment\n",
    "example :- String container"
   ]
  },
  {
   "cell_type": "raw",
   "id": "96f72597-e95e-46a6-9455-b3b91f4f6637",
   "metadata": {},
   "source": [
    "* String container - the container who have all value in a string form is known as string container\n",
    "* string container indicates by (\"\") or ('')"
   ]
  },
  {
   "cell_type": "code",
   "execution_count": 10,
   "id": "4e3b53de-1431-48b0-8397-26d4d561d6f0",
   "metadata": {},
   "outputs": [
    {
     "data": {
      "text/plain": [
       "'Mohsin'"
      ]
     },
     "execution_count": 10,
     "metadata": {},
     "output_type": "execute_result"
    }
   ],
   "source": [
    "# example of string container\n",
    "name = \"Mohsin\"\n",
    "name"
   ]
  },
  {
   "cell_type": "raw",
   "id": "6ff8e928-de7c-4ca8-b591-984064a79601",
   "metadata": {},
   "source": [
    "Now lets try to prove that string container is immutable objects"
   ]
  },
  {
   "cell_type": "code",
   "execution_count": 2,
   "id": "2691f887-9637-4ebc-8644-6e5e6eff664b",
   "metadata": {},
   "outputs": [
    {
     "data": {
      "text/plain": [
       "'pwskills'"
      ]
     },
     "execution_count": 2,
     "metadata": {},
     "output_type": "execute_result"
    }
   ],
   "source": [
    "#example - \n",
    "data_analytics = \"pwskills\"\n",
    "data_analytics"
   ]
  },
  {
   "cell_type": "code",
   "execution_count": 3,
   "id": "c1e24c1d-10af-486e-a854-1ca51abe34e6",
   "metadata": {},
   "outputs": [
    {
     "data": {
      "text/plain": [
       "'k'"
      ]
     },
     "execution_count": 3,
     "metadata": {},
     "output_type": "execute_result"
    }
   ],
   "source": [
    "#now we try to change the value \n",
    "data_analytics[3]"
   ]
  },
  {
   "cell_type": "code",
   "execution_count": 13,
   "id": "68d3df18-a8fb-4d70-af3f-3b9217c1fe35",
   "metadata": {},
   "outputs": [
    {
     "ename": "TypeError",
     "evalue": "'str' object does not support item assignment",
     "output_type": "error",
     "traceback": [
      "\u001b[0;31m---------------------------------------------------------------------------\u001b[0m",
      "\u001b[0;31mTypeError\u001b[0m                                 Traceback (most recent call last)",
      "Cell \u001b[0;32mIn[13], line 1\u001b[0m\n\u001b[0;32m----> 1\u001b[0m \u001b[43mdata_analytics\u001b[49m\u001b[43m[\u001b[49m\u001b[38;5;241;43m3\u001b[39;49m\u001b[43m]\u001b[49m \u001b[38;5;241m=\u001b[39m \u001b[38;5;124m\"\u001b[39m\u001b[38;5;124mm\u001b[39m\u001b[38;5;124m\"\u001b[39m\n",
      "\u001b[0;31mTypeError\u001b[0m: 'str' object does not support item assignment"
     ]
    }
   ],
   "source": [
    "data_analytics[3] = \"m\""
   ]
  },
  {
   "cell_type": "code",
   "execution_count": 14,
   "id": "a1eb2b73-6c0e-4349-80cc-fcd070ff81f9",
   "metadata": {},
   "outputs": [
    {
     "data": {
      "text/plain": [
       "'l'"
      ]
     },
     "execution_count": 14,
     "metadata": {},
     "output_type": "execute_result"
    }
   ],
   "source": [
    "data_analytics[-3]"
   ]
  },
  {
   "cell_type": "code",
   "execution_count": 15,
   "id": "818c28a8-4713-42fb-9f9b-f577c3b93025",
   "metadata": {},
   "outputs": [
    {
     "ename": "TypeError",
     "evalue": "'str' object does not support item assignment",
     "output_type": "error",
     "traceback": [
      "\u001b[0;31m---------------------------------------------------------------------------\u001b[0m",
      "\u001b[0;31mTypeError\u001b[0m                                 Traceback (most recent call last)",
      "Cell \u001b[0;32mIn[15], line 1\u001b[0m\n\u001b[0;32m----> 1\u001b[0m \u001b[43mdata_analytics\u001b[49m\u001b[43m[\u001b[49m\u001b[38;5;241;43m-\u001b[39;49m\u001b[38;5;241;43m3\u001b[39;49m\u001b[43m]\u001b[49m \u001b[38;5;241m=\u001b[39m \u001b[38;5;124m\"\u001b[39m\u001b[38;5;124mm\u001b[39m\u001b[38;5;124m\"\u001b[39m\n",
      "\u001b[0;31mTypeError\u001b[0m: 'str' object does not support item assignment"
     ]
    }
   ],
   "source": [
    "data_analytics[-3] = \"m\""
   ]
  },
  {
   "cell_type": "raw",
   "id": "ff0343cd-3315-430d-9e11-15512ee49151",
   "metadata": {},
   "source": [
    "# so here we can see , an error occurs , and the type of error clearly says 'str' objects does not support item assignment , it means we cannot be able to change the value of string container and hence it,s proved that , the string container is a immutable container. "
   ]
  },
  {
   "cell_type": "raw",
   "id": "5004c8d0-aee6-4792-a16c-8a1c8d43a05a",
   "metadata": {},
   "source": [
    "This is the complete understanding of mutable and immutable objects."
   ]
  },
  {
   "cell_type": "markdown",
   "id": "ae2cdf53-73d4-4b73-9d21-fb1bd6c56782",
   "metadata": {},
   "source": [
    "## Question 4 - Discuss the diffrent types of operators in python and provides examples of how they are used."
   ]
  },
  {
   "cell_type": "raw",
   "id": "7d4faa2d-ecd6-4c88-b0c1-e14ef38f8c69",
   "metadata": {},
   "source": [
    "Ans - Special keywords / symbols that are use to perform operations on values or variables are known as operators.\n",
    "     * when we manupulate the data is known as operations and this process of operations is done by operators.\n",
    "     \n",
    "** The diffrent types of operators are :- \n",
    "1 - Arithmetic Operators\n",
    "2 - Comparison Operators\n",
    "3 - Logical Operators\n",
    "4 - Assignment Operators\n",
    "5 - Membership Operators\n",
    "6 - Identity operators\n",
    "7 - Bitwise Operators"
   ]
  },
  {
   "cell_type": "markdown",
   "id": "53b0c03b-0beb-4e0e-a0e0-5a48d6ffaf3c",
   "metadata": {},
   "source": [
    "### Arithmatic Operator"
   ]
  },
  {
   "cell_type": "raw",
   "id": "9958245e-dafe-4ab8-bf35-bf9ec97482ea",
   "metadata": {},
   "source": [
    "1 - Arithmetic Operators - Basically arithmatic operators are used to do the diffrent types of calculations in python like addition , substraction , division , multiplication etc.\n",
    "\n",
    "** types of arithmatic operators :-\n",
    "\n",
    "* addition operator (+)\n",
    "* substraction operator (-)\n",
    "* multiplication operator (*)\n",
    "* division operator (/)\n",
    "* modulus operator (%)\n",
    "* floor operator (//)\n",
    "* exponentiation operator (**)"
   ]
  },
  {
   "cell_type": "code",
   "execution_count": 1,
   "id": "b36171d7-2860-499a-8c05-d3023378cef5",
   "metadata": {},
   "outputs": [
    {
     "data": {
      "text/plain": [
       "35"
      ]
     },
     "execution_count": 1,
     "metadata": {},
     "output_type": "execute_result"
    }
   ],
   "source": [
    "# addition operator (+) :- This operator is basically used for additng the values in python.\n",
    "# example :-\n",
    "a = 15\n",
    "b = 20 \n",
    "a + b # This is the addition operator"
   ]
  },
  {
   "cell_type": "code",
   "execution_count": 2,
   "id": "8c942d50-ff24-4566-8f1d-525dcba5bc91",
   "metadata": {},
   "outputs": [
    {
     "data": {
      "text/plain": [
       "26733"
      ]
     },
     "execution_count": 2,
     "metadata": {},
     "output_type": "execute_result"
    }
   ],
   "source": [
    "a = 1058\n",
    "b = 25675\n",
    "a + b  # this is the addition operator"
   ]
  },
  {
   "cell_type": "code",
   "execution_count": 3,
   "id": "3a639a9b-9f94-4f6f-9d8a-3c57dffd25be",
   "metadata": {},
   "outputs": [
    {
     "data": {
      "text/plain": [
       "-5"
      ]
     },
     "execution_count": 3,
     "metadata": {},
     "output_type": "execute_result"
    }
   ],
   "source": [
    "# substraction operator (-) :- This operator is basically used for substracting the values in python.\n",
    "# example :-\n",
    "a = 15\n",
    "b = 20 \n",
    "a - b # so here this is substracting operator"
   ]
  },
  {
   "cell_type": "code",
   "execution_count": 4,
   "id": "4f866f68-b95c-4bd9-99e7-43efbf794091",
   "metadata": {},
   "outputs": [
    {
     "data": {
      "text/plain": [
       "24617"
      ]
     },
     "execution_count": 4,
     "metadata": {},
     "output_type": "execute_result"
    }
   ],
   "source": [
    "a = 1058\n",
    "b = 25675\n",
    "b - a     # this is substracting operaator"
   ]
  },
  {
   "cell_type": "code",
   "execution_count": 5,
   "id": "33af83d8-66cc-4ef1-81eb-7826cd4eacf5",
   "metadata": {},
   "outputs": [
    {
     "data": {
      "text/plain": [
       "1625"
      ]
     },
     "execution_count": 5,
     "metadata": {},
     "output_type": "execute_result"
    }
   ],
   "source": [
    "# multiplication operator (*) :- This operator is basically used to multiply the values in python. \n",
    "# example :-\n",
    "a = 65\n",
    "b = 25\n",
    "a * b   # This is multiplication operator"
   ]
  },
  {
   "cell_type": "code",
   "execution_count": 6,
   "id": "ba0a5926-4a0e-4dc9-afcf-9735ece4d5d1",
   "metadata": {},
   "outputs": [
    {
     "data": {
      "text/plain": [
       "3773808902"
      ]
     },
     "execution_count": 6,
     "metadata": {},
     "output_type": "execute_result"
    }
   ],
   "source": [
    "a = 25862\n",
    "b = 145921\n",
    "a * b       # by the use of this operator we can multiply any big or small values"
   ]
  },
  {
   "cell_type": "code",
   "execution_count": 7,
   "id": "e8f7248b-8aab-439f-afbe-5d578c6bb9d3",
   "metadata": {},
   "outputs": [
    {
     "data": {
      "text/plain": [
       "510120"
      ]
     },
     "execution_count": 7,
     "metadata": {},
     "output_type": "execute_result"
    }
   ],
   "source": [
    "a = 52\n",
    "b = 654\n",
    "c = 15\n",
    "a * b * c # this is the multiplication operator in python."
   ]
  },
  {
   "cell_type": "code",
   "execution_count": 8,
   "id": "15b476ee-fbce-462f-8757-e90c317d727e",
   "metadata": {},
   "outputs": [
    {
     "data": {
      "text/plain": [
       "0.8405797101449275"
      ]
     },
     "execution_count": 8,
     "metadata": {},
     "output_type": "execute_result"
    }
   ],
   "source": [
    "# division operator (/) :-  This operator is basically used for divide the values in python.\n",
    "# example :-\n",
    "a = 58\n",
    "b = 69\n",
    "a / b    # this is the division operator "
   ]
  },
  {
   "cell_type": "code",
   "execution_count": 9,
   "id": "a58441cd-0502-4496-abcb-738a548ac650",
   "metadata": {},
   "outputs": [
    {
     "data": {
      "text/plain": [
       "5.0"
      ]
     },
     "execution_count": 9,
     "metadata": {},
     "output_type": "execute_result"
    }
   ],
   "source": [
    "a = 25\n",
    "b = 5\n",
    "a / b"
   ]
  },
  {
   "cell_type": "code",
   "execution_count": 10,
   "id": "a5366e13-8cba-4d24-b7da-60ea93e2d821",
   "metadata": {},
   "outputs": [
    {
     "data": {
      "text/plain": [
       "0.16666666666666669"
      ]
     },
     "execution_count": 10,
     "metadata": {},
     "output_type": "execute_result"
    }
   ],
   "source": [
    "a = 25\n",
    "b = 15\n",
    "c = 10\n",
    "a / b / c"
   ]
  },
  {
   "cell_type": "code",
   "execution_count": 11,
   "id": "2047e7ff-ec70-4286-a4fe-ef83a9f926f8",
   "metadata": {},
   "outputs": [
    {
     "data": {
      "text/plain": [
       "0"
      ]
     },
     "execution_count": 11,
     "metadata": {},
     "output_type": "execute_result"
    }
   ],
   "source": [
    "# modulus operator :-  This operator is basically used for getting the remainder , when we divide the values in python.\n",
    "# example :-\n",
    "a = 50\n",
    "b = 2\n",
    "a % b # this is the module operator , so here we can see the division is succssefull and there is no remainder left thats why we get zero."
   ]
  },
  {
   "cell_type": "code",
   "execution_count": 12,
   "id": "01aa37ce-6a20-4149-916b-f978e066a704",
   "metadata": {},
   "outputs": [
    {
     "data": {
      "text/plain": [
       "7"
      ]
     },
     "execution_count": 12,
     "metadata": {},
     "output_type": "execute_result"
    }
   ],
   "source": [
    "a = 51\n",
    "b = 11\n",
    "a % b # so here we can see the division gives remainder 7 , that is the use of modulud operator"
   ]
  },
  {
   "cell_type": "code",
   "execution_count": 1,
   "id": "b3da201e-1995-448d-af2b-75531143777a",
   "metadata": {},
   "outputs": [
    {
     "data": {
      "text/plain": [
       "66"
      ]
     },
     "execution_count": 1,
     "metadata": {},
     "output_type": "execute_result"
    }
   ],
   "source": [
    "a = 1586\n",
    "b = 152\n",
    "a % b"
   ]
  },
  {
   "cell_type": "code",
   "execution_count": 2,
   "id": "149d573c-ce3d-4338-abb9-fccc326cc697",
   "metadata": {},
   "outputs": [
    {
     "data": {
      "text/plain": [
       "13"
      ]
     },
     "execution_count": 2,
     "metadata": {},
     "output_type": "execute_result"
    }
   ],
   "source": [
    "# floor operator (//) :-  This operator is basically used for getting the nearest value of quotient , when quotient is in decimal form.\n",
    "# example:-\n",
    "a = 157\n",
    "b = 12\n",
    "a // b # this is the floor operator , which gives the nearest value before decimal point."
   ]
  },
  {
   "cell_type": "code",
   "execution_count": 3,
   "id": "cc6806bf-ced1-47bb-bc6a-0d887220e056",
   "metadata": {},
   "outputs": [
    {
     "data": {
      "text/plain": [
       "0"
      ]
     },
     "execution_count": 3,
     "metadata": {},
     "output_type": "execute_result"
    }
   ],
   "source": [
    "a = 157\n",
    "b = 175\n",
    "a // b # here we can see the floor value is zero ,because the quatient of 157 and 175 is 0.897 ,so the nearest value before decimal is zero."
   ]
  },
  {
   "cell_type": "code",
   "execution_count": 5,
   "id": "6f5f2600-471a-4eb7-a31c-6175ed843799",
   "metadata": {},
   "outputs": [
    {
     "data": {
      "text/plain": [
       "3"
      ]
     },
     "execution_count": 5,
     "metadata": {},
     "output_type": "execute_result"
    }
   ],
   "source": [
    "a = 21\n",
    "b = 6\n",
    "a // b"
   ]
  },
  {
   "cell_type": "code",
   "execution_count": 6,
   "id": "027d553e-6660-4e11-8e12-3fc92cb7497a",
   "metadata": {},
   "outputs": [
    {
     "data": {
      "text/plain": [
       "8"
      ]
     },
     "execution_count": 6,
     "metadata": {},
     "output_type": "execute_result"
    }
   ],
   "source": [
    "# exponentiation operator (**) :-  This operator is basically used for getting the power of any value , like 2 to the power 4 = 16.\n",
    "#example :-\n",
    "2 ** 3  # this is the exponentiation operator"
   ]
  },
  {
   "cell_type": "code",
   "execution_count": 7,
   "id": "9b75bc40-5d39-48f0-b125-6e7d95eee0ba",
   "metadata": {},
   "outputs": [
    {
     "data": {
      "text/plain": [
       "1267650600228229401496703205376"
      ]
     },
     "execution_count": 7,
     "metadata": {},
     "output_type": "execute_result"
    }
   ],
   "source": [
    "2 ** 100"
   ]
  },
  {
   "cell_type": "markdown",
   "id": "b7b3b496-32d4-4417-ab04-3bbf2b9d9677",
   "metadata": {},
   "source": [
    "### Comparison Operator"
   ]
  },
  {
   "cell_type": "raw",
   "id": "0d89d535-1ffb-43be-8308-01e69d4c2fde",
   "metadata": {},
   "source": [
    "2 - Comparision operator :- This operator is basically used for the comparision between two variables or value and in return we get boolean value.\n",
    "\n",
    "** types of comparison operator :-\n",
    "\n",
    "* Equals to (==)\n",
    "* not equals to (!=)\n",
    "* greater than (>)\n",
    "* smaller than (<)\n",
    "* greater than or equals to (>=)\n",
    "* smaller than or equals to (<=)"
   ]
  },
  {
   "cell_type": "code",
   "execution_count": 8,
   "id": "1d681600-2664-41dc-bf94-8c599478eefb",
   "metadata": {},
   "outputs": [
    {
     "data": {
      "text/plain": [
       "True"
      ]
     },
     "execution_count": 8,
     "metadata": {},
     "output_type": "execute_result"
    }
   ],
   "source": [
    "# equals to (==) :- This operator is used when we have to show two variables or value are equal.\n",
    "# example :-\n",
    "a = 15\n",
    "b = 15\n",
    "a == b # this is the 'equals to' operator , and we can see after execution we get boolean value."
   ]
  },
  {
   "cell_type": "raw",
   "id": "85fb1ad5-af8f-460a-85c4-63e84bcef93d",
   "metadata": {},
   "source": [
    "here we get true because the condition is correct , and we get result in boolean value."
   ]
  },
  {
   "cell_type": "code",
   "execution_count": 9,
   "id": "ac9da1dc-5334-4a5d-82c9-853554fa8f39",
   "metadata": {},
   "outputs": [
    {
     "data": {
      "text/plain": [
       "False"
      ]
     },
     "execution_count": 9,
     "metadata": {},
     "output_type": "execute_result"
    }
   ],
   "source": [
    "a = 15\n",
    "b = 19\n",
    "a == b"
   ]
  },
  {
   "cell_type": "raw",
   "id": "1f69d049-ef8f-4b83-9a32-67c587232f03",
   "metadata": {},
   "source": [
    "here we get false because the condition is not correct ( 15 is not equals toi 19 ) , and we get result in boolean value."
   ]
  },
  {
   "cell_type": "code",
   "execution_count": 10,
   "id": "a1f7612e-f41c-4458-ba62-67f97b5c4348",
   "metadata": {},
   "outputs": [
    {
     "data": {
      "text/plain": [
       "True"
      ]
     },
     "execution_count": 10,
     "metadata": {},
     "output_type": "execute_result"
    }
   ],
   "source": [
    "# not equals to (!=) :- this operator is used when we compare values and the values are not equals to each other .\n",
    "# example :-\n",
    "a = 50\n",
    "b = 15\n",
    "a != b # this is the 'not equals to' operator"
   ]
  },
  {
   "cell_type": "raw",
   "id": "a3b1b37a-ace5-49a5-b198-1104e9b2cf3c",
   "metadata": {},
   "source": [
    "here we get true because the condition according to 'not equals to operator' is correct , and we get result in boolean value."
   ]
  },
  {
   "cell_type": "code",
   "execution_count": 11,
   "id": "3dc87fe0-c126-43ba-93cf-6a28fa3e52f2",
   "metadata": {},
   "outputs": [
    {
     "data": {
      "text/plain": [
       "False"
      ]
     },
     "execution_count": 11,
     "metadata": {},
     "output_type": "execute_result"
    }
   ],
   "source": [
    "a = 15\n",
    "b = 15\n",
    "a != b   # this is the 'not equals to' operator"
   ]
  },
  {
   "cell_type": "raw",
   "id": "42f528e7-5a52-4661-bae5-a3b384b89b4e",
   "metadata": {},
   "source": [
    "here we get false because the condition according to 'not equals to operator' is not correct , and we get result in boolean value."
   ]
  },
  {
   "cell_type": "code",
   "execution_count": 13,
   "id": "dfc5398f-be4a-4665-8139-60a001042976",
   "metadata": {},
   "outputs": [
    {
     "data": {
      "text/plain": [
       "True"
      ]
     },
     "execution_count": 13,
     "metadata": {},
     "output_type": "execute_result"
    }
   ],
   "source": [
    "a = 1000\n",
    "b = 100\n",
    "a != b    # this is the 'not equals to' operator"
   ]
  },
  {
   "cell_type": "raw",
   "id": "56dc9cf7-ff3d-4e81-ba63-b8f6757b094b",
   "metadata": {},
   "source": [
    "here we get true because the condition according to 'not equals to operator' is correct , and we get result in boolean value."
   ]
  },
  {
   "cell_type": "code",
   "execution_count": 14,
   "id": "d25f0c6a-c7e4-4b5c-8b5a-d3f4d7a2380e",
   "metadata": {},
   "outputs": [
    {
     "data": {
      "text/plain": [
       "True"
      ]
     },
     "execution_count": 14,
     "metadata": {},
     "output_type": "execute_result"
    }
   ],
   "source": [
    "# greater than (>) :- this operator is used when we have to compare any two value , and want to know which value is greater.\n",
    "# example :- \n",
    "a = 50\n",
    "b = 42\n",
    "a > b   # this is the 'greater than' operator"
   ]
  },
  {
   "cell_type": "raw",
   "id": "f47e457f-81d9-48e6-9867-5596a8334af2",
   "metadata": {},
   "source": [
    "and here we get true because the condition according to 'greater than' operator is correct , and we get result in boolean value."
   ]
  },
  {
   "cell_type": "code",
   "execution_count": 15,
   "id": "7886456c-5a35-4c7a-8060-641888db646b",
   "metadata": {},
   "outputs": [
    {
     "data": {
      "text/plain": [
       "False"
      ]
     },
     "execution_count": 15,
     "metadata": {},
     "output_type": "execute_result"
    }
   ],
   "source": [
    "a = 85\n",
    "b = 100\n",
    "a > b    # this is the 'greater than' operator"
   ]
  },
  {
   "cell_type": "raw",
   "id": "abe5524b-98a3-442d-a494-5fad65e56a63",
   "metadata": {},
   "source": [
    "and here we get false because the condition according to 'greater than' operator is not correct , and we get result in boolean value."
   ]
  },
  {
   "cell_type": "code",
   "execution_count": 16,
   "id": "cac7e92f-41cb-4858-973f-692f482f2051",
   "metadata": {},
   "outputs": [
    {
     "data": {
      "text/plain": [
       "True"
      ]
     },
     "execution_count": 16,
     "metadata": {},
     "output_type": "execute_result"
    }
   ],
   "source": [
    "# smaller than (<) :- this operator is used when we have to compare any two value , and want to know which value is smaller.\n",
    "# example :- \n",
    "a = 55\n",
    "b = 65\n",
    "a < b"
   ]
  },
  {
   "cell_type": "raw",
   "id": "fc4a711f-9b23-48e8-b64b-0e65e7fbeba5",
   "metadata": {},
   "source": [
    "and here we get true because the condition according to 'smaller than' operator is correct , and we get result in boolean value."
   ]
  },
  {
   "cell_type": "code",
   "execution_count": 17,
   "id": "4aaea369-5328-4776-a0c6-ac1bece0fef9",
   "metadata": {},
   "outputs": [
    {
     "data": {
      "text/plain": [
       "False"
      ]
     },
     "execution_count": 17,
     "metadata": {},
     "output_type": "execute_result"
    }
   ],
   "source": [
    "a = 100\n",
    "b = 25\n",
    "a < b"
   ]
  },
  {
   "cell_type": "raw",
   "id": "732eddd4-f5a0-44a1-ad1f-f74095bfbc02",
   "metadata": {},
   "source": [
    "and here we get false because the condition according to 'smaller than' operator is not correct , and we get result in boolean value."
   ]
  },
  {
   "cell_type": "code",
   "execution_count": 18,
   "id": "ea187ffa-2cb2-4cd5-be78-0cd823eed2d0",
   "metadata": {},
   "outputs": [
    {
     "data": {
      "text/plain": [
       "False"
      ]
     },
     "execution_count": 18,
     "metadata": {},
     "output_type": "execute_result"
    }
   ],
   "source": [
    "# greater than or equals to (>=) :- this operator is used when we have to compare any two value , and want to know the value is greater or equals to.\n",
    "# example :-\n",
    "a = 55\n",
    "b = 58\n",
    "a >= b # this is the 'greater than or equals to' operator"
   ]
  },
  {
   "cell_type": "raw",
   "id": "0a14055f-a258-4e76-8998-a61a0ab8be88",
   "metadata": {},
   "source": [
    "and here we get false because the condition according to 'greater than or equals to' operator is not correct , and we get result in boolean value. in this statement both the condition greater than or equaks to is not correct."
   ]
  },
  {
   "cell_type": "code",
   "execution_count": 19,
   "id": "e1ba3b2f-2725-4df5-8c27-3695398f480e",
   "metadata": {},
   "outputs": [
    {
     "data": {
      "text/plain": [
       "True"
      ]
     },
     "execution_count": 19,
     "metadata": {},
     "output_type": "execute_result"
    }
   ],
   "source": [
    "a = 65\n",
    "b = 45\n",
    "a >= b"
   ]
  },
  {
   "cell_type": "raw",
   "id": "d6e5ce54-bcaa-4bd5-a61f-13caed555ee3",
   "metadata": {},
   "source": [
    "and here we get true because the condition according to 'greater than or equals to' operator is correct , because here in 'greater than or equals to' oprtaor  have two conditions :-\n",
    "first condition is :- 'a' is greater than 'b' or \n",
    "second condition is :- 'a' equals to 'b' \n",
    "so (a = 65 and b = 45) , according to  first condition this statement is correct , that's why we got result true in boolean value. "
   ]
  },
  {
   "cell_type": "code",
   "execution_count": 20,
   "id": "3ad66cbd-f9ee-440d-8cf2-502f065b7fd1",
   "metadata": {},
   "outputs": [
    {
     "data": {
      "text/plain": [
       "True"
      ]
     },
     "execution_count": 20,
     "metadata": {},
     "output_type": "execute_result"
    }
   ],
   "source": [
    "a = 50\n",
    "b = 50\n",
    "a >= b"
   ]
  },
  {
   "cell_type": "raw",
   "id": "e8ed79e4-4f42-48b1-b08d-f90610c26a5d",
   "metadata": {},
   "source": [
    "here the condition is true because it follow the 'greater than equals to' operator ."
   ]
  },
  {
   "cell_type": "code",
   "execution_count": 21,
   "id": "b302cbad-1adb-4e9e-8f09-ea1f39a69324",
   "metadata": {},
   "outputs": [
    {
     "data": {
      "text/plain": [
       "True"
      ]
     },
     "execution_count": 21,
     "metadata": {},
     "output_type": "execute_result"
    }
   ],
   "source": [
    "# smaller than or equals to (<=) :- this operator is used when we have to compare any two value , and want to know the value is smaller or equals to.\n",
    "# example :-\n",
    "a = 55\n",
    "b = 58\n",
    "a <= b # this is the 'smaller than or equals to'"
   ]
  },
  {
   "cell_type": "raw",
   "id": "3e48ea1c-7bc9-43f5-afc0-40a7d1c43961",
   "metadata": {},
   "source": [
    "we get true because this statement follow the 'smaller than or equals to' operator.because 'a' is smaller than 'b' ."
   ]
  },
  {
   "cell_type": "code",
   "execution_count": 22,
   "id": "710f1bb8-01a4-4ac5-acc5-a60a242ecba5",
   "metadata": {},
   "outputs": [
    {
     "data": {
      "text/plain": [
       "False"
      ]
     },
     "execution_count": 22,
     "metadata": {},
     "output_type": "execute_result"
    }
   ],
   "source": [
    "a = 100\n",
    "b = 10\n",
    "a <= b"
   ]
  },
  {
   "cell_type": "raw",
   "id": "4ff28ce7-67a5-4bcf-9d45-98685a91d94b",
   "metadata": {},
   "source": [
    "we get false because this statement is not correct for  the 'smaller than or equals to' operator , because 'a' is not smaller than 'b' niether equals to 'b'."
   ]
  },
  {
   "cell_type": "code",
   "execution_count": 23,
   "id": "33f51580-96a0-4daf-bc9b-3a0c8df6ae6b",
   "metadata": {},
   "outputs": [
    {
     "data": {
      "text/plain": [
       "True"
      ]
     },
     "execution_count": 23,
     "metadata": {},
     "output_type": "execute_result"
    }
   ],
   "source": [
    "a = 20\n",
    "b = 20\n",
    "a <= b"
   ]
  },
  {
   "cell_type": "raw",
   "id": "5b76109b-d6d9-4634-8424-45efaddfebad",
   "metadata": {},
   "source": [
    "we get true because this statement is correct for the 'smaller than or equals to' operator, because 'a' is not smaller than 'b' , but 'a' is equals to 'b' , thats why this condition is correct."
   ]
  },
  {
   "cell_type": "markdown",
   "id": "f814f19d-492b-4d01-a79e-8846a23b1517",
   "metadata": {},
   "source": [
    "### Logical Operator"
   ]
  },
  {
   "cell_type": "raw",
   "id": "4df3535f-a26d-4f31-9a3d-c9c60ab21df6",
   "metadata": {},
   "source": [
    "3 - Logical operator :- This operator is basically used to combine multiple conditions together and evalute in a single boolean.\n",
    "\n",
    "** type of logical operator :-\n",
    "\n",
    "* and\n",
    "* or\n",
    "* not"
   ]
  },
  {
   "cell_type": "raw",
   "id": "75f8114e-790b-4f1c-8892-680b40c924a5",
   "metadata": {},
   "source": [
    "# 'and' opertor :- this operator takes two operands and return true if only both operands are true.\n",
    "example :-\n",
    "\n",
    "True and True = True\n",
    "True and False = False\n",
    "False and True = False\n",
    "False and False = False"
   ]
  },
  {
   "cell_type": "code",
   "execution_count": 2,
   "id": "c556bc2a-bcd1-4743-a413-6603a05e4e0f",
   "metadata": {},
   "outputs": [
    {
     "data": {
      "text/plain": [
       "False"
      ]
     },
     "execution_count": 2,
     "metadata": {},
     "output_type": "execute_result"
    }
   ],
   "source": [
    "True and False"
   ]
  },
  {
   "cell_type": "code",
   "execution_count": 3,
   "id": "baa55966-0447-46fe-892a-627319a46a2b",
   "metadata": {},
   "outputs": [
    {
     "data": {
      "text/plain": [
       "True"
      ]
     },
     "execution_count": 3,
     "metadata": {},
     "output_type": "execute_result"
    }
   ],
   "source": [
    "True and True"
   ]
  },
  {
   "cell_type": "code",
   "execution_count": 4,
   "id": "1f84bf07-1977-4353-9aae-7ddc39e6dda0",
   "metadata": {},
   "outputs": [
    {
     "data": {
      "text/plain": [
       "False"
      ]
     },
     "execution_count": 4,
     "metadata": {},
     "output_type": "execute_result"
    }
   ],
   "source": [
    "False and True"
   ]
  },
  {
   "cell_type": "code",
   "execution_count": 5,
   "id": "099e7b41-d033-4196-8dcd-33eaafccadf0",
   "metadata": {},
   "outputs": [
    {
     "data": {
      "text/plain": [
       "False"
      ]
     },
     "execution_count": 5,
     "metadata": {},
     "output_type": "execute_result"
    }
   ],
   "source": [
    "False and False"
   ]
  },
  {
   "cell_type": "raw",
   "id": "10729b20-3c65-4ab9-9ed3-08a0531f0ac5",
   "metadata": {},
   "source": [
    "# 'or' operator :- this operator takes two operands and return true if any one operand is true , if both operands is false then only 'or' operator gives false.\n",
    "\n",
    "example :-\n",
    "\n",
    "True or True = True\n",
    "True or False = True\n",
    "False or True = True\n",
    "False or False = False"
   ]
  },
  {
   "cell_type": "code",
   "execution_count": 6,
   "id": "178f70a4-b3dc-4406-9dc2-6d3842aba2e6",
   "metadata": {},
   "outputs": [
    {
     "data": {
      "text/plain": [
       "True"
      ]
     },
     "execution_count": 6,
     "metadata": {},
     "output_type": "execute_result"
    }
   ],
   "source": [
    "# examples:-\n",
    "True or True"
   ]
  },
  {
   "cell_type": "code",
   "execution_count": 7,
   "id": "75fa7591-c213-4bd2-9a99-ce22d51dc042",
   "metadata": {},
   "outputs": [
    {
     "data": {
      "text/plain": [
       "True"
      ]
     },
     "execution_count": 7,
     "metadata": {},
     "output_type": "execute_result"
    }
   ],
   "source": [
    "False or True"
   ]
  },
  {
   "cell_type": "code",
   "execution_count": 8,
   "id": "e1c1b2f0-d73b-42c5-8a27-6c1f3f6f38d4",
   "metadata": {},
   "outputs": [
    {
     "data": {
      "text/plain": [
       "True"
      ]
     },
     "execution_count": 8,
     "metadata": {},
     "output_type": "execute_result"
    }
   ],
   "source": [
    "True or False"
   ]
  },
  {
   "cell_type": "code",
   "execution_count": 9,
   "id": "a0738903-bb29-41f6-982d-9e8a11f71698",
   "metadata": {},
   "outputs": [
    {
     "data": {
      "text/plain": [
       "False"
      ]
     },
     "execution_count": 9,
     "metadata": {},
     "output_type": "execute_result"
    }
   ],
   "source": [
    "False or False"
   ]
  },
  {
   "cell_type": "raw",
   "id": "134dcc73-8166-4b7b-b5db-40a8b459833a",
   "metadata": {},
   "source": [
    "so here we can see when both the operands are false then only 'or' operators gives false."
   ]
  },
  {
   "cell_type": "markdown",
   "id": "9651ba30-fdba-4f6b-bae1-e47067405ae7",
   "metadata": {},
   "source": [
    "### Notes - The value of True and False in python are :-\n",
    "###          True = 1\n",
    "###          False = 0"
   ]
  },
  {
   "cell_type": "code",
   "execution_count": 12,
   "id": "016ef559-fab8-44c8-80e7-096714dd4c3f",
   "metadata": {},
   "outputs": [
    {
     "data": {
      "text/plain": [
       "False"
      ]
     },
     "execution_count": 12,
     "metadata": {},
     "output_type": "execute_result"
    }
   ],
   "source": [
    "# 'not' operator :- This operator is basically used when we give opposite command of any boolean value.\n",
    "# example :-\n",
    "\n",
    "not True"
   ]
  },
  {
   "cell_type": "code",
   "execution_count": 13,
   "id": "65f76c9f-f96d-4fae-bd13-095f8cf172c2",
   "metadata": {},
   "outputs": [
    {
     "data": {
      "text/plain": [
       "True"
      ]
     },
     "execution_count": 13,
     "metadata": {},
     "output_type": "execute_result"
    }
   ],
   "source": [
    "not False"
   ]
  },
  {
   "cell_type": "raw",
   "id": "aa6113a4-5da4-4108-8b04-e3bd8d0d900e",
   "metadata": {},
   "source": [
    "so this is the whole idea about logical operator."
   ]
  },
  {
   "cell_type": "markdown",
   "id": "d5765f1a-cefd-4501-a2ff-96720bf97da6",
   "metadata": {},
   "source": [
    "### Assignment Operator"
   ]
  },
  {
   "cell_type": "raw",
   "id": "c8fb69db-7c84-402b-afbc-54e0ec5904d6",
   "metadata": {},
   "source": [
    "4 - Assignment Operator :- This operator is used to assign the variables by the help of memory space .\n",
    "\n",
    "** type of assignment operator:-\n",
    "\n",
    "* assignment (=)\n",
    "* addition assignment (+=)\n",
    "* substraction assignment (-=)\n",
    "* multiplication assignment (*=)\n",
    "* division assignment (/=)"
   ]
  },
  {
   "cell_type": "code",
   "execution_count": 14,
   "id": "a2bf2906-f8d4-4579-ac46-924edf42df36",
   "metadata": {},
   "outputs": [
    {
     "data": {
      "text/plain": [
       "50"
      ]
     },
     "execution_count": 14,
     "metadata": {},
     "output_type": "execute_result"
    }
   ],
   "source": [
    "# assignment operator (=) :- this operator is used whwn we have to assign any varibles by any memory space.\n",
    "\n",
    "# example :-\n",
    "\n",
    "a = 50  # assignment operator(=)\n",
    "a"
   ]
  },
  {
   "cell_type": "raw",
   "id": "6f0d3849-cf74-463b-b2ea-66594464721f",
   "metadata": {},
   "source": [
    "so here 'a' is memory space name which assign the value of 50 , ans this process is known as assignment"
   ]
  },
  {
   "cell_type": "raw",
   "id": "279644d4-983c-478c-8fc9-bfccb7ac6317",
   "metadata": {},
   "source": [
    "* addition assignment operator (+=) :- this operator is used when we have to give command to add any same type of variables with the assign varibales and reassign the  same variable with the same memory space."
   ]
  },
  {
   "cell_type": "code",
   "execution_count": 16,
   "id": "7180f2d7-4f1d-44ea-b1ad-ef1639841081",
   "metadata": {},
   "outputs": [
    {
     "data": {
      "text/plain": [
       "70"
      ]
     },
     "execution_count": 16,
     "metadata": {},
     "output_type": "execute_result"
    }
   ],
   "source": [
    "# example :-\n",
    "a = 50 # this is assignment operator\n",
    "a +=20 # this is addition assignment operator\n",
    "a"
   ]
  },
  {
   "cell_type": "code",
   "execution_count": 17,
   "id": "96576039-339b-4bfa-826b-b17acb7c522b",
   "metadata": {},
   "outputs": [
    {
     "data": {
      "text/plain": [
       "150"
      ]
     },
     "execution_count": 17,
     "metadata": {},
     "output_type": "execute_result"
    }
   ],
   "source": [
    "a = 100\n",
    "a += 50\n",
    "a"
   ]
  },
  {
   "cell_type": "raw",
   "id": "277898ca-21ac-4344-a974-383bf0133d98",
   "metadata": {},
   "source": [
    "here we can see we first give instruction to add something with the variable and reassign to the same memory space is called addition assignment operator."
   ]
  },
  {
   "cell_type": "raw",
   "id": "4430c7e5-6c71-4452-8dce-0f9089ef3a85",
   "metadata": {},
   "source": [
    "* substraction assignment operator (-=) :- this operator is used when we have to give command to substract any same type of variables with the assign varibales and reassign the  same variable with the same memory space."
   ]
  },
  {
   "cell_type": "code",
   "execution_count": 18,
   "id": "7e1a6c31-9342-4a85-891b-1b23e64e612d",
   "metadata": {},
   "outputs": [
    {
     "data": {
      "text/plain": [
       "40"
      ]
     },
     "execution_count": 18,
     "metadata": {},
     "output_type": "execute_result"
    }
   ],
   "source": [
    "#example :-\n",
    "\n",
    "a = 50  # This is assignment operator.\n",
    "a -= 10  # this is substraction assignment operator.\n",
    "a"
   ]
  },
  {
   "cell_type": "code",
   "execution_count": 19,
   "id": "26826b6e-ae5f-4bf7-82d9-35d150915ca4",
   "metadata": {},
   "outputs": [
    {
     "data": {
      "text/plain": [
       "75"
      ]
     },
     "execution_count": 19,
     "metadata": {},
     "output_type": "execute_result"
    }
   ],
   "source": [
    "a = 100\n",
    "a -= 25\n",
    "a"
   ]
  },
  {
   "cell_type": "raw",
   "id": "579714c8-bb36-4a38-bcb9-40e3bacb582b",
   "metadata": {},
   "source": [
    "* Multiplication assignment operator (*=) :- this operator is used when we have to give command to multiply any same type of variables with the assign varibales and reassign the  same variable with the same memory space."
   ]
  },
  {
   "cell_type": "code",
   "execution_count": 21,
   "id": "db669089-e8f4-41a3-8d28-470c76e7d49f",
   "metadata": {},
   "outputs": [
    {
     "data": {
      "text/plain": [
       "50"
      ]
     },
     "execution_count": 21,
     "metadata": {},
     "output_type": "execute_result"
    }
   ],
   "source": [
    "# example :- \n",
    "\n",
    "a = 5     # this is assignment operator\n",
    "a *= 10   # this is multiplication assignment operator\n",
    "a"
   ]
  },
  {
   "cell_type": "code",
   "execution_count": 22,
   "id": "2ab422d4-cb4c-426d-8aa7-db0c706337b2",
   "metadata": {},
   "outputs": [
    {
     "data": {
      "text/plain": [
       "5000"
      ]
     },
     "execution_count": 22,
     "metadata": {},
     "output_type": "execute_result"
    }
   ],
   "source": [
    "a = 100\n",
    "a *= 50\n",
    "a"
   ]
  },
  {
   "cell_type": "raw",
   "id": "6cdd4b81-fb20-4ffb-b7b2-a31fc1167243",
   "metadata": {},
   "source": [
    "* Division assignment operator (/=) :- this operator is used when we have to give command to divide any same type of variables with the assign varibales and reassign the  same variable with the same memory space."
   ]
  },
  {
   "cell_type": "code",
   "execution_count": 25,
   "id": "1f52a74b-35c2-4b3a-bf75-bcafcee41de5",
   "metadata": {},
   "outputs": [
    {
     "data": {
      "text/plain": [
       "25.0"
      ]
     },
     "execution_count": 25,
     "metadata": {},
     "output_type": "execute_result"
    }
   ],
   "source": [
    "# example :-\n",
    "\n",
    "a = 50  # this is assignment operator\n",
    "a /= 2  # this is division assignment operator\n",
    "a"
   ]
  },
  {
   "cell_type": "markdown",
   "id": "97f5fdf0-e897-4156-8836-dd33683fc635",
   "metadata": {},
   "source": [
    "#### Notes :- we can also make more assignment operators like :-\n",
    "\n",
    "#### Module assignment operator (%=)\n",
    "#### floor assignment operator (//=)"
   ]
  },
  {
   "cell_type": "code",
   "execution_count": 26,
   "id": "ccf6b79d-9b29-46b9-a6e5-04a639f84595",
   "metadata": {},
   "outputs": [
    {
     "data": {
      "text/plain": [
       "2"
      ]
     },
     "execution_count": 26,
     "metadata": {},
     "output_type": "execute_result"
    }
   ],
   "source": [
    "# module assignment operator (%=) :-\n",
    "#example :-\n",
    "\n",
    "a = 65 # this is assignment operator\n",
    "a %= 3  # this is module assignment operator\n",
    "a"
   ]
  },
  {
   "cell_type": "code",
   "execution_count": 7,
   "id": "a48f3310-2984-4c3a-a719-ad64c9e9453d",
   "metadata": {},
   "outputs": [
    {
     "data": {
      "text/plain": [
       "21"
      ]
     },
     "execution_count": 7,
     "metadata": {},
     "output_type": "execute_result"
    }
   ],
   "source": [
    "# floor assignment operator (//=) :-\n",
    "#example :-\n",
    "\n",
    "a = 65   # this is assignment operator\n",
    "a //= 3  # this is floor assignment operator\n",
    "a"
   ]
  },
  {
   "cell_type": "raw",
   "id": "8d012f7b-ee7d-4aaf-a014-9896296a3aba",
   "metadata": {},
   "source": [
    "so with the help of assignment operator  we can create so many diffrent types of assignment operator.\n",
    "\n",
    "## this is the complete understanding of assignment operator."
   ]
  },
  {
   "cell_type": "markdown",
   "id": "5392e399-53db-4828-baec-73a77641dd46",
   "metadata": {},
   "source": [
    "### Membership Operator"
   ]
  },
  {
   "cell_type": "raw",
   "id": "27bd3549-c632-4ed4-9207-627e598891d4",
   "metadata": {},
   "source": [
    "5 - Membership Operator :- This operator is basically use to check weahther a given value is a member of a sequence or not a member of a sequence such as strings , List and tuples.\n",
    "\n",
    "** type of membership operator :-\n",
    "* in\n",
    "* not in"
   ]
  },
  {
   "cell_type": "code",
   "execution_count": 3,
   "id": "8c660459-2de7-4e94-9f30-17f6e0d463c2",
   "metadata": {},
   "outputs": [
    {
     "data": {
      "text/plain": [
       "'mohsin'"
      ]
     },
     "execution_count": 3,
     "metadata": {},
     "output_type": "execute_result"
    }
   ],
   "source": [
    "# 'in' operator :- this operator is used to check the variables are in the squence .\n",
    "\n",
    "# example :-\n",
    "\n",
    "a = \"mohsin\"\n",
    "a"
   ]
  },
  {
   "cell_type": "code",
   "execution_count": 4,
   "id": "43073987-1705-4c9c-9da6-be709bdf1935",
   "metadata": {},
   "outputs": [
    {
     "data": {
      "text/plain": [
       "True"
      ]
     },
     "execution_count": 4,
     "metadata": {},
     "output_type": "execute_result"
    }
   ],
   "source": [
    "\"s\" in a"
   ]
  },
  {
   "cell_type": "code",
   "execution_count": 5,
   "id": "31029f2b-bb4b-4cb5-aad3-3060104b277f",
   "metadata": {},
   "outputs": [
    {
     "data": {
      "text/plain": [
       "True"
      ]
     },
     "execution_count": 5,
     "metadata": {},
     "output_type": "execute_result"
    }
   ],
   "source": [
    "\"h\" in a"
   ]
  },
  {
   "cell_type": "code",
   "execution_count": 6,
   "id": "1e982b76-7bc8-4985-a125-34d51c11a18a",
   "metadata": {},
   "outputs": [
    {
     "data": {
      "text/plain": [
       "False"
      ]
     },
     "execution_count": 6,
     "metadata": {},
     "output_type": "execute_result"
    }
   ],
   "source": [
    "\"k\" in a"
   ]
  },
  {
   "cell_type": "raw",
   "id": "14564c50-e858-4070-981c-1f8bdcaafdd8",
   "metadata": {},
   "source": [
    "so here we can see the variable is in the sequence , then after execution we get true , but if the variables is not in the sequence and if  we check with 'in' operator  then we get false."
   ]
  },
  {
   "cell_type": "code",
   "execution_count": 2,
   "id": "c36e6b0f-99e3-49bf-b5b5-a1706a29d22d",
   "metadata": {},
   "outputs": [],
   "source": [
    "# 'not in' operator :- this operator is used to check the variables not in the sequence . "
   ]
  },
  {
   "cell_type": "code",
   "execution_count": 7,
   "id": "d7cb749a-6d78-4cb5-a54a-3d33d6465f9f",
   "metadata": {},
   "outputs": [
    {
     "data": {
      "text/plain": [
       "'mohsin'"
      ]
     },
     "execution_count": 7,
     "metadata": {},
     "output_type": "execute_result"
    }
   ],
   "source": [
    "a = \"mohsin\"\n",
    "a"
   ]
  },
  {
   "cell_type": "code",
   "execution_count": 8,
   "id": "74d09153-d3fc-479a-aa6f-fc5ca007357c",
   "metadata": {},
   "outputs": [
    {
     "data": {
      "text/plain": [
       "False"
      ]
     },
     "execution_count": 8,
     "metadata": {},
     "output_type": "execute_result"
    }
   ],
   "source": [
    "\"i\" not in a"
   ]
  },
  {
   "cell_type": "code",
   "execution_count": 9,
   "id": "263e4c30-e068-42ed-bb79-3bf716bc6b84",
   "metadata": {},
   "outputs": [
    {
     "data": {
      "text/plain": [
       "False"
      ]
     },
     "execution_count": 9,
     "metadata": {},
     "output_type": "execute_result"
    }
   ],
   "source": [
    "\"m\" not in a"
   ]
  },
  {
   "cell_type": "code",
   "execution_count": 10,
   "id": "f50dbbdb-3c9c-441b-9ff7-c6452fd0a1ac",
   "metadata": {},
   "outputs": [
    {
     "data": {
      "text/plain": [
       "True"
      ]
     },
     "execution_count": 10,
     "metadata": {},
     "output_type": "execute_result"
    }
   ],
   "source": [
    "\"k\" not in a"
   ]
  },
  {
   "cell_type": "code",
   "execution_count": 11,
   "id": "ccf7789e-9e50-42d5-ac79-ae0dceee1ead",
   "metadata": {},
   "outputs": [
    {
     "data": {
      "text/plain": [
       "True"
      ]
     },
     "execution_count": 11,
     "metadata": {},
     "output_type": "execute_result"
    }
   ],
   "source": [
    "\"l\" not in a"
   ]
  },
  {
   "cell_type": "raw",
   "id": "3d29e69c-3e9e-4d02-837c-81e7c64af1a7",
   "metadata": {},
   "source": [
    "so here we can see if we use 'not in' membership operator then if the variables is in the sequence the we get false , and when the variables is not in the sequence then we get true."
   ]
  },
  {
   "cell_type": "markdown",
   "id": "2b1d4a91-2fa2-47df-8625-5a49715bd626",
   "metadata": {},
   "source": [
    "### Identity Operator"
   ]
  },
  {
   "cell_type": "raw",
   "id": "df56672b-b318-4d62-898d-6328a45a8534",
   "metadata": {},
   "source": [
    "6 - Identity Operator :- This operator is used to check  and compare the two variables refers to the same objects in the memory.\n",
    "\n",
    "** type of identity operator :-\n",
    "* is\n",
    "* is not"
   ]
  },
  {
   "cell_type": "code",
   "execution_count": 12,
   "id": "6fe82dc5-f06b-40c8-bc8d-f73150ab00fb",
   "metadata": {},
   "outputs": [
    {
     "data": {
      "text/plain": [
       "False"
      ]
     },
     "execution_count": 12,
     "metadata": {},
     "output_type": "execute_result"
    }
   ],
   "source": [
    "# 'is' identity operator :- by the help of this operator we know the variables are refers to the same objects in memory.\n",
    "\n",
    "# example:-\n",
    "\n",
    "a = 50\n",
    "b = 16\n",
    "a is b # this is the identity operator"
   ]
  },
  {
   "cell_type": "raw",
   "id": "d7d217ec-e02a-4b81-808b-3bb6327ce0a0",
   "metadata": {},
   "source": [
    "here we get false because the variable refers to diffrent objects and also with diffrent memory."
   ]
  },
  {
   "cell_type": "code",
   "execution_count": 13,
   "id": "d4aabb4e-4fca-4327-9213-5e754a3f78d5",
   "metadata": {},
   "outputs": [
    {
     "data": {
      "text/plain": [
       "True"
      ]
     },
     "execution_count": 13,
     "metadata": {},
     "output_type": "execute_result"
    }
   ],
   "source": [
    "a = 50\n",
    "a = 16\n",
    "a is b # this is the identity operator"
   ]
  },
  {
   "cell_type": "raw",
   "id": "1e705702-ae05-413a-ac8c-f6b01634babc",
   "metadata": {},
   "source": [
    "here we get true , while the variable refers to diffrent objects , but the memory space is same thats why we get true"
   ]
  },
  {
   "cell_type": "code",
   "execution_count": 15,
   "id": "66de9ca1-6ee8-4639-951a-0f82ba1271e6",
   "metadata": {},
   "outputs": [
    {
     "data": {
      "text/plain": [
       "True"
      ]
     },
     "execution_count": 15,
     "metadata": {},
     "output_type": "execute_result"
    }
   ],
   "source": [
    "a = 50\n",
    "b = 50\n",
    "a is b"
   ]
  },
  {
   "cell_type": "raw",
   "id": "785ff018-5c7c-45c8-80a9-c7f2e9f34d29",
   "metadata": {},
   "source": [
    "here we get true , while memory space is diffrent , but the variables refers to the same objects."
   ]
  },
  {
   "cell_type": "code",
   "execution_count": 16,
   "id": "145a134c-6049-4926-96f8-321b610d4cc5",
   "metadata": {},
   "outputs": [
    {
     "data": {
      "text/plain": [
       "False"
      ]
     },
     "execution_count": 16,
     "metadata": {},
     "output_type": "execute_result"
    }
   ],
   "source": [
    "a = 36\n",
    "b = -36\n",
    "a is b"
   ]
  },
  {
   "cell_type": "code",
   "execution_count": 17,
   "id": "b61ce5a3-9dd7-4bff-8c34-4d927a808623",
   "metadata": {},
   "outputs": [
    {
     "data": {
      "text/plain": [
       "True"
      ]
     },
     "execution_count": 17,
     "metadata": {},
     "output_type": "execute_result"
    }
   ],
   "source": [
    "# 'is not' operator :- this operator helps to check the variables does't refers to the objects with the same memory\n",
    "\n",
    "# example :-\n",
    "a = 50\n",
    "b = 16\n",
    "a is not b"
   ]
  },
  {
   "cell_type": "raw",
   "id": "cc21eb42-33a2-48ef-88da-c645c7e4db19",
   "metadata": {},
   "source": [
    "here we get true because variable does,t refers to the same objects in the memory."
   ]
  },
  {
   "cell_type": "code",
   "execution_count": 18,
   "id": "3877adf3-be3c-4fbe-9326-7850b2d37ad0",
   "metadata": {},
   "outputs": [
    {
     "data": {
      "text/plain": [
       "False"
      ]
     },
     "execution_count": 18,
     "metadata": {},
     "output_type": "execute_result"
    }
   ],
   "source": [
    "a = 50\n",
    "b = 50\n",
    "a is not b"
   ]
  },
  {
   "cell_type": "raw",
   "id": "affcbc58-a8f4-48bc-ad1b-9a661857763e",
   "metadata": {},
   "source": [
    "here we get false because variable are refers to the same objects in the memory. and 'is not' operator is only use to check and compare for those variable who are not in the same objects of memory."
   ]
  },
  {
   "cell_type": "markdown",
   "id": "f38c0213-56ef-41d2-aad5-62be12cae7c1",
   "metadata": {},
   "source": [
    "### Bitwise operator"
   ]
  },
  {
   "cell_type": "raw",
   "id": "c0767ccb-2294-46dd-8c49-23aa3ef85daa",
   "metadata": {},
   "source": [
    "7 - Bitwise operator :- Bitwise operator are used to calculate on integers . Machine only understands binary language (1 , 0) , so here bitwise operator helps to change every integers in the binay form and then do calculation on that binary numbers.\n",
    "\n",
    ">>>> in bitwise operator , firstly every integer converts automatically in binary language and the , calculation to be done by the diffrent types of bitwise operator is in binary , so if we give any two integer and try to check with any bitwise operator , then first they both integers converts in binary language in backend and answer also comes in fronted is in normal integer but the actual value will be is in binary form .\n",
    "\n",
    "** types of bitwise operator are :-\n",
    "\n",
    "* and bitwise operator (&)\n",
    "* or bitwise operator (|)\n",
    "* negation bitwise operator (~ - tilde)\n",
    "* Xor bitwise operator  (^ - hat or cap)\n",
    "* left shift bitwise operator (<<)\n",
    "* right shift bitwise operator (>>)"
   ]
  },
  {
   "cell_type": "raw",
   "id": "7b07dac7-6f08-4a04-a8d7-3b463fb0ac06",
   "metadata": {},
   "source": [
    "# 'and' bitwise operator follow thus rule :- \n",
    "\n",
    "True and True = True\n",
    "True and False = False\n",
    "False and True = False\n",
    "False and False = False\n",
    "\n",
    "where True = 1\n",
    "     False = 0"
   ]
  },
  {
   "cell_type": "code",
   "execution_count": 19,
   "id": "e3355404-0857-460e-a986-64b731da84d7",
   "metadata": {},
   "outputs": [
    {
     "data": {
      "text/plain": [
       "12"
      ]
     },
     "execution_count": 19,
     "metadata": {},
     "output_type": "execute_result"
    }
   ],
   "source": [
    "# and bitwise operator (&) :- \n",
    "\n",
    "a = 15\n",
    "b = 60\n",
    "a & b"
   ]
  },
  {
   "cell_type": "raw",
   "id": "be4094c7-2045-4e24-812a-59099c0f57a7",
   "metadata": {},
   "source": [
    "so here we get 'and' bitwise operator of a & b is 12 , lets prove that how we get this 12"
   ]
  },
  {
   "cell_type": "code",
   "execution_count": 22,
   "id": "31f4bb00-2876-4f35-a53e-425f16105469",
   "metadata": {},
   "outputs": [
    {
     "data": {
      "text/plain": [
       "'0b1111'"
      ]
     },
     "execution_count": 22,
     "metadata": {},
     "output_type": "execute_result"
    }
   ],
   "source": [
    "bin(a) # this is the binary value of a"
   ]
  },
  {
   "cell_type": "code",
   "execution_count": 23,
   "id": "b396e2ab-8970-42c3-9959-183ded971023",
   "metadata": {},
   "outputs": [
    {
     "data": {
      "text/plain": [
       "'0b111100'"
      ]
     },
     "execution_count": 23,
     "metadata": {},
     "output_type": "execute_result"
    }
   ],
   "source": [
    "bin(b) # this is the binary value of b"
   ]
  },
  {
   "cell_type": "code",
   "execution_count": 25,
   "id": "d479891e-b9cc-4218-b5b6-ed3fe9beefcf",
   "metadata": {},
   "outputs": [
    {
     "data": {
      "text/plain": [
       "'0b1100'"
      ]
     },
     "execution_count": 25,
     "metadata": {},
     "output_type": "execute_result"
    }
   ],
   "source": [
    "bin(a&b) # here is the binary value of a & b"
   ]
  },
  {
   "cell_type": "raw",
   "id": "f9a560af-61dd-45eb-b71b-13dca31648f9",
   "metadata": {},
   "source": [
    "here we get bin(a&b)= 1100 , now lets check the bin(12)"
   ]
  },
  {
   "cell_type": "code",
   "execution_count": 26,
   "id": "4ddb4d13-9ab3-404d-9b56-e8ea034b60da",
   "metadata": {},
   "outputs": [
    {
     "data": {
      "text/plain": [
       "'0b1100'"
      ]
     },
     "execution_count": 26,
     "metadata": {},
     "output_type": "execute_result"
    }
   ],
   "source": [
    "bin(12)"
   ]
  },
  {
   "cell_type": "raw",
   "id": "2d63200a-2271-468c-8b28-2ca561f2b541",
   "metadata": {},
   "source": [
    "now here we can see in binary form the calculation of a and b is equals to the binary form of 12. if we check the bin(a&b = 1100) and if we check the bin(12) = 1100 , so here we can see that the answer of both are same , hence proved. \n",
    "so for machine 12 = 1100."
   ]
  },
  {
   "cell_type": "code",
   "execution_count": 28,
   "id": "2deb921e-bfa5-4afe-bd5f-bc7daeda9358",
   "metadata": {},
   "outputs": [
    {
     "data": {
      "text/plain": [
       "'0b10'"
      ]
     },
     "execution_count": 28,
     "metadata": {},
     "output_type": "execute_result"
    }
   ],
   "source": [
    "a = 15\n",
    "b = 18\n",
    "bin(a&b) # 'and' bitwise operator"
   ]
  },
  {
   "cell_type": "code",
   "execution_count": 29,
   "id": "f07d99b2-390a-4802-b9f5-c1591d11c655",
   "metadata": {},
   "outputs": [
    {
     "data": {
      "text/plain": [
       "62"
      ]
     },
     "execution_count": 29,
     "metadata": {},
     "output_type": "execute_result"
    }
   ],
   "source": [
    "# 'or' bitwise operator (|) :- \n",
    "\n",
    "# example :-\n",
    "a = 50\n",
    "b = 60\n",
    "a|b"
   ]
  },
  {
   "cell_type": "raw",
   "id": "7f8e297d-7934-4a91-b9f9-7094eb491769",
   "metadata": {},
   "source": [
    "so we can see here the value of a|b is 62 , noe lets check it by converting in binary ,  this 62 value comes because in backend the calculation are done in binary language , now we check it in fronted. "
   ]
  },
  {
   "cell_type": "code",
   "execution_count": 30,
   "id": "33bdff36-daec-4a90-b407-ac43d752733a",
   "metadata": {},
   "outputs": [
    {
     "data": {
      "text/plain": [
       "'0b110010'"
      ]
     },
     "execution_count": 30,
     "metadata": {},
     "output_type": "execute_result"
    }
   ],
   "source": [
    "bin(a)"
   ]
  },
  {
   "cell_type": "code",
   "execution_count": 31,
   "id": "23e63d7f-4aaf-43d5-815f-f281bb6afd70",
   "metadata": {},
   "outputs": [
    {
     "data": {
      "text/plain": [
       "'0b111100'"
      ]
     },
     "execution_count": 31,
     "metadata": {},
     "output_type": "execute_result"
    }
   ],
   "source": [
    "bin(b)"
   ]
  },
  {
   "cell_type": "code",
   "execution_count": 33,
   "id": "86a18148-0ebb-4e50-b27f-5b047f306177",
   "metadata": {},
   "outputs": [
    {
     "data": {
      "text/plain": [
       "'0b111110'"
      ]
     },
     "execution_count": 33,
     "metadata": {},
     "output_type": "execute_result"
    }
   ],
   "source": [
    "bin(62)"
   ]
  },
  {
   "cell_type": "code",
   "execution_count": 32,
   "id": "bf4e6179-2938-445f-8899-fb186b6b6ec7",
   "metadata": {},
   "outputs": [
    {
     "data": {
      "text/plain": [
       "'0b111110'"
      ]
     },
     "execution_count": 32,
     "metadata": {},
     "output_type": "execute_result"
    }
   ],
   "source": [
    "bin(a|b)"
   ]
  },
  {
   "cell_type": "raw",
   "id": "d4b8ed03-377d-4fa4-9005-60673ee0b4c5",
   "metadata": {},
   "source": [
    "so now we can see the bin(62) = 111110 and the bin(a|b) = 111110\n",
    "both the value are same .\n",
    "\n",
    "bitwise or follow this rule :-\n",
    "\n",
    "True or True = True\n",
    "True or False = True\n",
    "False or True = True\n",
    "False or False = False"
   ]
  },
  {
   "cell_type": "code",
   "execution_count": 34,
   "id": "d619e145-553b-4aa1-96f6-aed62927823a",
   "metadata": {},
   "outputs": [
    {
     "data": {
      "text/plain": [
       "-16"
      ]
     },
     "execution_count": 34,
     "metadata": {},
     "output_type": "execute_result"
    }
   ],
   "source": [
    "# negation bitwise operator (~) :-\n",
    "\n",
    "# example:-\n",
    "\n",
    "a = 15\n",
    "~a        # this is the negation bitwise operator"
   ]
  },
  {
   "cell_type": "code",
   "execution_count": 35,
   "id": "75ea31c6-6bce-452f-b7bb-9dbe43564bae",
   "metadata": {},
   "outputs": [
    {
     "data": {
      "text/plain": [
       "14"
      ]
     },
     "execution_count": 35,
     "metadata": {},
     "output_type": "execute_result"
    }
   ],
   "source": [
    "a = -15\n",
    "~a    # this is the negation bitwise operator"
   ]
  },
  {
   "cell_type": "code",
   "execution_count": 36,
   "id": "fe7d9b60-4135-40bd-b57f-c17d1608b9de",
   "metadata": {},
   "outputs": [
    {
     "data": {
      "text/plain": [
       "-101"
      ]
     },
     "execution_count": 36,
     "metadata": {},
     "output_type": "execute_result"
    }
   ],
   "source": [
    "~100"
   ]
  },
  {
   "cell_type": "code",
   "execution_count": 37,
   "id": "70b67f40-8cd7-4d2e-a654-db57c3a4d8d8",
   "metadata": {},
   "outputs": [
    {
     "data": {
      "text/plain": [
       "99"
      ]
     },
     "execution_count": 37,
     "metadata": {},
     "output_type": "execute_result"
    }
   ],
   "source": [
    "~-100"
   ]
  },
  {
   "cell_type": "code",
   "execution_count": 38,
   "id": "e14f26ba-52de-489e-b968-d9d29ea8bbbc",
   "metadata": {},
   "outputs": [
    {
     "data": {
      "text/plain": [
       "27"
      ]
     },
     "execution_count": 38,
     "metadata": {},
     "output_type": "execute_result"
    }
   ],
   "source": [
    "# Xor bitwise operator (^) :- \n",
    "\n",
    "# example :-\n",
    "\n",
    "a = 15\n",
    "b = 20\n",
    "a ^ b  # This is the Xor bitwise operator"
   ]
  },
  {
   "cell_type": "raw",
   "id": "283c38c2-8c50-484d-8665-0ca4270a27c2",
   "metadata": {},
   "source": [
    "lets check by using binary language "
   ]
  },
  {
   "cell_type": "code",
   "execution_count": 40,
   "id": "3bfac6db-9cf2-4981-95b1-57490fffc5f3",
   "metadata": {},
   "outputs": [
    {
     "data": {
      "text/plain": [
       "'0b1111'"
      ]
     },
     "execution_count": 40,
     "metadata": {},
     "output_type": "execute_result"
    }
   ],
   "source": [
    "bin(a)"
   ]
  },
  {
   "cell_type": "code",
   "execution_count": 41,
   "id": "9b6e8c29-dc4d-494b-97d7-ee26a1d7eba7",
   "metadata": {},
   "outputs": [
    {
     "data": {
      "text/plain": [
       "'0b10100'"
      ]
     },
     "execution_count": 41,
     "metadata": {},
     "output_type": "execute_result"
    }
   ],
   "source": [
    "bin(b)"
   ]
  },
  {
   "cell_type": "code",
   "execution_count": 43,
   "id": "6c7998cf-37f0-4841-89ed-d079e615067e",
   "metadata": {},
   "outputs": [
    {
     "data": {
      "text/plain": [
       "'0b11011'"
      ]
     },
     "execution_count": 43,
     "metadata": {},
     "output_type": "execute_result"
    }
   ],
   "source": [
    "bin(27)"
   ]
  },
  {
   "cell_type": "code",
   "execution_count": 42,
   "id": "fc566658-91cf-4576-9905-c2aa0eb90deb",
   "metadata": {},
   "outputs": [
    {
     "data": {
      "text/plain": [
       "'0b11011'"
      ]
     },
     "execution_count": 42,
     "metadata": {},
     "output_type": "execute_result"
    }
   ],
   "source": [
    "bin(a^b)"
   ]
  },
  {
   "cell_type": "raw",
   "id": "38d91979-c449-4325-bbec-fc94c56cf563",
   "metadata": {},
   "source": [
    "so here we can see the bin(27) = 11011 and the bin(a^b) = 11011 , both values are same.\n",
    "\n",
    "Xor(^) follow this rule :-\n",
    "\n",
    "True(1) Xor True(1) = False(0)\n",
    "False(0) Xor True(1) = True(1)\n",
    "True(1) Xor False(0) = True(1)\n",
    "False(0) Xor False(0) = False(0)"
   ]
  },
  {
   "cell_type": "code",
   "execution_count": 44,
   "id": "99bf8262-7246-4549-8c21-b01693531d4e",
   "metadata": {},
   "outputs": [
    {
     "data": {
      "text/plain": [
       "'0b1100010'"
      ]
     },
     "execution_count": 44,
     "metadata": {},
     "output_type": "execute_result"
    }
   ],
   "source": [
    "bin(50^80)"
   ]
  },
  {
   "cell_type": "raw",
   "id": "3bff9404-7f6d-4ae7-b1b8-20ea4581b0e0",
   "metadata": {},
   "source": [
    "# left shift bitwise operator (<<) :-  This operator means to shift or we can say increase the zero  in right side , by following the specific code which is given by the coder.\n",
    "\n",
    "basically left shift bitwise operator increase the number of zeros in the right side . the number of zeroes is given by the coder.\n"
   ]
  },
  {
   "cell_type": "code",
   "execution_count": 47,
   "id": "3a9b887f-cad5-4279-bdcc-28788694fd20",
   "metadata": {},
   "outputs": [
    {
     "data": {
      "text/plain": [
       "'0b1100100'"
      ]
     },
     "execution_count": 47,
     "metadata": {},
     "output_type": "execute_result"
    }
   ],
   "source": [
    "# example\n",
    "\n",
    "a = 100\n",
    "bin(a)  # so here we can see the binary value of 100 "
   ]
  },
  {
   "cell_type": "code",
   "execution_count": 48,
   "id": "0efbeeb5-2d78-42e1-9637-3be23eeae626",
   "metadata": {},
   "outputs": [
    {
     "data": {
      "text/plain": [
       "400"
      ]
     },
     "execution_count": 48,
     "metadata": {},
     "output_type": "execute_result"
    }
   ],
   "source": [
    "# now we use left shift bitwise operator\n",
    "a<<2  # here the specific code is 2 , it means shift by two zero."
   ]
  },
  {
   "cell_type": "code",
   "execution_count": 49,
   "id": "375f4e83-55fd-4070-9eef-5fb4edc2ba5b",
   "metadata": {},
   "outputs": [
    {
     "data": {
      "text/plain": [
       "'0b110010000'"
      ]
     },
     "execution_count": 49,
     "metadata": {},
     "output_type": "execute_result"
    }
   ],
   "source": [
    "bin(400)"
   ]
  },
  {
   "cell_type": "raw",
   "id": "8bfb3b6f-c6ea-4fa9-8273-ef23f06256b1",
   "metadata": {},
   "source": [
    "# so here we can see the binary value of 100 = 1100100 and the left shift of 100 is 400 and the binary value of 400 = 110010000\n",
    "hence we can see the 2 zero increases in the right side ."
   ]
  },
  {
   "cell_type": "code",
   "execution_count": 50,
   "id": "fd4cb3e4-a5c2-40f6-9147-115c7b0d2f75",
   "metadata": {},
   "outputs": [
    {
     "data": {
      "text/plain": [
       "'0b110010'"
      ]
     },
     "execution_count": 50,
     "metadata": {},
     "output_type": "execute_result"
    }
   ],
   "source": [
    "bin(50)"
   ]
  },
  {
   "cell_type": "code",
   "execution_count": 55,
   "id": "3f77cfd5-b1a1-483f-94ad-bf8b4e706963",
   "metadata": {},
   "outputs": [
    {
     "data": {
      "text/plain": [
       "1600"
      ]
     },
     "execution_count": 55,
     "metadata": {},
     "output_type": "execute_result"
    }
   ],
   "source": [
    "50<<5"
   ]
  },
  {
   "cell_type": "code",
   "execution_count": 56,
   "id": "770e3c55-3690-46be-8411-578fd559328c",
   "metadata": {},
   "outputs": [
    {
     "data": {
      "text/plain": [
       "'0b11001000000'"
      ]
     },
     "execution_count": 56,
     "metadata": {},
     "output_type": "execute_result"
    }
   ],
   "source": [
    "bin(1600)"
   ]
  },
  {
   "cell_type": "raw",
   "id": "01afc1d9-3878-46f9-9ada-4342f1f5b2d9",
   "metadata": {},
   "source": [
    "so here we can see after the use of left shift operator the number of zeroes increases in right side by the 5 number. and it will converted to bin(1600) ."
   ]
  },
  {
   "cell_type": "code",
   "execution_count": 57,
   "id": "c9c76307-9c7c-4044-a490-8d11ed101f09",
   "metadata": {},
   "outputs": [
    {
     "data": {
      "text/plain": [
       "'0b110010'"
      ]
     },
     "execution_count": 57,
     "metadata": {},
     "output_type": "execute_result"
    }
   ],
   "source": [
    "# right shift bitwise operator (>>) :- this operator increase simply remove the value from the right side \n",
    "                                      # the number which we give only that amount of value will be remove by right side.\n",
    "\n",
    "#example :-\n",
    "\n",
    "a = 50\n",
    "bin(a)"
   ]
  },
  {
   "cell_type": "code",
   "execution_count": 58,
   "id": "0ee02251-952b-4c7b-b8fc-f805a44cbe49",
   "metadata": {},
   "outputs": [
    {
     "data": {
      "text/plain": [
       "12"
      ]
     },
     "execution_count": 58,
     "metadata": {},
     "output_type": "execute_result"
    }
   ],
   "source": [
    "50 >> 2"
   ]
  },
  {
   "cell_type": "code",
   "execution_count": 59,
   "id": "cc5b670e-ef1a-432d-8dc7-d3f029226f7b",
   "metadata": {},
   "outputs": [
    {
     "data": {
      "text/plain": [
       "'0b1100'"
      ]
     },
     "execution_count": 59,
     "metadata": {},
     "output_type": "execute_result"
    }
   ],
   "source": [
    "bin(12)"
   ]
  },
  {
   "cell_type": "raw",
   "id": "5b728f09-9d83-48b4-9f6a-a8d65af830d1",
   "metadata": {},
   "source": [
    "so here we can see the bin(50) = 110010 , but when we use 50>>2 then its value is 12 , and the bin(12) = 1100 \n",
    "hence we can easily seen here the last two number are removed when we use right shift bitwise operator of 2."
   ]
  },
  {
   "cell_type": "code",
   "execution_count": 60,
   "id": "a1017d3b-0bc0-4046-877f-266454257fa7",
   "metadata": {},
   "outputs": [
    {
     "data": {
      "text/plain": [
       "'0b1100100'"
      ]
     },
     "execution_count": 60,
     "metadata": {},
     "output_type": "execute_result"
    }
   ],
   "source": [
    "# another example :-\n",
    "a = 100\n",
    "bin(a)"
   ]
  },
  {
   "cell_type": "code",
   "execution_count": 61,
   "id": "19cb0861-f05b-4d11-9610-0e80cf0b1022",
   "metadata": {},
   "outputs": [
    {
     "data": {
      "text/plain": [
       "3"
      ]
     },
     "execution_count": 61,
     "metadata": {},
     "output_type": "execute_result"
    }
   ],
   "source": [
    "100 >> 5"
   ]
  },
  {
   "cell_type": "code",
   "execution_count": 62,
   "id": "16334646-8256-4cc2-bee5-86b47578108f",
   "metadata": {},
   "outputs": [
    {
     "data": {
      "text/plain": [
       "'0b11'"
      ]
     },
     "execution_count": 62,
     "metadata": {},
     "output_type": "execute_result"
    }
   ],
   "source": [
    "bin(3)"
   ]
  },
  {
   "cell_type": "raw",
   "id": "18ca3aad-a893-4a37-9d9f-3e3d5ba084ba",
   "metadata": {},
   "source": [
    "here we can see the use of right shift bitwise operator , when we give 100>>5 it becomes 3 , and the bin(3) = 11\n",
    "therefore from bin(100) = 1100100  , last 5 digit are removed and it becomes bin(3) = 11 because we use the right shift bitwise operator of 5."
   ]
  },
  {
   "cell_type": "raw",
   "id": "da7b96b5-9087-4600-a2bf-66f6863f273a",
   "metadata": {},
   "source": [
    "This is the complete Understanding of Operatos."
   ]
  },
  {
   "cell_type": "markdown",
   "id": "6cf72a30-023b-4acf-a625-4e79d73b6a3b",
   "metadata": {},
   "source": [
    "## Queation 5 - Explain the concept of type casting in python with examples."
   ]
  },
  {
   "cell_type": "raw",
   "id": "8ea1b081-f611-4d64-95e6-c33252b02373",
   "metadata": {},
   "source": [
    "Ans - Type casting - type casting is basically used to know the type of variables and alse  used to change the type of varibles.\n",
    "The process of changing the data type of value / objects."
   ]
  },
  {
   "cell_type": "raw",
   "id": "f5c74bef-050f-44c1-96dc-faeb599ebf61",
   "metadata": {},
   "source": [
    "There are two types of type casting are :-\n",
    "\n",
    "1 - Implicit Type casting\n",
    "2 - Explicit Type casting"
   ]
  },
  {
   "cell_type": "raw",
   "id": "3ecb2a8c-27bf-4efb-955c-9b2222738612",
   "metadata": {},
   "source": [
    "First we have to know the type of variables or identifiers on which type casting works are :-\n",
    "\n",
    "Types of variables / Identifiers - \n",
    "* Integers (int)\n",
    "* Float    (Float)\n",
    "* String    (str)\n",
    "* boolean   (bool)\n",
    "* complex   (complex)\n",
    "* None       (None)"
   ]
  },
  {
   "cell_type": "code",
   "execution_count": 1,
   "id": "39456c64-4eab-4280-affc-b4bf45e232a2",
   "metadata": {},
   "outputs": [
    {
     "data": {
      "text/plain": [
       "str"
      ]
     },
     "execution_count": 1,
     "metadata": {},
     "output_type": "execute_result"
    }
   ],
   "source": [
    "# example :-\n",
    "a = \"Mohsin\"\n",
    "type(a)"
   ]
  },
  {
   "cell_type": "code",
   "execution_count": 2,
   "id": "18d26f44-eb86-48ca-a07e-2490faac46db",
   "metadata": {},
   "outputs": [
    {
     "data": {
      "text/plain": [
       "int"
      ]
     },
     "execution_count": 2,
     "metadata": {},
     "output_type": "execute_result"
    }
   ],
   "source": [
    "a = 14\n",
    "type(a)"
   ]
  },
  {
   "cell_type": "code",
   "execution_count": 3,
   "id": "60881060-2675-46c4-be24-854154e55d2d",
   "metadata": {},
   "outputs": [
    {
     "data": {
      "text/plain": [
       "float"
      ]
     },
     "execution_count": 3,
     "metadata": {},
     "output_type": "execute_result"
    }
   ],
   "source": [
    "a = 14.5\n",
    "type(a)"
   ]
  },
  {
   "cell_type": "code",
   "execution_count": 4,
   "id": "fd3b785e-cae9-4e15-8385-3d3876f90012",
   "metadata": {},
   "outputs": [
    {
     "data": {
      "text/plain": [
       "bool"
      ]
     },
     "execution_count": 4,
     "metadata": {},
     "output_type": "execute_result"
    }
   ],
   "source": [
    "a = True\n",
    "type(a)"
   ]
  },
  {
   "cell_type": "code",
   "execution_count": 5,
   "id": "2cb6db83-5736-4ef0-9dea-727690036f41",
   "metadata": {},
   "outputs": [
    {
     "data": {
      "text/plain": [
       "NoneType"
      ]
     },
     "execution_count": 5,
     "metadata": {},
     "output_type": "execute_result"
    }
   ],
   "source": [
    "a = None\n",
    "type(a)"
   ]
  },
  {
   "cell_type": "code",
   "execution_count": 7,
   "id": "7246dc2c-7ce1-4798-b546-164390abf420",
   "metadata": {},
   "outputs": [
    {
     "data": {
      "text/plain": [
       "complex"
      ]
     },
     "execution_count": 7,
     "metadata": {},
     "output_type": "execute_result"
    }
   ],
   "source": [
    "a = 5 + 6j\n",
    "type(a)"
   ]
  },
  {
   "cell_type": "raw",
   "id": "15ee0c49-9747-455d-83cc-b383dd4b5044",
   "metadata": {},
   "source": [
    "Now if we want to change the type of value/objects . "
   ]
  },
  {
   "cell_type": "code",
   "execution_count": 8,
   "id": "920f8814-4fcb-437c-ae2c-c8492a1f7400",
   "metadata": {},
   "outputs": [
    {
     "data": {
      "text/plain": [
       "str"
      ]
     },
     "execution_count": 8,
     "metadata": {},
     "output_type": "execute_result"
    }
   ],
   "source": [
    "a = \"5\"\n",
    "type(a)"
   ]
  },
  {
   "cell_type": "code",
   "execution_count": null,
   "id": "b53a9f15-f86c-4888-a79f-b0b498fd39d1",
   "metadata": {},
   "outputs": [],
   "source": [
    "# if we try to convert strings into integer"
   ]
  },
  {
   "cell_type": "code",
   "execution_count": 9,
   "id": "6e7bf478-09b4-4081-b3ed-e7bad04a0596",
   "metadata": {},
   "outputs": [
    {
     "data": {
      "text/plain": [
       "5"
      ]
     },
     "execution_count": 9,
     "metadata": {},
     "output_type": "execute_result"
    }
   ],
   "source": [
    "int(a)"
   ]
  },
  {
   "cell_type": "code",
   "execution_count": 11,
   "id": "2d9b3798-b42e-42fc-b738-2c4becd359a3",
   "metadata": {},
   "outputs": [
    {
     "data": {
      "text/plain": [
       "int"
      ]
     },
     "execution_count": 11,
     "metadata": {},
     "output_type": "execute_result"
    }
   ],
   "source": [
    "type(5)"
   ]
  },
  {
   "cell_type": "code",
   "execution_count": 12,
   "id": "6670eb68-d0f0-4142-967c-bc20409cacc7",
   "metadata": {},
   "outputs": [
    {
     "data": {
      "text/plain": [
       "int"
      ]
     },
     "execution_count": 12,
     "metadata": {},
     "output_type": "execute_result"
    }
   ],
   "source": [
    "# we can also wite in this form :-\n",
    "a = \"5\"\n",
    "type(int(\"5\")) # here this is the code which convert srting into integer"
   ]
  },
  {
   "cell_type": "code",
   "execution_count": 13,
   "id": "ed83a81f-5f8d-4507-91dc-4db92e688f06",
   "metadata": {},
   "outputs": [
    {
     "name": "stdout",
     "output_type": "stream",
     "text": [
      "<class 'str'>\n",
      "<class 'int'>\n"
     ]
    }
   ],
   "source": [
    "a = \"50\"\n",
    "print(type(a))\n",
    "print(type(int(a)))"
   ]
  },
  {
   "cell_type": "code",
   "execution_count": null,
   "id": "2fdf8866-e97e-4f2e-b4af-96a78278ed5e",
   "metadata": {},
   "outputs": [],
   "source": [
    "# Now if we try to convert a strings into float"
   ]
  },
  {
   "cell_type": "code",
   "execution_count": 14,
   "id": "5a51478d-c823-4ad9-a78c-1e5d7d8c1c16",
   "metadata": {},
   "outputs": [
    {
     "name": "stdout",
     "output_type": "stream",
     "text": [
      "<class 'str'>\n",
      "<class 'float'>\n"
     ]
    }
   ],
   "source": [
    "a = \"50\"\n",
    "print(type(a))\n",
    "print(type(float(a)))"
   ]
  },
  {
   "cell_type": "code",
   "execution_count": 15,
   "id": "30b09fdc-24c5-46f1-88cc-73dec5ac10f3",
   "metadata": {},
   "outputs": [
    {
     "data": {
      "text/plain": [
       "50.0"
      ]
     },
     "execution_count": 15,
     "metadata": {},
     "output_type": "execute_result"
    }
   ],
   "source": [
    "float(50)"
   ]
  },
  {
   "cell_type": "code",
   "execution_count": 16,
   "id": "685a2cff-659b-428b-9aeb-48faf516be0a",
   "metadata": {},
   "outputs": [
    {
     "data": {
      "text/plain": [
       "float"
      ]
     },
     "execution_count": 16,
     "metadata": {},
     "output_type": "execute_result"
    }
   ],
   "source": [
    "type(50.0)"
   ]
  },
  {
   "cell_type": "code",
   "execution_count": null,
   "id": "1f9370ef-90b3-440f-9012-dd2b1bea2cc3",
   "metadata": {},
   "outputs": [],
   "source": [
    "# if we try to convert strings into boolean"
   ]
  },
  {
   "cell_type": "code",
   "execution_count": 17,
   "id": "514ebac3-3d5a-4f05-99ad-9b050e503859",
   "metadata": {},
   "outputs": [
    {
     "data": {
      "text/plain": [
       "True"
      ]
     },
     "execution_count": 17,
     "metadata": {},
     "output_type": "execute_result"
    }
   ],
   "source": [
    "a = \"50\"\n",
    "bool(\"50\")"
   ]
  },
  {
   "cell_type": "code",
   "execution_count": 18,
   "id": "c046996d-bca0-4d92-b7ae-fbe8235308dc",
   "metadata": {},
   "outputs": [
    {
     "name": "stdout",
     "output_type": "stream",
     "text": [
      "<class 'str'>\n",
      "<class 'bool'>\n"
     ]
    }
   ],
   "source": [
    "a = \"50\"\n",
    "print(type(a))\n",
    "print(type(bool(a)))"
   ]
  },
  {
   "cell_type": "code",
   "execution_count": 19,
   "id": "de4a1879-d841-4f26-8997-bc9bcf8d07d9",
   "metadata": {},
   "outputs": [],
   "source": [
    "# if we try to convert integer into strings "
   ]
  },
  {
   "cell_type": "code",
   "execution_count": 20,
   "id": "705ce1c9-dd11-4975-baed-22159ddda67c",
   "metadata": {},
   "outputs": [
    {
     "data": {
      "text/plain": [
       "'50'"
      ]
     },
     "execution_count": 20,
     "metadata": {},
     "output_type": "execute_result"
    }
   ],
   "source": [
    "a = 50\n",
    "str(a)"
   ]
  },
  {
   "cell_type": "code",
   "execution_count": 22,
   "id": "1f751199-aa4f-4110-a972-6efd19c24037",
   "metadata": {},
   "outputs": [
    {
     "data": {
      "text/plain": [
       "str"
      ]
     },
     "execution_count": 22,
     "metadata": {},
     "output_type": "execute_result"
    }
   ],
   "source": [
    "type('50')"
   ]
  },
  {
   "cell_type": "code",
   "execution_count": 23,
   "id": "f9ff2eb4-9f59-447b-b9a4-f5fde5841d3f",
   "metadata": {},
   "outputs": [
    {
     "name": "stdout",
     "output_type": "stream",
     "text": [
      "<class 'int'>\n",
      "<class 'str'>\n"
     ]
    }
   ],
   "source": [
    "a = 50\n",
    "print(type(a))\n",
    "print(type(str(a)))"
   ]
  },
  {
   "cell_type": "code",
   "execution_count": 24,
   "id": "32188f1d-6d40-4408-b9bf-7f13c0387778",
   "metadata": {},
   "outputs": [
    {
     "data": {
      "text/plain": [
       "'14.5'"
      ]
     },
     "execution_count": 24,
     "metadata": {},
     "output_type": "execute_result"
    }
   ],
   "source": [
    "# now if we try to convert float into string :-\n",
    "a = 14.5\n",
    "str(a)"
   ]
  },
  {
   "cell_type": "code",
   "execution_count": 25,
   "id": "dd916df6-c123-457f-a60e-3e8dca3d1009",
   "metadata": {},
   "outputs": [
    {
     "name": "stdout",
     "output_type": "stream",
     "text": [
      "<class 'float'>\n",
      "<class 'str'>\n"
     ]
    }
   ],
   "source": [
    "print(type(a))\n",
    "print(type(str(a)))"
   ]
  },
  {
   "cell_type": "code",
   "execution_count": null,
   "id": "5e2288d7-8cd7-4d41-afb2-bc826368efe0",
   "metadata": {},
   "outputs": [],
   "source": [
    "# now if we try to convert boolean to strings"
   ]
  },
  {
   "cell_type": "code",
   "execution_count": 26,
   "id": "0ad83254-27d5-4a30-a380-08c6113b8712",
   "metadata": {},
   "outputs": [
    {
     "data": {
      "text/plain": [
       "bool"
      ]
     },
     "execution_count": 26,
     "metadata": {},
     "output_type": "execute_result"
    }
   ],
   "source": [
    "a = True\n",
    "type(a)"
   ]
  },
  {
   "cell_type": "code",
   "execution_count": 27,
   "id": "53f6c786-c403-4a79-aa05-04905199e7d6",
   "metadata": {},
   "outputs": [
    {
     "data": {
      "text/plain": [
       "'True'"
      ]
     },
     "execution_count": 27,
     "metadata": {},
     "output_type": "execute_result"
    }
   ],
   "source": [
    "str(a)"
   ]
  },
  {
   "cell_type": "code",
   "execution_count": 29,
   "id": "2ddbcdf7-1bd9-4ddd-b002-4f80f326f481",
   "metadata": {},
   "outputs": [
    {
     "name": "stdout",
     "output_type": "stream",
     "text": [
      "<class 'bool'>\n",
      "<class 'str'>\n"
     ]
    }
   ],
   "source": [
    "print(type(a))\n",
    "print(type(str(a)))"
   ]
  },
  {
   "cell_type": "code",
   "execution_count": 30,
   "id": "85ea127a-2787-4677-a608-0bb2d49e8420",
   "metadata": {},
   "outputs": [
    {
     "data": {
      "text/plain": [
       "15.0"
      ]
     },
     "execution_count": 30,
     "metadata": {},
     "output_type": "execute_result"
    }
   ],
   "source": [
    "# now if we try to convert integer into float\n",
    "a = 15\n",
    "float(a)"
   ]
  },
  {
   "cell_type": "code",
   "execution_count": 32,
   "id": "0e4437bf-f205-4eb0-bc15-c8ea133fb4e5",
   "metadata": {},
   "outputs": [
    {
     "name": "stdout",
     "output_type": "stream",
     "text": [
      "<class 'int'>\n",
      "<class 'float'>\n"
     ]
    }
   ],
   "source": [
    "print(type(a))\n",
    "print(type(float(a)))"
   ]
  },
  {
   "cell_type": "code",
   "execution_count": 33,
   "id": "c34466c9-281d-4d78-9fcb-abdc828d8e69",
   "metadata": {},
   "outputs": [
    {
     "data": {
      "text/plain": [
       "55"
      ]
     },
     "execution_count": 33,
     "metadata": {},
     "output_type": "execute_result"
    }
   ],
   "source": [
    "# now if we try to covert float into integer \n",
    "a = 55.45\n",
    "int(a)  # here when we convert float into integer , only decimal value will be removed and its automatically convert into integers."
   ]
  },
  {
   "cell_type": "code",
   "execution_count": 34,
   "id": "36ff5c9d-64bf-4ad7-9115-f6b21cd572c4",
   "metadata": {},
   "outputs": [
    {
     "name": "stdout",
     "output_type": "stream",
     "text": [
      "<class 'float'>\n",
      "<class 'int'>\n"
     ]
    }
   ],
   "source": [
    "print(type(a))\n",
    "print(type(int(a)))"
   ]
  },
  {
   "cell_type": "code",
   "execution_count": 35,
   "id": "ca961fda-ab54-40cb-8d23-4147bab96704",
   "metadata": {},
   "outputs": [
    {
     "data": {
      "text/plain": [
       "True"
      ]
     },
     "execution_count": 35,
     "metadata": {},
     "output_type": "execute_result"
    }
   ],
   "source": [
    "# if we check the boolean value \n",
    "bool(1)"
   ]
  },
  {
   "cell_type": "code",
   "execution_count": 36,
   "id": "a1ac8a0f-6e7a-49eb-931e-ba8394320a31",
   "metadata": {},
   "outputs": [
    {
     "data": {
      "text/plain": [
       "False"
      ]
     },
     "execution_count": 36,
     "metadata": {},
     "output_type": "execute_result"
    }
   ],
   "source": [
    "bool(0)"
   ]
  },
  {
   "cell_type": "code",
   "execution_count": 37,
   "id": "1551f7ad-5b04-4fff-b2a7-c5dbaa745f50",
   "metadata": {},
   "outputs": [
    {
     "data": {
      "text/plain": [
       "True"
      ]
     },
     "execution_count": 37,
     "metadata": {},
     "output_type": "execute_result"
    }
   ],
   "source": [
    "bool(100)"
   ]
  },
  {
   "cell_type": "code",
   "execution_count": 38,
   "id": "c1259caf-f575-492d-855b-80cff39cbd24",
   "metadata": {},
   "outputs": [
    {
     "data": {
      "text/plain": [
       "True"
      ]
     },
     "execution_count": 38,
     "metadata": {},
     "output_type": "execute_result"
    }
   ],
   "source": [
    "bool(-100)"
   ]
  },
  {
   "cell_type": "code",
   "execution_count": 39,
   "id": "22153d76-d1d8-43d0-ad6e-4299d913c08a",
   "metadata": {},
   "outputs": [
    {
     "data": {
      "text/plain": [
       "True"
      ]
     },
     "execution_count": 39,
     "metadata": {},
     "output_type": "execute_result"
    }
   ],
   "source": [
    "bool(\"mohsin\")"
   ]
  },
  {
   "cell_type": "code",
   "execution_count": 40,
   "id": "60acbd19-9faa-48fa-8c89-b36943d2d172",
   "metadata": {},
   "outputs": [
    {
     "data": {
      "text/plain": [
       "False"
      ]
     },
     "execution_count": 40,
     "metadata": {},
     "output_type": "execute_result"
    }
   ],
   "source": [
    "bool(\"\")"
   ]
  },
  {
   "cell_type": "code",
   "execution_count": 41,
   "id": "b7941d11-022b-4613-9f18-1dcc796398db",
   "metadata": {},
   "outputs": [
    {
     "data": {
      "text/plain": [
       "False"
      ]
     },
     "execution_count": 41,
     "metadata": {},
     "output_type": "execute_result"
    }
   ],
   "source": [
    "bool()"
   ]
  },
  {
   "cell_type": "raw",
   "id": "3a6609c0-cfd0-447e-839e-ffe27f3e95cf",
   "metadata": {},
   "source": [
    "so here we can see boolean value will be False only when its  objects value will be zero or a blank string or blank bracket, otherwise in every situation boolean value always gives True ."
   ]
  },
  {
   "cell_type": "markdown",
   "id": "027a0b2c-b521-49ed-bccf-4f3a6c428e36",
   "metadata": {},
   "source": [
    "### Types of type casting"
   ]
  },
  {
   "cell_type": "raw",
   "id": "40e84271-9589-45f0-989d-006aca73c94d",
   "metadata": {},
   "source": [
    "There are two types of type casting are :-\n",
    "\n",
    "1 - Implicit Type casting\n",
    "2 - Explicit Type casting"
   ]
  },
  {
   "cell_type": "code",
   "execution_count": 50,
   "id": "093799b2-09a6-493a-b49a-576872ed811c",
   "metadata": {},
   "outputs": [],
   "source": [
    "# Implicit type casting :- Basically implicit type casting means automatically performed by the Python interpreter.\n",
    "                          # it means in  implicit type casting pyhton automatically know the nature/types of variables.\n",
    "                          # Pyhton understands itself."
   ]
  },
  {
   "cell_type": "code",
   "execution_count": 51,
   "id": "aa9aa7e4-e586-4cbd-bcce-f67c31862327",
   "metadata": {},
   "outputs": [
    {
     "data": {
      "text/plain": [
       "str"
      ]
     },
     "execution_count": 51,
     "metadata": {},
     "output_type": "execute_result"
    }
   ],
   "source": [
    "a = \"mohsin\"\n",
    "type(a)    # this is the example of implicit type casting "
   ]
  },
  {
   "cell_type": "code",
   "execution_count": 52,
   "id": "104ae4a4-7d60-4ddd-8ed1-8df6b660076f",
   "metadata": {},
   "outputs": [
    {
     "data": {
      "text/plain": [
       "float"
      ]
     },
     "execution_count": 52,
     "metadata": {},
     "output_type": "execute_result"
    }
   ],
   "source": [
    "a = 50.52\n",
    "type(a)"
   ]
  },
  {
   "cell_type": "code",
   "execution_count": 53,
   "id": "be36c8e5-95ef-4930-8b59-cf6da4857ac9",
   "metadata": {},
   "outputs": [
    {
     "data": {
      "text/plain": [
       "int"
      ]
     },
     "execution_count": 53,
     "metadata": {},
     "output_type": "execute_result"
    }
   ],
   "source": [
    "a = 42\n",
    "type(a)"
   ]
  },
  {
   "cell_type": "code",
   "execution_count": 56,
   "id": "58cd716d-ab1e-4936-8b59-6e86b951e8db",
   "metadata": {},
   "outputs": [
    {
     "data": {
      "text/plain": [
       "complex"
      ]
     },
     "execution_count": 56,
     "metadata": {},
     "output_type": "execute_result"
    }
   ],
   "source": [
    "a = 4+ 5j\n",
    "type(a)"
   ]
  },
  {
   "cell_type": "code",
   "execution_count": 57,
   "id": "39465509-ed6e-45c5-a353-f4039db7cefe",
   "metadata": {},
   "outputs": [
    {
     "data": {
      "text/plain": [
       "NoneType"
      ]
     },
     "execution_count": 57,
     "metadata": {},
     "output_type": "execute_result"
    }
   ],
   "source": [
    "a = None\n",
    "type(a)"
   ]
  },
  {
   "cell_type": "code",
   "execution_count": 58,
   "id": "2a8c7648-f95f-4c0a-8a30-0f5217506527",
   "metadata": {},
   "outputs": [
    {
     "data": {
      "text/plain": [
       "bool"
      ]
     },
     "execution_count": 58,
     "metadata": {},
     "output_type": "execute_result"
    }
   ],
   "source": [
    "a = True\n",
    "type(a)"
   ]
  },
  {
   "cell_type": "raw",
   "id": "3ad428d9-6c7c-42e6-bb8f-d02a4ab5cdaf",
   "metadata": {},
   "source": [
    "we don't have to do anything here , we just check the type of variables and python will tell automatically the type of variables. This is known as Implicit type casting . "
   ]
  },
  {
   "cell_type": "code",
   "execution_count": 59,
   "id": "66a31d46-bd00-40e6-92e3-053892de1283",
   "metadata": {},
   "outputs": [],
   "source": [
    "# Explicit Type casting :- in explicit type casting we change the data type using inbuilt functionand .\n",
    "                           # when we change the nature of any data or variables then it is known as explicit type casting."
   ]
  },
  {
   "cell_type": "code",
   "execution_count": 61,
   "id": "500f9306-a38f-400b-937e-b91395a225a9",
   "metadata": {},
   "outputs": [
    {
     "name": "stdout",
     "output_type": "stream",
     "text": [
      "950\n",
      "<class 'str'>\n",
      "<class 'int'>\n"
     ]
    }
   ],
   "source": [
    "# strings into integers\n",
    "a = \"950\"\n",
    "print(int(a)) # so here we change the type of varible from string to integer\n",
    "print(type(a))    # here we check without any change in type of variable\n",
    "print(type(int(a))) # here we check after when we change the type of variable"
   ]
  },
  {
   "cell_type": "raw",
   "id": "14157622-93ea-4326-be1e-b390c38f95dd",
   "metadata": {},
   "source": [
    "This is the example of explicit type casting ."
   ]
  },
  {
   "cell_type": "code",
   "execution_count": 62,
   "id": "e0b65b10-f3f0-4946-86d5-20057d66d60e",
   "metadata": {},
   "outputs": [
    {
     "name": "stdout",
     "output_type": "stream",
     "text": [
      "<class 'float'>\n",
      "95\n",
      "<class 'int'>\n"
     ]
    }
   ],
   "source": [
    "# float into integers\n",
    "a = 95.25\n",
    "print(type(a))  # here we check without any changes , this is the example of implicit type casting.\n",
    "print(int(a))    # here we give command to change the type of variables , this is the example of Explicit type casting.\n",
    "print(type(int(a))) # here we again chech the type of variable after the change."
   ]
  },
  {
   "cell_type": "code",
   "execution_count": 63,
   "id": "4c65050b-1383-4b86-bc40-5b2325c36093",
   "metadata": {},
   "outputs": [
    {
     "data": {
      "text/plain": [
       "50.0"
      ]
     },
     "execution_count": 63,
     "metadata": {},
     "output_type": "execute_result"
    }
   ],
   "source": [
    "# integer into float\n",
    "a = 50\n",
    "float(a)"
   ]
  },
  {
   "cell_type": "code",
   "execution_count": 76,
   "id": "77ec31e5-0159-43b0-b0e4-60a6f26efe17",
   "metadata": {},
   "outputs": [
    {
     "name": "stdout",
     "output_type": "stream",
     "text": [
      "100\n",
      "<class 'str'>\n",
      "<class 'int'>\n"
     ]
    }
   ],
   "source": [
    "# strings into integer\n",
    "a = \"100\"\n",
    "print(int(a))\n",
    "print(type(a))\n",
    "print(type(int(a)))"
   ]
  },
  {
   "cell_type": "raw",
   "id": "a422f2e5-4514-4f9e-bd00-e25beba575cf",
   "metadata": {},
   "source": [
    "here we can see strings easily converted to the integers because , in the format of string (\"\") there is an integer identifiers which is only writen in the format of string , thats why it will converted into the integers."
   ]
  },
  {
   "cell_type": "code",
   "execution_count": 77,
   "id": "bef0a60e-947a-41b7-83bb-455926e162d2",
   "metadata": {},
   "outputs": [
    {
     "name": "stdout",
     "output_type": "stream",
     "text": [
      "<class 'str'>\n",
      "15.0\n",
      "<class 'float'>\n"
     ]
    }
   ],
   "source": [
    "# strings to float\n",
    "a = \"15\"\n",
    "print(type(a))\n",
    "print(float(a))\n",
    "print(type(float(a)))"
   ]
  },
  {
   "cell_type": "code",
   "execution_count": 78,
   "id": "aa05ddc0-7175-40ce-b585-895ca5992f0d",
   "metadata": {},
   "outputs": [
    {
     "data": {
      "text/plain": [
       "15.28"
      ]
     },
     "execution_count": 78,
     "metadata": {},
     "output_type": "execute_result"
    }
   ],
   "source": [
    "a = \"15.28\"\n",
    "float(a)"
   ]
  },
  {
   "cell_type": "raw",
   "id": "7f7a0c0f-c9ea-4e12-8708-b45ebe5fd359",
   "metadata": {},
   "source": [
    "here we can see strings easily converted to the float because , in the format of string (\"\") there is an integer identifiers which is only writen in the format of string , thats why it will converted into the float."
   ]
  },
  {
   "cell_type": "code",
   "execution_count": 72,
   "id": "8e50704f-04b6-465b-a47a-b0fbf0ef782b",
   "metadata": {},
   "outputs": [
    {
     "ename": "ValueError",
     "evalue": "invalid literal for int() with base 10: 'Mohsin'",
     "output_type": "error",
     "traceback": [
      "\u001b[0;31m---------------------------------------------------------------------------\u001b[0m",
      "\u001b[0;31mValueError\u001b[0m                                Traceback (most recent call last)",
      "Cell \u001b[0;32mIn[72], line 3\u001b[0m\n\u001b[1;32m      1\u001b[0m \u001b[38;5;66;03m# strings into integer\u001b[39;00m\n\u001b[1;32m      2\u001b[0m a \u001b[38;5;241m=\u001b[39m \u001b[38;5;124m\"\u001b[39m\u001b[38;5;124mMohsin\u001b[39m\u001b[38;5;124m\"\u001b[39m\n\u001b[0;32m----> 3\u001b[0m \u001b[38;5;28;43mint\u001b[39;49m\u001b[43m(\u001b[49m\u001b[43ma\u001b[49m\u001b[43m)\u001b[49m\n",
      "\u001b[0;31mValueError\u001b[0m: invalid literal for int() with base 10: 'Mohsin'"
     ]
    }
   ],
   "source": [
    "# strings into integer\n",
    "a = \"Mohsin\"\n",
    "int(a) # here we get an error because here the value of a is in string form and also in the string form there is string value in doble cot."
   ]
  },
  {
   "cell_type": "raw",
   "id": "5f661d2d-e08e-48d4-8c8c-f984f87294a2",
   "metadata": {},
   "source": [
    "here we get an error because here the value of a is in string form and also in the string form there is string value in doble cot.\n",
    "so a proper string never change in any other identifiers . here in string format the value is also a string that why it will not change into integer."
   ]
  },
  {
   "cell_type": "code",
   "execution_count": 73,
   "id": "693ea903-2762-45e4-b417-624c3ec3ac91",
   "metadata": {},
   "outputs": [
    {
     "ename": "NameError",
     "evalue": "name 'mohsin' is not defined",
     "output_type": "error",
     "traceback": [
      "\u001b[0;31m---------------------------------------------------------------------------\u001b[0m",
      "\u001b[0;31mNameError\u001b[0m                                 Traceback (most recent call last)",
      "Cell \u001b[0;32mIn[73], line 1\u001b[0m\n\u001b[0;32m----> 1\u001b[0m a \u001b[38;5;241m=\u001b[39m \u001b[43mmohsin\u001b[49m\n\u001b[1;32m      2\u001b[0m b \u001b[38;5;241m=\u001b[39m \u001b[38;5;241m5\u001b[39m\n\u001b[1;32m      3\u001b[0m a \u001b[38;5;241m+\u001b[39m b\n",
      "\u001b[0;31mNameError\u001b[0m: name 'mohsin' is not defined"
     ]
    }
   ],
   "source": [
    "a = mohsin\n",
    "b = 5\n",
    "a + b"
   ]
  },
  {
   "cell_type": "raw",
   "id": "448c4a32-e6dc-4a89-afb7-e8b55c387306",
   "metadata": {},
   "source": [
    "here we again get an error because , mohsin is not defined , and in python undefined identifiers means nothing and will give error always."
   ]
  },
  {
   "cell_type": "code",
   "execution_count": 64,
   "id": "c686d17f-b30e-4134-bcb7-8505130c1cbe",
   "metadata": {},
   "outputs": [
    {
     "data": {
      "text/plain": [
       "64.25"
      ]
     },
     "execution_count": 64,
     "metadata": {},
     "output_type": "execute_result"
    }
   ],
   "source": [
    "# now if we want to add float and integers or integers and float\n",
    "a = 50.25\n",
    "b = 14\n",
    "a + b"
   ]
  },
  {
   "cell_type": "code",
   "execution_count": 65,
   "id": "8877c434-2d2f-4ad7-8a1c-b21315367f86",
   "metadata": {},
   "outputs": [
    {
     "ename": "TypeError",
     "evalue": "can only concatenate str (not \"int\") to str",
     "output_type": "error",
     "traceback": [
      "\u001b[0;31m---------------------------------------------------------------------------\u001b[0m",
      "\u001b[0;31mTypeError\u001b[0m                                 Traceback (most recent call last)",
      "Cell \u001b[0;32mIn[65], line 4\u001b[0m\n\u001b[1;32m      2\u001b[0m a \u001b[38;5;241m=\u001b[39m \u001b[38;5;124m\"\u001b[39m\u001b[38;5;124m5\u001b[39m\u001b[38;5;124m\"\u001b[39m\n\u001b[1;32m      3\u001b[0m b \u001b[38;5;241m=\u001b[39m \u001b[38;5;241m10\u001b[39m\n\u001b[0;32m----> 4\u001b[0m \u001b[43ma\u001b[49m\u001b[43m \u001b[49m\u001b[38;5;241;43m+\u001b[39;49m\u001b[43m \u001b[49m\u001b[43mb\u001b[49m\n",
      "\u001b[0;31mTypeError\u001b[0m: can only concatenate str (not \"int\") to str"
     ]
    }
   ],
   "source": [
    "# if we add integers and strings\n",
    "a = \"5\"\n",
    "b = 10\n",
    "a + b"
   ]
  },
  {
   "cell_type": "code",
   "execution_count": 68,
   "id": "f495edc6-8310-47b4-9d0c-1c9df0211596",
   "metadata": {},
   "outputs": [
    {
     "ename": "TypeError",
     "evalue": "can only concatenate str (not \"int\") to str",
     "output_type": "error",
     "traceback": [
      "\u001b[0;31m---------------------------------------------------------------------------\u001b[0m",
      "\u001b[0;31mTypeError\u001b[0m                                 Traceback (most recent call last)",
      "Cell \u001b[0;32mIn[68], line 3\u001b[0m\n\u001b[1;32m      1\u001b[0m a \u001b[38;5;241m=\u001b[39m \u001b[38;5;124m\"\u001b[39m\u001b[38;5;124mMohsin\u001b[39m\u001b[38;5;124m\"\u001b[39m\n\u001b[1;32m      2\u001b[0m b \u001b[38;5;241m=\u001b[39m \u001b[38;5;241m5\u001b[39m\n\u001b[0;32m----> 3\u001b[0m \u001b[43ma\u001b[49m\u001b[43m \u001b[49m\u001b[38;5;241;43m+\u001b[39;49m\u001b[43m \u001b[49m\u001b[43mb\u001b[49m\n",
      "\u001b[0;31mTypeError\u001b[0m: can only concatenate str (not \"int\") to str"
     ]
    }
   ],
   "source": [
    "a = \"Mohsin\"\n",
    "b = 5\n",
    "a + b"
   ]
  },
  {
   "cell_type": "raw",
   "id": "91c78a05-4ab5-4cac-83bc-ef14aa205592",
   "metadata": {},
   "source": [
    "so here we can see an error accur , because string cannot be added with any other type of variables , string only can be added with string variables.\n",
    "# here we can see an error occurs that is concatenate str error"
   ]
  },
  {
   "cell_type": "markdown",
   "id": "4ccbdef4-092f-44fb-92fe-bd44e6839887",
   "metadata": {},
   "source": [
    "##### Concatenate"
   ]
  },
  {
   "cell_type": "raw",
   "id": "2d44ecb5-d8ce-4839-a569-1078135e278d",
   "metadata": {},
   "source": [
    "# what is concatenate ?\n",
    "ans - the adding of string variables to the string variable is known as concatenate.\n",
    "\n",
    "and when we add string to any other type of identifiers then an error occurs and that errror is known as concatenate error.\n",
    "\n",
    "lets try concatenate:-"
   ]
  },
  {
   "cell_type": "code",
   "execution_count": 66,
   "id": "6b7126c1-2355-4e09-8e9e-3c8e7635b470",
   "metadata": {},
   "outputs": [
    {
     "data": {
      "text/plain": [
       "'Mohsin Khan'"
      ]
     },
     "execution_count": 66,
     "metadata": {},
     "output_type": "execute_result"
    }
   ],
   "source": [
    "a = \"Mohsin \"\n",
    "b = \"Khan\"\n",
    "a + b"
   ]
  },
  {
   "cell_type": "code",
   "execution_count": 67,
   "id": "a927549e-9fc8-4497-a66c-b8a61aa7d1ab",
   "metadata": {},
   "outputs": [
    {
     "data": {
      "text/plain": [
       "'Mohsin5'"
      ]
     },
     "execution_count": 67,
     "metadata": {},
     "output_type": "execute_result"
    }
   ],
   "source": [
    "a = \"Mohsin\"\n",
    "b = \"5\"  # here we can see integer also add with strings because this integer is in double cot (\"\") , behaves like a strings\n",
    "a + b"
   ]
  },
  {
   "cell_type": "markdown",
   "id": "e698fbd2-c5b1-469e-aae2-835f66ef0186",
   "metadata": {},
   "source": [
    "##### Notes -  anything in double cot (\"\") or single cot ('') are behave like string identifiers."
   ]
  },
  {
   "cell_type": "code",
   "execution_count": 71,
   "id": "53de135c-f9ba-44ff-af85-bd22228b09f9",
   "metadata": {},
   "outputs": [
    {
     "data": {
      "text/plain": [
       "'100 Mohsin'"
      ]
     },
     "execution_count": 71,
     "metadata": {},
     "output_type": "execute_result"
    }
   ],
   "source": [
    "a = \"100\"\n",
    "b = \" Mohsin\"\n",
    "a + b"
   ]
  },
  {
   "cell_type": "raw",
   "id": "f3537e68-0809-4aec-bc27-8a530f16443a",
   "metadata": {},
   "source": [
    "This is the complete understanding of type casting."
   ]
  },
  {
   "cell_type": "markdown",
   "id": "c6a1c4c4-90ae-4880-8e0f-b6e6f42a3735",
   "metadata": {},
   "source": [
    "## Question 6 - How do conditional statements work in python ? Illustrate with examples ."
   ]
  },
  {
   "cell_type": "raw",
   "id": "b4e61834-d16a-480c-82a8-8652ba7fda43",
   "metadata": {},
   "source": [
    "Ans - Conditionals Statment :-  Conditional statemnts are basically helps only when there is any type of conditions occur.\n",
    "                                 like , if the weather is Sunny , then i will go to play . "
   ]
  },
  {
   "cell_type": "raw",
   "id": "afc72372-10a6-4487-86b3-8e70a91efdd3",
   "metadata": {},
   "source": [
    "** - Types of conditional statements are :-\n",
    "* if\n",
    "* if else\n",
    "* if elif else\n",
    "* nested if else"
   ]
  },
  {
   "cell_type": "raw",
   "id": "741da3f8-b6ce-4d40-89d2-2623174084eb",
   "metadata": {},
   "source": [
    "'if' statement is a type of conditional situation statement. in real life we always do anything with some conditions like :-\n",
    " i will not go to play cricket , if the weather is rainy . this is a example of 'if' condition.\n",
    "* 'if' only execute true situation , if we give any false situation in 'if' statement it will not execute the code."
   ]
  },
  {
   "cell_type": "code",
   "execution_count": 4,
   "id": "8d43ebd7-5083-4d0d-972e-aed34a990ca8",
   "metadata": {},
   "outputs": [
    {
     "name": "stdout",
     "output_type": "stream",
     "text": [
      "The condition which is given on variable is correct\n"
     ]
    }
   ],
   "source": [
    "# now lets discuss 'if' statement with some examples :-\n",
    "a = 50\n",
    "b = 25\n",
    "if a > b :\n",
    "    print(\"The condition which is given on variable is correct\")"
   ]
  },
  {
   "cell_type": "code",
   "execution_count": 8,
   "id": "0aa6ff93-95c4-4a57-90d9-3ee42658183f",
   "metadata": {},
   "outputs": [
    {
     "name": "stdout",
     "output_type": "stream",
     "text": [
      "50\n"
     ]
    }
   ],
   "source": [
    "a = 50\n",
    "b = 25\n",
    "if a > b :\n",
    "    print(a)"
   ]
  },
  {
   "cell_type": "code",
   "execution_count": 13,
   "id": "29ed9c73-4369-4da6-a034-24eb8490b109",
   "metadata": {},
   "outputs": [
    {
     "name": "stdout",
     "output_type": "stream",
     "text": [
      "I will  go to play\n"
     ]
    }
   ],
   "source": [
    "# lets try with other example\n",
    "# if weather is sunny , then i will go to play.\n",
    "weather = \"Sunny\"  # this is the assignment statement\n",
    "if weather == \"Sunny\" : # this is he condition\n",
    "    print(\"I will  go to play\")"
   ]
  },
  {
   "cell_type": "code",
   "execution_count": 14,
   "id": "54e43567-aef6-44f0-8285-6511fc84aa5a",
   "metadata": {},
   "outputs": [
    {
     "name": "stdout",
     "output_type": "stream",
     "text": [
      "a is lesser\n"
     ]
    }
   ],
   "source": [
    "a = 50       # this is the assignment statement\n",
    "if a < 60 :  # this is the 'if' conditional statement\n",
    "    print(\"a is lesser\")"
   ]
  },
  {
   "cell_type": "code",
   "execution_count": 15,
   "id": "26f006e4-0bff-4e50-9cb9-5a756cb9716a",
   "metadata": {},
   "outputs": [
    {
     "name": "stdout",
     "output_type": "stream",
     "text": [
      "a is greater\n"
     ]
    }
   ],
   "source": [
    "a = 10\n",
    "if a > 5 :\n",
    "    print(\"a is greater\")"
   ]
  },
  {
   "cell_type": "raw",
   "id": "aae0eb82-b0fa-4c67-8b9b-21a2f48016de",
   "metadata": {},
   "source": [
    "# so here we can see the 'if' condition , it will work when the condition is true "
   ]
  },
  {
   "cell_type": "raw",
   "id": "b7dd603c-983a-4800-a79b-599fab060f24",
   "metadata": {},
   "source": [
    "# now lets see what happen if we  try with false condition :-"
   ]
  },
  {
   "cell_type": "code",
   "execution_count": 16,
   "id": "e970a7ce-dc35-4d00-bf0c-4e0379e852a1",
   "metadata": {},
   "outputs": [],
   "source": [
    "a = 50\n",
    "if a < 20 :\n",
    "    print(\"a is lesser\")"
   ]
  },
  {
   "cell_type": "raw",
   "id": "10031b41-1b77-4703-9f74-743ee0933207",
   "metadata": {},
   "source": [
    "so here we can easily see that the code is not executed , because the condition of code is false , and we know 'if' condition never work in the false situation."
   ]
  },
  {
   "cell_type": "code",
   "execution_count": 17,
   "id": "65595cd1-2105-43fd-80ff-bb975375167c",
   "metadata": {},
   "outputs": [],
   "source": [
    "# lets try with one more example :-\n",
    "weather = \"Sunny\"\n",
    "if weather == \"Rainy\":\n",
    "    print(\"i will not go to play\")  "
   ]
  },
  {
   "cell_type": "raw",
   "id": "d9f93dc9-7f9d-483d-ac55-a35548bd9c1e",
   "metadata": {},
   "source": [
    "so here code doesn't execute , because we assign diffrent variable and comparision diffrent variable (false)\n",
    "now here code will not execute because the situation is not correct."
   ]
  },
  {
   "cell_type": "code",
   "execution_count": 19,
   "id": "637d13e7-f3c2-45fa-99f6-ca7ca5eb28f3",
   "metadata": {},
   "outputs": [
    {
     "ename": "SyntaxError",
     "evalue": "expected ':' (3439270246.py, line 2)",
     "output_type": "error",
     "traceback": [
      "\u001b[0;36m  Cell \u001b[0;32mIn[19], line 2\u001b[0;36m\u001b[0m\n\u001b[0;31m    if a > 20\u001b[0m\n\u001b[0m             ^\u001b[0m\n\u001b[0;31mSyntaxError\u001b[0m\u001b[0;31m:\u001b[0m expected ':'\n"
     ]
    }
   ],
   "source": [
    "a = 50\n",
    "if a > 20\n",
    "print(\"a is greater than 20\") # here indentation is missing , thats why we get error."
   ]
  },
  {
   "cell_type": "code",
   "execution_count": 10,
   "id": "396d0226-1172-4412-9ae8-43b4cfd93e33",
   "metadata": {},
   "outputs": [
    {
     "name": "stdout",
     "output_type": "stream",
     "text": [
      "a is a even number\n"
     ]
    }
   ],
   "source": [
    "a = 50\n",
    "if a % 2 == 0:\n",
    "    print(\"a is a even number\")"
   ]
  },
  {
   "cell_type": "code",
   "execution_count": 12,
   "id": "59caacce-5c28-4f45-a7ca-7ecf6f3e95d7",
   "metadata": {},
   "outputs": [
    {
     "name": "stdout",
     "output_type": "stream",
     "text": [
      "a is a odd number\n"
     ]
    }
   ],
   "source": [
    "a = 51\n",
    "if a % 2 == 1:\n",
    "    print(\"a is a odd number\")"
   ]
  },
  {
   "cell_type": "code",
   "execution_count": 13,
   "id": "3b54ea7f-b289-4ba8-91ad-dadd7d1e0b34",
   "metadata": {},
   "outputs": [
    {
     "name": "stdout",
     "output_type": "stream",
     "text": [
      "Student will pass\n"
     ]
    }
   ],
   "source": [
    "grade = 33\n",
    "if grade >= 33:\n",
    "    print(\"Student will pass\")"
   ]
  },
  {
   "cell_type": "code",
   "execution_count": 2,
   "id": "5f4f47fc-a577-4290-afbb-322bf046b60c",
   "metadata": {},
   "outputs": [
    {
     "name": "stdout",
     "output_type": "stream",
     "text": [
      "Excellent\n"
     ]
    }
   ],
   "source": [
    "grade = 80\n",
    "if grade >= 80 :\n",
    "    print(\"Excellent\")"
   ]
  },
  {
   "cell_type": "code",
   "execution_count": 5,
   "id": "75330f0f-9195-4dc0-872f-d31aba428f3c",
   "metadata": {},
   "outputs": [
    {
     "name": "stdout",
     "output_type": "stream",
     "text": [
      "Outstanding\n"
     ]
    }
   ],
   "source": [
    "grade = 95\n",
    "if grade >=90:\n",
    "    print(\"Outstanding\")"
   ]
  },
  {
   "cell_type": "code",
   "execution_count": 16,
   "id": "6473074a-f91f-41c0-b309-138d83380b3f",
   "metadata": {},
   "outputs": [],
   "source": [
    "grade = 33\n",
    "if grade < 33:\n",
    "    print(\"Student will fail\") # here we can see the code will not be executed because , condition is false"
   ]
  },
  {
   "cell_type": "code",
   "execution_count": 18,
   "id": "971046a8-11ea-4d0f-8ceb-9c96b554d0ff",
   "metadata": {},
   "outputs": [
    {
     "name": "stdout",
     "output_type": "stream",
     "text": [
      "Student will fail\n"
     ]
    }
   ],
   "source": [
    "grade = 33\n",
    "if grade <= 33:\n",
    "    print(\"Student will fail\") "
   ]
  },
  {
   "cell_type": "code",
   "execution_count": 19,
   "id": "095402d5-d9b9-4657-92c4-60674229143a",
   "metadata": {},
   "outputs": [
    {
     "name": "stdout",
     "output_type": "stream",
     "text": [
      "Studying in the data analyst course\n"
     ]
    }
   ],
   "source": [
    "data_analyst = True\n",
    "if data_analyst:\n",
    "    print(\"Studying in the data analyst course\")"
   ]
  },
  {
   "cell_type": "code",
   "execution_count": 20,
   "id": "e62fbc5a-e1fe-4359-95a6-4ed2d7afed0c",
   "metadata": {},
   "outputs": [],
   "source": [
    "data_analyst = False\n",
    "if data_analyst:\n",
    "    print(\"Studying in the data analyst course\") "
   ]
  },
  {
   "cell_type": "raw",
   "id": "14892c1c-77d8-43c9-b6ce-5b306d7927ab",
   "metadata": {},
   "source": [
    "# so here we can see the code will not execute because the statement is false"
   ]
  },
  {
   "cell_type": "code",
   "execution_count": 21,
   "id": "88032d29-7e66-4763-90b3-db5fb99cd7ba",
   "metadata": {},
   "outputs": [
    {
     "name": "stdout",
     "output_type": "stream",
     "text": [
      "Studying in the class\n"
     ]
    }
   ],
   "source": [
    "data_analyst = 1\n",
    "if data_analyst:\n",
    "    print(\"Studying in the class\")"
   ]
  },
  {
   "cell_type": "code",
   "execution_count": 22,
   "id": "213f99ce-7ba1-48b1-8b6d-aded9859ff26",
   "metadata": {},
   "outputs": [],
   "source": [
    "data_analyst = 0\n",
    "if data_analyst:\n",
    "    print(\"Studying in the class\")"
   ]
  },
  {
   "cell_type": "raw",
   "id": "bbeae250-9f55-4af2-a340-f509e6f2d4c5",
   "metadata": {},
   "source": [
    "here code will not execute because in python '0' means false , and we not in python with 'if' condition false statement will not excute."
   ]
  },
  {
   "cell_type": "raw",
   "id": "207f966b-12c7-4032-862a-5530222d083e",
   "metadata": {},
   "source": [
    "# so here we can also see code will not executed again , becuase the statement is false .\n",
    "so now we can totally understand 'if' condition .\n",
    "if we use normally 'print' keyword then we can easily print anything we want , but when we use 'print' keywords with 'if' condition , then only true condition will execute , false condition does not execute ."
   ]
  },
  {
   "cell_type": "code",
   "execution_count": 7,
   "id": "e426c0b3-c0fa-4f51-a796-12073228dd5e",
   "metadata": {},
   "outputs": [
    {
     "name": "stdout",
     "output_type": "stream",
     "text": [
      "a is even number with positive sign\n"
     ]
    }
   ],
   "source": [
    "# multiple conditions with 'if' statement :- in real life decisions are based on multiple conditions.\n",
    "a = 8\n",
    "if (a % 2 == 0) and (a > 0):\n",
    "    print(\"a is even number with positive sign\")"
   ]
  },
  {
   "cell_type": "code",
   "execution_count": 8,
   "id": "482c655f-29fb-491f-8f7f-fc33565488dc",
   "metadata": {},
   "outputs": [
    {
     "name": "stdout",
     "output_type": "stream",
     "text": [
      "Average Student\n"
     ]
    }
   ],
   "source": [
    "grade = 65\n",
    "co_curr = 8\n",
    "if (grade >= 60) and (co_curr > 7):\n",
    "    print(\"Average Student\")"
   ]
  },
  {
   "cell_type": "raw",
   "id": "da6009d1-cc73-49cd-89a4-b2f5c2fe4f96",
   "metadata": {},
   "source": [
    "'if' statement would not be execute the code in this situation are :-\n",
    "* When assign variable is diffrent and we compare with diffrent variables\n",
    "* when 'if' condition is not correct.\n",
    "* when the statement is false .\n",
    "* when the statement is eqauls to '0' , because in python '0' is equals to false.\n",
    "* when the indentation syntax (:) is missing .\n",
    "* when 'if' condition does not difining assignment statement  properly ."
   ]
  },
  {
   "cell_type": "raw",
   "id": "dafc852b-3aef-4de2-ae47-cadfbde8f73d",
   "metadata": {},
   "source": [
    "so this is all about 'if' condition ."
   ]
  },
  {
   "cell_type": "markdown",
   "id": "fd4edeef-5235-4be4-93da-f6bcf3041284",
   "metadata": {},
   "source": [
    "### if else condition"
   ]
  },
  {
   "cell_type": "code",
   "execution_count": 2,
   "id": "8c05b3f6-34ec-4043-bb98-6da7971f0f3a",
   "metadata": {},
   "outputs": [],
   "source": [
    "# if else condition :- in real life if one condition is not fulfill , then we will do anything else .\n",
    "    # example :- if weather is not rainy , i will go to play cricket else i will watch T.V.\n",
    "# let's see some examples :-"
   ]
  },
  {
   "cell_type": "code",
   "execution_count": 3,
   "id": "44c87d81-3959-4558-bbe8-2864147a0ee5",
   "metadata": {},
   "outputs": [
    {
     "name": "stdout",
     "output_type": "stream",
     "text": [
      "I will go to play criket\n"
     ]
    }
   ],
   "source": [
    "weather = \"Summer\"         # assignment statement\n",
    "if weather == \"Summer\":    # here this condition is true thats why 'if' statment will execute.\n",
    "    print(\"I will go to play criket\")\n",
    "else:\n",
    "    print(\"I will watch T.V\")"
   ]
  },
  {
   "cell_type": "code",
   "execution_count": 4,
   "id": "bffcd781-7b29-4200-953a-447a53906c5a",
   "metadata": {},
   "outputs": [
    {
     "name": "stdout",
     "output_type": "stream",
     "text": [
      "I will watch T.V\n"
     ]
    }
   ],
   "source": [
    "weather = \"Summer\"        # assignment statement\n",
    "if weather == \"Rainy\":    # here we can see that the condition is false , thats why 'if' statement is not executed.\n",
    "    print(\"I will go to play criket\")\n",
    "else:\n",
    "    print(\"I will watch T.V\")  # the condition is false thats why else statemnt will executed . "
   ]
  },
  {
   "cell_type": "raw",
   "id": "05d9a9af-db6b-4355-8f22-014ecc9b983f",
   "metadata": {},
   "source": [
    "if else statement :- so here we can see where 'if' block will not execute because the condition is false , then else block will be excuted . \n",
    "else statement -: it is used to execute both of the true part and the false part of a given condition."
   ]
  },
  {
   "cell_type": "code",
   "execution_count": 5,
   "id": "37a2e7c0-b005-4a91-8fa2-ec1620495c40",
   "metadata": {},
   "outputs": [
    {
     "name": "stdout",
     "output_type": "stream",
     "text": [
      "a is greater\n"
     ]
    }
   ],
   "source": [
    "a = 52\n",
    "if a < 20 :\n",
    "    print(\"a is leeser\")\n",
    "else:\n",
    "    print(\"a is greater\")"
   ]
  },
  {
   "cell_type": "raw",
   "id": "42ea8b64-0f5a-4c4e-b093-98b0b6c089f7",
   "metadata": {},
   "source": [
    "it means where if block will not able to execute then at those time else block will execute the code."
   ]
  },
  {
   "cell_type": "code",
   "execution_count": 6,
   "id": "9080e451-87a1-48c4-85c4-fcdd2ee74ca5",
   "metadata": {},
   "outputs": [
    {
     "name": "stdout",
     "output_type": "stream",
     "text": [
      "b is greater or equals to a\n"
     ]
    }
   ],
   "source": [
    "a = 50\n",
    "b = 100\n",
    "if a >= b:\n",
    "    print(\"a is greater or eqauls to b\")\n",
    "else:\n",
    "    print(\"b is greater or equals to a\")"
   ]
  },
  {
   "cell_type": "code",
   "execution_count": 7,
   "id": "040a160e-bb9b-4f9c-9018-37e7d53533bf",
   "metadata": {},
   "outputs": [
    {
     "name": "stdout",
     "output_type": "stream",
     "text": [
      "Excellent\n"
     ]
    }
   ],
   "source": [
    "grade = 85\n",
    "if grade >= 85:\n",
    "    print(\"Excellent\") # so here the condition is true thats why if block will execyte.\n",
    "else:\n",
    "    print(\"Average\")"
   ]
  },
  {
   "cell_type": "code",
   "execution_count": 8,
   "id": "76fa7669-c3d8-47c9-ae42-0bd92e680a94",
   "metadata": {},
   "outputs": [
    {
     "name": "stdout",
     "output_type": "stream",
     "text": [
      "Average\n"
     ]
    }
   ],
   "source": [
    "grade = 75\n",
    "if grade >= 85:\n",
    "    print(\"Excellent\")\n",
    "else:\n",
    "    print(\"Average\") # here the condition does not match the assignment statemnt , thats why here else block will executed."
   ]
  },
  {
   "cell_type": "code",
   "execution_count": 9,
   "id": "672c7c36-57a5-4468-a0fe-9ed3d3d35c50",
   "metadata": {},
   "outputs": [
    {
     "name": "stdout",
     "output_type": "stream",
     "text": [
      "Good course\n"
     ]
    }
   ],
   "source": [
    "# lets try with some diffrent examples :- \n",
    "data_analyst = True\n",
    "if data_analyst:\n",
    "    print(\"Good course\") # so here the condition is true , thats why 'if' block executed.\n",
    "else:\n",
    "    print(\"Average course\")"
   ]
  },
  {
   "cell_type": "code",
   "execution_count": 10,
   "id": "e9b4cab0-d588-4f85-9ee7-f253b0eb1449",
   "metadata": {},
   "outputs": [
    {
     "name": "stdout",
     "output_type": "stream",
     "text": [
      "Average course\n"
     ]
    }
   ],
   "source": [
    "data_analyst = False\n",
    "if data_analyst:\n",
    "    print(\"Good course\")\n",
    "else:\n",
    "    print(\"Average course\") #so here the condition is false , thats why 'else' block executed."
   ]
  },
  {
   "cell_type": "code",
   "execution_count": 12,
   "id": "22c5721f-5d50-4273-80f5-b86ce019c2ba",
   "metadata": {},
   "outputs": [
    {
     "name": "stdout",
     "output_type": "stream",
     "text": [
      "Not equals to\n"
     ]
    }
   ],
   "source": [
    "a = 50\n",
    "b = 85\n",
    "if a == b:\n",
    "    print(\"equals to\")\n",
    "else:\n",
    "    print(\"Not equals to\")"
   ]
  },
  {
   "cell_type": "code",
   "execution_count": 13,
   "id": "5888bc72-62ca-41c2-9345-e62280302f44",
   "metadata": {},
   "outputs": [
    {
     "name": "stdout",
     "output_type": "stream",
     "text": [
      "Eligible for the driving licence\n"
     ]
    }
   ],
   "source": [
    "driving_licence_age = 21\n",
    "if driving_licence_age >= 21:\n",
    "    print(\"Eligible for the driving licence\")\n",
    "else:\n",
    "    print(\"Not eligible for the driving licence\")"
   ]
  },
  {
   "cell_type": "code",
   "execution_count": 14,
   "id": "2bc7ffc2-c8bc-45d8-88c1-110090260add",
   "metadata": {},
   "outputs": [
    {
     "name": "stdout",
     "output_type": "stream",
     "text": [
      "Not eligible for the driving licence\n"
     ]
    }
   ],
   "source": [
    "driving_licence_age = 18\n",
    "if driving_licence_age >= 21:\n",
    "    print(\"Eligible for the driving licence\")\n",
    "else:\n",
    "    print(\"Not eligible for the driving licence\")"
   ]
  },
  {
   "cell_type": "code",
   "execution_count": 16,
   "id": "aeb4c776-0d08-4f9d-abe6-c5ad34abf60b",
   "metadata": {},
   "outputs": [
    {
     "name": "stdout",
     "output_type": "stream",
     "text": [
      "Serve the alcohol\n"
     ]
    }
   ],
   "source": [
    "serving_alcohol_age = 21\n",
    "if serving_alcohol_age >= 21:\n",
    "    print(\"Serve the alcohol\")\n",
    "else:\n",
    "    print(\"Under age\")"
   ]
  },
  {
   "cell_type": "code",
   "execution_count": 17,
   "id": "4d33c30a-7b83-4d47-aa18-6f9079394fb4",
   "metadata": {},
   "outputs": [
    {
     "name": "stdout",
     "output_type": "stream",
     "text": [
      "Under age\n"
     ]
    }
   ],
   "source": [
    "serving_alcohol_age = 20\n",
    "if serving_alcohol_age >= 21:\n",
    "    print(\"Serve the alcohol\")\n",
    "else:\n",
    "    print(\"Under age\")"
   ]
  },
  {
   "cell_type": "code",
   "execution_count": 18,
   "id": "1a83a3eb-e5f8-4222-a01f-0546f5ded51d",
   "metadata": {},
   "outputs": [
    {
     "name": "stdout",
     "output_type": "stream",
     "text": [
      "Even number\n"
     ]
    }
   ],
   "source": [
    "# lets try with some diffrent examples :-\n",
    "# lets find the odd and even value :-\n",
    "a = 50\n",
    "if a % 2 == 0:\n",
    "    print(\"Even number\")\n",
    "else:\n",
    "    print(\"Odd number\")"
   ]
  },
  {
   "cell_type": "code",
   "execution_count": 19,
   "id": "d79b856b-9977-45c2-8a38-73f469b27c27",
   "metadata": {},
   "outputs": [
    {
     "name": "stdout",
     "output_type": "stream",
     "text": [
      "Odd number\n"
     ]
    }
   ],
   "source": [
    "a = 53\n",
    "if a % 2 == 0:\n",
    "    print(\"Even number\")\n",
    "else:\n",
    "    print(\"Odd number\")"
   ]
  },
  {
   "cell_type": "code",
   "execution_count": 20,
   "id": "e8d57a35-09b8-434e-b765-8bcfe17d8732",
   "metadata": {},
   "outputs": [
    {
     "name": "stdout",
     "output_type": "stream",
     "text": [
      "Odd number\n"
     ]
    }
   ],
   "source": [
    "a = 5\n",
    "if a % 2 == 0:\n",
    "    print(\"Even number\")\n",
    "else:\n",
    "    print(\"Odd number\")"
   ]
  },
  {
   "cell_type": "code",
   "execution_count": 21,
   "id": "401ed073-a44d-41a0-839c-f58c5485abf1",
   "metadata": {},
   "outputs": [
    {
     "name": "stdout",
     "output_type": "stream",
     "text": [
      "Even number\n"
     ]
    }
   ],
   "source": [
    "a = 8\n",
    "if a % 2 == 0:\n",
    "    print(\"Even number\")\n",
    "else:\n",
    "    print(\"Odd number\")"
   ]
  },
  {
   "cell_type": "code",
   "execution_count": 22,
   "id": "7a019825-35e1-4e86-baca-44560c93049a",
   "metadata": {},
   "outputs": [
    {
     "name": "stdout",
     "output_type": "stream",
     "text": [
      "a is even number with positive sign\n"
     ]
    }
   ],
   "source": [
    "a = 16\n",
    "if (a % 2 == 0) and (a >= 0):\n",
    "    print(\"a is even number with positive sign\")\n",
    "else:\n",
    "    print(\"a is odd number with negative sign\")"
   ]
  },
  {
   "cell_type": "code",
   "execution_count": 24,
   "id": "be9a6c57-e3d5-43b0-b4b8-74a49be4bbb5",
   "metadata": {},
   "outputs": [
    {
     "name": "stdout",
     "output_type": "stream",
     "text": [
      "a is odd number with negative sign\n"
     ]
    }
   ],
   "source": [
    "a = -15\n",
    "if (a % 2 == 0) and (a >= 0):\n",
    "    print(\"a is even number with positive sign\")\n",
    "else:\n",
    "    print(\"a is odd number with negative sign\")"
   ]
  },
  {
   "cell_type": "markdown",
   "id": "289c8ddc-67b4-4e60-bbb4-ded357e2817e",
   "metadata": {},
   "source": [
    "### if else have two conditions :- just like in real life we have so many conditions."
   ]
  },
  {
   "cell_type": "raw",
   "id": "e65a3aa2-32b6-4cb7-b944-b7eb259ef16d",
   "metadata": {},
   "source": [
    "# if else condition are :-\n",
    "* if elif else \n",
    "* Nested if else"
   ]
  },
  {
   "cell_type": "markdown",
   "id": "d704dbac-3108-4b5d-9e27-d6d04488330c",
   "metadata": {},
   "source": [
    "### if_elif_else"
   ]
  },
  {
   "cell_type": "code",
   "execution_count": 25,
   "id": "71f8074e-8f17-446d-b2df-d16aea42ccd2",
   "metadata": {},
   "outputs": [],
   "source": [
    "# 'if elif else' conditon :- when there is so many  conditions.\n",
    "# if >> some conditions\n",
    "# elif >> some conditions\n",
    "# else"
   ]
  },
  {
   "cell_type": "code",
   "execution_count": 27,
   "id": "85c69138-2eac-47f9-9b01-be072d6ef66d",
   "metadata": {},
   "outputs": [
    {
     "name": "stdout",
     "output_type": "stream",
     "text": [
      "Student pass  with first division\n"
     ]
    }
   ],
   "source": [
    "# lets try with some exmples are :-\n",
    "grade = 80\n",
    "if grade < 33:\n",
    "    print(\"Student Fail\")\n",
    "elif 33 <= grade <= 50 :\n",
    "    print(\"Student Just pass with third division\")\n",
    "elif 51 <= grade <= 70 :\n",
    "    print(\"Student pass with second division\")\n",
    "elif 71 <= grade <= 90 :\n",
    "    print(\"Student pass  with first division\")\n",
    "else:\n",
    "    print(\"Student pass with first division with an execellecy\")"
   ]
  },
  {
   "cell_type": "code",
   "execution_count": 28,
   "id": "161de6c5-97bf-43b0-9cee-bc9e4519a7b5",
   "metadata": {},
   "outputs": [
    {
     "name": "stdout",
     "output_type": "stream",
     "text": [
      "Student Fail\n"
     ]
    }
   ],
   "source": [
    "# if student got 25 percent :-\n",
    "grade = 25\n",
    "if grade < 33:\n",
    "    print(\"Student Fail\")\n",
    "elif 33 <= grade <= 50 :\n",
    "    print(\"Student Just pass with third division\")\n",
    "elif 51 <= grade <= 70 :\n",
    "    print(\"Student pass with second division\")\n",
    "elif 71 <= grade <= 90 :\n",
    "    print(\"Student pass  with first division\")\n",
    "else:\n",
    "    print(\"Student pass with first division with an execellecy\")"
   ]
  },
  {
   "cell_type": "code",
   "execution_count": 29,
   "id": "d905befd-23b2-48fd-ac88-9cd0b0a5c1fe",
   "metadata": {},
   "outputs": [
    {
     "name": "stdout",
     "output_type": "stream",
     "text": [
      "Student pass with first division with an execellecy\n"
     ]
    }
   ],
   "source": [
    "# if student got 93 percentage :-\n",
    "grade = 93\n",
    "if grade < 33:\n",
    "    print(\"Student Fail\")\n",
    "elif 33 <= grade <= 50 :\n",
    "    print(\"Student Just pass with third division\")\n",
    "elif 51 <= grade <= 70 :\n",
    "    print(\"Student pass with second division\")\n",
    "elif 71 <= grade <= 90 :\n",
    "    print(\"Student pass  with first division\")\n",
    "else:\n",
    "    print(\"Student pass with first division with an execellecy\")"
   ]
  },
  {
   "cell_type": "code",
   "execution_count": 30,
   "id": "01130abc-e953-4ec3-9ca2-3589ae70842a",
   "metadata": {},
   "outputs": [
    {
     "name": "stdout",
     "output_type": "stream",
     "text": [
      "Student pass with second division\n"
     ]
    }
   ],
   "source": [
    "# if student got 56 percentage :-\n",
    "grade = 56\n",
    "if grade < 33:\n",
    "    print(\"Student Fail\")\n",
    "elif 33 <= grade <= 50 :\n",
    "    print(\"Student Just pass with third division\")\n",
    "elif 51 <= grade <= 70 :\n",
    "    print(\"Student pass with second division\")\n",
    "elif 71 <= grade <= 90 :\n",
    "    print(\"Student pass  with first division\")\n",
    "else:\n",
    "    print(\"Student pass with first division with an execellecy\")"
   ]
  },
  {
   "cell_type": "code",
   "execution_count": 31,
   "id": "91e2f44d-fca3-4de9-a3c8-16e263a852c2",
   "metadata": {},
   "outputs": [
    {
     "name": "stdout",
     "output_type": "stream",
     "text": [
      "smaller\n"
     ]
    }
   ],
   "source": [
    "# lets try 'if elif else' with some diffrent examples :-\n",
    "a = 100\n",
    "if a > 1000:\n",
    "    print(\"Greater\")\n",
    "elif a < 1000:\n",
    "    print(\"smaller\")\n",
    "else:\n",
    "    print(\"equals to\")"
   ]
  },
  {
   "cell_type": "code",
   "execution_count": 32,
   "id": "a5851961-76f8-4560-8377-8176967e848c",
   "metadata": {},
   "outputs": [
    {
     "name": "stdout",
     "output_type": "stream",
     "text": [
      "Greater\n"
     ]
    }
   ],
   "source": [
    "a = 2000\n",
    "if a > 1000:\n",
    "    print(\"Greater\")\n",
    "elif a < 1000:\n",
    "    print(\"smaller\")\n",
    "else:\n",
    "    print(\"equals to\")"
   ]
  },
  {
   "cell_type": "code",
   "execution_count": 33,
   "id": "6c2bc43d-2be6-4d5e-a625-4b8d0cba59a0",
   "metadata": {},
   "outputs": [],
   "source": [
    "# lets try 'if elif else' with some diffrent examples :-\n",
    "# a bar give entry only the age is greater or equals to 21 and give some special discount to the age between 30 to 45 ,\n",
    "# and will give 80% discount to the age between 45 to 55 years. this is the situation lets make a code to execute this situation."
   ]
  },
  {
   "cell_type": "code",
   "execution_count": 39,
   "id": "019da500-e6be-4053-adc9-995a35d3a911",
   "metadata": {},
   "outputs": [
    {
     "name": "stdout",
     "output_type": "stream",
     "text": [
      "Underage , does not give entry in the bar\n"
     ]
    }
   ],
   "source": [
    "Entry_age = 20\n",
    "if (Entry_age <= 20):\n",
    "    print(\"Underage , does not give entry in the bar\")\n",
    "elif Entry_age >= 21:\n",
    "    print(\"Welcome in the bar without any discount\")\n",
    "elif 30 <= Entry_age <= 45 :\n",
    "    print(\"Welcome in the bar with the complimentry dinner discount\")\n",
    "elif (Entry_age >= 45) and (Entry_age <= 55):\n",
    "    print(\"Welcome to the bar with the special discount of 80% \")\n",
    "else:\n",
    "    print(\"Welcome to the bar with speacial condition , to give  only 2 peg with complimentry dinner\")"
   ]
  },
  {
   "cell_type": "code",
   "execution_count": 51,
   "id": "f811fa90-2ea5-44bf-84d8-157a2ffb9eaf",
   "metadata": {},
   "outputs": [
    {
     "name": "stdout",
     "output_type": "stream",
     "text": [
      "Welcome in the bar without any discount\n"
     ]
    }
   ],
   "source": [
    "Entry_age = 21\n",
    "if (Entry_age <= 20):\n",
    "    print(\"Underage , does not give entry in the bar\")\n",
    "elif 21 <= Entry_age <= 30:\n",
    "    print(\"Welcome in the bar without any discount\")\n",
    "elif 30 < Entry_age <= 45 :\n",
    "    print(\"Welcome in the bar with the complimentry dinner discount\")\n",
    "elif (Entry_age >= 46) and (Entry_age <= 55):\n",
    "    print(\"Welcome to the bar with the special discount of 80% \")\n",
    "else:\n",
    "    print(\"Welcome to the bar with speacial condition , to give  only 2 peg with complimentry dinner\")"
   ]
  },
  {
   "cell_type": "code",
   "execution_count": 40,
   "id": "9bf030d7-e145-4496-b947-b092104902da",
   "metadata": {},
   "outputs": [
    {
     "name": "stdout",
     "output_type": "stream",
     "text": [
      "Welcome in the bar without any discount\n"
     ]
    }
   ],
   "source": [
    "Entry_age = 26\n",
    "if (Entry_age <= 20):\n",
    "    print(\"Underage , does not give entry in the bar\")\n",
    "elif Entry_age >= 21:\n",
    "    print(\"Welcome in the bar without any discount\")\n",
    "elif 30 <= Entry_age <= 45 :\n",
    "    print(\"Welcome in the bar with the complimentry dinner discount\")\n",
    "elif (Entry_age >= 45) and (Entry_age <= 55):\n",
    "    print(\"Welcome to the bar with the special discount of 80% \")\n",
    "else:\n",
    "    print(\"Welcome to the bar with speacial condition , to give  only 2 peg with complimentry dinner\")"
   ]
  },
  {
   "cell_type": "code",
   "execution_count": 44,
   "id": "9086b161-8edc-403b-902a-0b2dd3287a59",
   "metadata": {},
   "outputs": [
    {
     "name": "stdout",
     "output_type": "stream",
     "text": [
      "Welcome in the bar with the complimentry dinner discount\n"
     ]
    }
   ],
   "source": [
    "Entry_age = 44\n",
    "if (Entry_age <= 20):\n",
    "    print(\"Underage , does not give entry in the bar\")\n",
    "elif 21 <= Entry_age <= 30:\n",
    "    print(\"Welcome in the bar without any discount\")\n",
    "elif 30 < Entry_age <= 45 :\n",
    "    print(\"Welcome in the bar with the complimentry dinner discount\")\n",
    "elif (Entry_age >= 46) and (Entry_age <= 55):\n",
    "    print(\"Welcome to the bar with the special discount of 80% \")\n",
    "else:\n",
    "    print(\"Welcome to the bar with speacial condition , to give  only 2 peg with complimentry dinner\")"
   ]
  },
  {
   "cell_type": "code",
   "execution_count": 45,
   "id": "54a8e3b1-68d9-43b4-80e4-3446d6855867",
   "metadata": {},
   "outputs": [
    {
     "name": "stdout",
     "output_type": "stream",
     "text": [
      "Welcome in the bar without any discount\n"
     ]
    }
   ],
   "source": [
    "Entry_age = 30\n",
    "if (Entry_age <= 20):\n",
    "    print(\"Underage , does not give entry in the bar\")\n",
    "elif 21 <= Entry_age <= 30:\n",
    "    print(\"Welcome in the bar without any discount\")\n",
    "elif 30 < Entry_age <= 45 :\n",
    "    print(\"Welcome in the bar with the complimentry dinner discount\")\n",
    "elif (Entry_age >= 46) and (Entry_age <= 55):\n",
    "    print(\"Welcome to the bar with the special discount of 80% \")\n",
    "else:\n",
    "    print(\"Welcome to the bar with speacial condition , to give  only 2 peg with complimentry dinner\")"
   ]
  },
  {
   "cell_type": "code",
   "execution_count": 46,
   "id": "85b33088-4c9e-44c4-9fb9-81b65d827240",
   "metadata": {},
   "outputs": [
    {
     "name": "stdout",
     "output_type": "stream",
     "text": [
      "Welcome in the bar with the complimentry dinner discount\n"
     ]
    }
   ],
   "source": [
    "Entry_age = 31\n",
    "if (Entry_age <= 20):\n",
    "    print(\"Underage , does not give entry in the bar\")\n",
    "elif 21 <= Entry_age <= 30:\n",
    "    print(\"Welcome in the bar without any discount\")\n",
    "elif 30 < Entry_age <= 45 :\n",
    "    print(\"Welcome in the bar with the complimentry dinner discount\")\n",
    "elif (Entry_age >= 46) and (Entry_age <= 55):\n",
    "    print(\"Welcome to the bar with the special discount of 80% \")\n",
    "else:\n",
    "    print(\"Welcome to the bar with speacial condition , to give  only 2 peg with complimentry dinner\")"
   ]
  },
  {
   "cell_type": "code",
   "execution_count": 47,
   "id": "f270ed72-669f-45c7-a63d-f633bf09c736",
   "metadata": {},
   "outputs": [
    {
     "name": "stdout",
     "output_type": "stream",
     "text": [
      "Welcome to the bar with the special discount of 80% \n"
     ]
    }
   ],
   "source": [
    "Entry_age = 46\n",
    "if (Entry_age <= 20):\n",
    "    print(\"Underage , does not give entry in the bar\")\n",
    "elif 21 <= Entry_age <= 30:\n",
    "    print(\"Welcome in the bar without any discount\")\n",
    "elif 30 < Entry_age <= 45 :\n",
    "    print(\"Welcome in the bar with the complimentry dinner discount\")\n",
    "elif (Entry_age >= 46) and (Entry_age <= 55):\n",
    "    print(\"Welcome to the bar with the special discount of 80% \")\n",
    "else:\n",
    "    print(\"Welcome to the bar with speacial condition , to give  only 2 peg with complimentry dinner\")"
   ]
  },
  {
   "cell_type": "code",
   "execution_count": 48,
   "id": "21e680eb-1a37-4f36-b607-f2e722b4426b",
   "metadata": {},
   "outputs": [
    {
     "name": "stdout",
     "output_type": "stream",
     "text": [
      "Welcome to the bar with the special discount of 80% \n"
     ]
    }
   ],
   "source": [
    "Entry_age = 55\n",
    "if (Entry_age <= 20):\n",
    "    print(\"Underage , does not give entry in the bar\")\n",
    "elif 21 <= Entry_age <= 30:\n",
    "    print(\"Welcome in the bar without any discount\")\n",
    "elif 30 < Entry_age <= 45 :\n",
    "    print(\"Welcome in the bar with the complimentry dinner discount\")\n",
    "elif (Entry_age >= 46) and (Entry_age <= 55):\n",
    "    print(\"Welcome to the bar with the special discount of 80% \")\n",
    "else:\n",
    "    print(\"Welcome to the bar with speacial condition , to give  only 2 peg with complimentry dinner\")"
   ]
  },
  {
   "cell_type": "code",
   "execution_count": 49,
   "id": "ce853f3e-f50a-4fda-820d-de92fc75646e",
   "metadata": {},
   "outputs": [
    {
     "name": "stdout",
     "output_type": "stream",
     "text": [
      "Welcome to the bar with speacial condition , to give  only 2 peg with complimentry dinner\n"
     ]
    }
   ],
   "source": [
    "Entry_age = 56\n",
    "if (Entry_age <= 20):\n",
    "    print(\"Underage , does not give entry in the bar\")\n",
    "elif 21 <= Entry_age <= 30:\n",
    "    print(\"Welcome in the bar without any discount\")\n",
    "elif 30 < Entry_age <= 45 :\n",
    "    print(\"Welcome in the bar with the complimentry dinner discount\")\n",
    "elif (Entry_age >= 46) and (Entry_age <= 55):\n",
    "    print(\"Welcome to the bar with the special discount of 80% \")\n",
    "else:\n",
    "    print(\"Welcome to the bar with speacial condition , to give  only 2 peg with complimentry dinner\")"
   ]
  },
  {
   "cell_type": "code",
   "execution_count": 50,
   "id": "475d9139-50c9-4fec-974c-36d2c8a387af",
   "metadata": {},
   "outputs": [
    {
     "name": "stdout",
     "output_type": "stream",
     "text": [
      "Welcome to the bar with speacial condition , to give  only 2 peg with complimentry dinner\n"
     ]
    }
   ],
   "source": [
    "Entry_age = 65\n",
    "if (Entry_age <= 20):\n",
    "    print(\"Underage , does not give entry in the bar\")\n",
    "elif 21 <= Entry_age <= 30:\n",
    "    print(\"Welcome in the bar without any discount\")\n",
    "elif 30 < Entry_age <= 45 :\n",
    "    print(\"Welcome in the bar with the complimentry dinner discount\")\n",
    "elif (Entry_age >= 46) and (Entry_age <= 55):\n",
    "    print(\"Welcome to the bar with the special discount of 80% \")\n",
    "else:\n",
    "    print(\"Welcome to the bar with speacial condition , to give  only 2 peg with complimentry dinner\")"
   ]
  },
  {
   "cell_type": "raw",
   "id": "e72430be-cac5-4d7b-aaa9-586e978aa3b3",
   "metadata": {},
   "source": [
    "so this is the complete code for that resturant .\n",
    "\n",
    "## so here we can see by the use of 'elif' block we can make codes on so many conditions without any error.\n",
    "## we can use n number of 'elif' block"
   ]
  },
  {
   "cell_type": "code",
   "execution_count": 51,
   "id": "51f97a9f-fde5-411a-bf26-474488fb18f9",
   "metadata": {},
   "outputs": [
    {
     "name": "stdin",
     "output_type": "stream",
     "text": [
      "Enter your number -  5\n"
     ]
    },
    {
     "name": "stdout",
     "output_type": "stream",
     "text": [
      "my number is -  5 <class 'str'>\n"
     ]
    }
   ],
   "source": [
    "# lets try 'if elif else' with input/output\n",
    "a = (input(\"Enter your number - \") # if here we does not use 'int'\n",
    "print(\"my number is - \" , a , type(a)) # then the type is strings."
   ]
  },
  {
   "cell_type": "code",
   "execution_count": 54,
   "id": "13f863d6-57f9-4f69-9c80-fb4d93d153c4",
   "metadata": {},
   "outputs": [
    {
     "name": "stdin",
     "output_type": "stream",
     "text": [
      "Enter your number -  5\n"
     ]
    },
    {
     "name": "stdout",
     "output_type": "stream",
     "text": [
      "my number is -  5 <class 'int'>\n"
     ]
    }
   ],
   "source": [
    "a = int(input(\"Enter your number - \")) # if here use 'int'\n",
    "print(\"my number is - \" , a , type(a)) # now we can see here , when we use 'int' then the type in integers."
   ]
  },
  {
   "cell_type": "code",
   "execution_count": 62,
   "id": "644565e7-98d1-454a-9fe7-326ccf4b13e3",
   "metadata": {},
   "outputs": [
    {
     "name": "stdin",
     "output_type": "stream",
     "text": [
      "Enter your number -  50\n"
     ]
    },
    {
     "name": "stdout",
     "output_type": "stream",
     "text": [
      "The number is lesser than 80\n"
     ]
    }
   ],
   "source": [
    "a = int(input(\"Enter your number - \"))\n",
    "if a > 80:\n",
    "    print(\" The number is greater than 80 \")\n",
    "elif 0 < a < 80:\n",
    "    print(\"The number is lesser than 80\")\n",
    "elif a == 80 :\n",
    "    print(\"The number is equals to 80\")\n",
    "else:\n",
    "    print(\"The number is in negative integers\")"
   ]
  },
  {
   "cell_type": "code",
   "execution_count": 61,
   "id": "5b2993c6-3912-465d-a7ce-7350738cc73c",
   "metadata": {},
   "outputs": [
    {
     "name": "stdin",
     "output_type": "stream",
     "text": [
      "Enter your number -  100\n"
     ]
    },
    {
     "name": "stdout",
     "output_type": "stream",
     "text": [
      " The number is greater than 80 \n"
     ]
    }
   ],
   "source": [
    "a = int(input(\"Enter your number - \"))\n",
    "if a > 80:\n",
    "    print(\" The number is greater than 80 \")\n",
    "elif 0 < a < 80:\n",
    "    print(\"The number is lesser than 80\")\n",
    "elif a == 80 :\n",
    "    print(\"The number is equals to 80\")\n",
    "else:\n",
    "    print(\"The number is in negative integers\")"
   ]
  },
  {
   "cell_type": "code",
   "execution_count": 60,
   "id": "a18782cf-3f45-4a59-8771-e1b1db1b5a0d",
   "metadata": {},
   "outputs": [
    {
     "name": "stdin",
     "output_type": "stream",
     "text": [
      "Enter your number -  80\n"
     ]
    },
    {
     "name": "stdout",
     "output_type": "stream",
     "text": [
      "The number is equals to 80\n"
     ]
    }
   ],
   "source": [
    "a = int(input(\"Enter your number - \"))\n",
    "if a > 80:\n",
    "    print(\" The number is greater than 80 \")\n",
    "elif 0 < a < 80:\n",
    "    print(\"The number is lesser than 80\")\n",
    "elif a == 80 :\n",
    "    print(\"The number is equals to 80\")\n",
    "else:\n",
    "    print(\"The number is in negative integers\")"
   ]
  },
  {
   "cell_type": "code",
   "execution_count": 59,
   "id": "4e04ecd1-3e50-40d0-817f-fc932fecf45c",
   "metadata": {},
   "outputs": [
    {
     "name": "stdin",
     "output_type": "stream",
     "text": [
      "Enter your number -  -2\n"
     ]
    },
    {
     "name": "stdout",
     "output_type": "stream",
     "text": [
      "The number is in negative integers\n"
     ]
    }
   ],
   "source": [
    "a = int(input(\"Enter your number - \"))\n",
    "if a > 80:\n",
    "    print(\" The number is greater than 80 \")\n",
    "elif 0 < a < 80:\n",
    "    print(\"The number is lesser than 80\")\n",
    "elif a == 80 :\n",
    "    print(\"The number is equals to 80\")\n",
    "else:\n",
    "    print(\"The number is in negative integers\")"
   ]
  },
  {
   "cell_type": "raw",
   "id": "3fbab1bd-b9f6-4ab0-ae9e-2d2f20ed6624",
   "metadata": {},
   "source": [
    "This is the complete understanding of 'if elif else ' condition."
   ]
  },
  {
   "cell_type": "markdown",
   "id": "62a9f3f9-c946-46a4-a5d1-79a2129ea6ca",
   "metadata": {},
   "source": [
    "### Nested if else :-"
   ]
  },
  {
   "cell_type": "code",
   "execution_count": 1,
   "id": "d06bf03e-0696-44c5-afe6-85b21ded6dd6",
   "metadata": {},
   "outputs": [],
   "source": [
    "# nested if else :- in 'nested if else' we can use multiple 'if else' :-"
   ]
  },
  {
   "cell_type": "code",
   "execution_count": 5,
   "id": "3c85f1ca-7847-434d-92c4-1dde71059342",
   "metadata": {},
   "outputs": [
    {
     "name": "stdout",
     "output_type": "stream",
     "text": [
      "a and b both objects are less than 500\n"
     ]
    }
   ],
   "source": [
    "# lets try with some examples :-\n",
    "a = 100\n",
    "b = 150\n",
    "if a > 500 :\n",
    "    print(\"a is greater than b\")\n",
    "    if b < 500 :\n",
    "        print(\"b is greater than a\")\n",
    "    else:\n",
    "        print(\"a and b both is greater than 500\")\n",
    "else:\n",
    "    print(\"a and b both objects are less than 500\")"
   ]
  },
  {
   "cell_type": "raw",
   "id": "c461e708-98c4-4e0b-aba8-8fee6741441d",
   "metadata": {},
   "source": [
    "# when greater 'if' condition is not correct then smaller 'if' also cannot execute the code.\n",
    "# \"if\" statement inside another \"if\" statement. The inner \"if\" statement only runs if the outer \"if\" statement is True."
   ]
  },
  {
   "cell_type": "code",
   "execution_count": 6,
   "id": "ee45afb3-4ded-42e6-a5a3-563a0e225887",
   "metadata": {},
   "outputs": [
    {
     "name": "stdout",
     "output_type": "stream",
     "text": [
      "a is greater\n",
      "b is greater than a\n"
     ]
    }
   ],
   "source": [
    "a = 50\n",
    "b = 100\n",
    "if a > 20 :\n",
    "    print(\"a is greater\")\n",
    "    if b > a :\n",
    "        print(\"b is greater than a\")\n",
    "    else:\n",
    "        print(\"Both are equal\")\n",
    "else:\n",
    "    print(\"Both are not equal\")"
   ]
  },
  {
   "cell_type": "code",
   "execution_count": 7,
   "id": "0d4e310e-979d-41ee-834e-435af5b63b78",
   "metadata": {},
   "outputs": [
    {
     "name": "stdout",
     "output_type": "stream",
     "text": [
      "Both are not equal\n"
     ]
    }
   ],
   "source": [
    "a = 50\n",
    "b = 100\n",
    "if a < 20 :\n",
    "    print(\"a is smaller\")\n",
    "    if b > a :\n",
    "        print(\"b is greater than a\")\n",
    "    else:\n",
    "        print(\"Both are equal\")\n",
    "else:\n",
    "    print(\"Both are not equal\")"
   ]
  },
  {
   "cell_type": "raw",
   "id": "e37ceeec-a91b-49e9-adc9-03fc36714604",
   "metadata": {},
   "source": [
    "# so here we can see that the inner 'if' statements only execute when the outer 'if' statement is correct."
   ]
  },
  {
   "cell_type": "code",
   "execution_count": 8,
   "id": "17bc911b-88dd-4ce5-8af3-d9aa2f2d5622",
   "metadata": {},
   "outputs": [
    {
     "ename": "SyntaxError",
     "evalue": "invalid syntax. Perhaps you forgot a comma? (3275956244.py, line 2)",
     "output_type": "error",
     "traceback": [
      "\u001b[0;36m  Cell \u001b[0;32mIn[8], line 2\u001b[0;36m\u001b[0m\n\u001b[0;31m    name = input(Please enter your name)\u001b[0m\n\u001b[0m                 ^\u001b[0m\n\u001b[0;31mSyntaxError\u001b[0m\u001b[0;31m:\u001b[0m invalid syntax. Perhaps you forgot a comma?\n"
     ]
    }
   ],
   "source": [
    "# now here we are going to use input/output :-\n",
    "name = input(Please enter your name)"
   ]
  },
  {
   "cell_type": "raw",
   "id": "7fe3614f-1330-4085-afeb-be6af4cbcb99",
   "metadata": {},
   "source": [
    "input/output only works in a string form , otherwise it will give error"
   ]
  },
  {
   "cell_type": "code",
   "execution_count": 9,
   "id": "99c14bfe-cc5a-4a3b-93e1-52e84da798a5",
   "metadata": {},
   "outputs": [
    {
     "name": "stdin",
     "output_type": "stream",
     "text": [
      "Please enter your name Mohsin\n"
     ]
    }
   ],
   "source": [
    "name = input(\"Please enter your name\")"
   ]
  },
  {
   "cell_type": "code",
   "execution_count": 11,
   "id": "4604c78a-2c49-4dee-9ae8-6f28bd875a3b",
   "metadata": {},
   "outputs": [
    {
     "name": "stdin",
     "output_type": "stream",
     "text": [
      "Please enter your name - 5\n"
     ]
    }
   ],
   "source": [
    "name = input(\"Please enter your name -\")"
   ]
  },
  {
   "cell_type": "code",
   "execution_count": 12,
   "id": "e8bd23c4-90e6-4fe7-9180-deb707812756",
   "metadata": {},
   "outputs": [
    {
     "name": "stdin",
     "output_type": "stream",
     "text": [
      "please enter your name - 5\n"
     ]
    }
   ],
   "source": [
    "name = str(input(\"please enter your name -\"))"
   ]
  },
  {
   "cell_type": "code",
   "execution_count": 16,
   "id": "3bb0cc69-5d03-476b-9126-25489f170dca",
   "metadata": {},
   "outputs": [
    {
     "name": "stdin",
     "output_type": "stream",
     "text": [
      "please enter your number - 5\n"
     ]
    }
   ],
   "source": [
    "name = int(input(\"please enter your number -\")) # so in the format of strings , we can write integer."
   ]
  },
  {
   "cell_type": "code",
   "execution_count": 17,
   "id": "8fade2fd-3e6d-4565-966d-dfdd4f9a551f",
   "metadata": {},
   "outputs": [
    {
     "data": {
      "text/plain": [
       "int"
      ]
     },
     "execution_count": 17,
     "metadata": {},
     "output_type": "execute_result"
    }
   ],
   "source": [
    "type(name)"
   ]
  },
  {
   "cell_type": "code",
   "execution_count": 20,
   "id": "8d73e3d9-0f42-4cd8-b982-2c19e9b13f2a",
   "metadata": {},
   "outputs": [
    {
     "name": "stdin",
     "output_type": "stream",
     "text": [
      "Please enter your name - Mohsin\n"
     ]
    },
    {
     "name": "stdout",
     "output_type": "stream",
     "text": [
      "My name is   Mohsin <class 'str'>\n"
     ]
    }
   ],
   "source": [
    "name = input(\"Please enter your name -\")\n",
    "print(\"My name is  \" , name , type(name))"
   ]
  },
  {
   "cell_type": "code",
   "execution_count": 22,
   "id": "9cb1afee-f1ee-42db-923b-12e91da513d3",
   "metadata": {},
   "outputs": [
    {
     "name": "stdin",
     "output_type": "stream",
     "text": [
      "What is my roll number -  15\n"
     ]
    },
    {
     "name": "stdout",
     "output_type": "stream",
     "text": [
      "My roll number is - 15 <class 'int'>\n"
     ]
    }
   ],
   "source": [
    "a = int(input(\"What is my roll number - \"))\n",
    "print(\"My roll number is -\" , a , type(a))"
   ]
  },
  {
   "cell_type": "code",
   "execution_count": 23,
   "id": "301ab853-d185-47e4-99db-eaea247deddc",
   "metadata": {},
   "outputs": [
    {
     "data": {
      "text/plain": [
       "6"
      ]
     },
     "execution_count": 23,
     "metadata": {},
     "output_type": "execute_result"
    }
   ],
   "source": [
    "# lets discuss about length (len) :- basically length is used to know the number of items in the collection.\n",
    "                                    # len told about the total number of integers or strings.\n",
    "                                   # # len should be always in strings format.      \n",
    "# examples:-\n",
    "a = \"mohsin\"\n",
    "len(a)"
   ]
  },
  {
   "cell_type": "code",
   "execution_count": 25,
   "id": "67402b19-8ce0-4eba-ad68-be4479d19237",
   "metadata": {},
   "outputs": [
    {
     "data": {
      "text/plain": [
       "4"
      ]
     },
     "execution_count": 25,
     "metadata": {},
     "output_type": "execute_result"
    }
   ],
   "source": [
    "len(\"adil\") "
   ]
  },
  {
   "cell_type": "code",
   "execution_count": 27,
   "id": "56083960-e8cb-4d78-bad1-898bf0746d7f",
   "metadata": {},
   "outputs": [
    {
     "data": {
      "text/plain": [
       "4"
      ]
     },
     "execution_count": 27,
     "metadata": {},
     "output_type": "execute_result"
    }
   ],
   "source": [
    "len(\"1000\")"
   ]
  },
  {
   "cell_type": "code",
   "execution_count": 28,
   "id": "1ee8f090-0c1a-47eb-a168-adebfab10f8a",
   "metadata": {},
   "outputs": [],
   "source": [
    "# now lets try 'nested if else' again :-"
   ]
  },
  {
   "cell_type": "code",
   "execution_count": 29,
   "id": "2ca4f907-df23-4682-86a9-4946896a60ae",
   "metadata": {},
   "outputs": [
    {
     "name": "stdin",
     "output_type": "stream",
     "text": [
      "What is your name -  Mohsin\n",
      "What is your D.O.B. -  03/06/1999\n",
      "What is your username -  mkmohsin243\n",
      "What is your mail id -  mkmohsin243@gmail.com\n",
      "What is your password -  Swati@1985\n"
     ]
    }
   ],
   "source": [
    "name = input(\"What is your name - \")\n",
    "D_O_B = input(\"What is your D.O.B. - \")\n",
    "username = input(\"What is your username - \")\n",
    "Mail_id = input(\"What is your mail id - \")\n",
    "Password = input(\"What is your password - \")"
   ]
  },
  {
   "cell_type": "code",
   "execution_count": 49,
   "id": "bd24a0e4-1b09-47db-9f10-afb99ce5f7cf",
   "metadata": {},
   "outputs": [
    {
     "name": "stdin",
     "output_type": "stream",
     "text": [
      "What is your name -  Mohsin\n",
      "What is your username -  mkmohsin243\n",
      "What is your mail id -  mkmohsin243@gmail.com\n",
      "What is your password -  Mohsin@123\n"
     ]
    },
    {
     "name": "stdout",
     "output_type": "stream",
     "text": [
      "Login Successfully\n"
     ]
    }
   ],
   "source": [
    "# now we use 'nested if else' on this and make a proper code :-\n",
    "name = input(\"What is your name - \")\n",
    "username = input(\"What is your username - \")\n",
    "Mail_id = input(\"What is your mail id - \")\n",
    "Password = input(\"What is your password - \")\n",
    "\n",
    "if name == (\"\"):\n",
    "    print(\"Please enter a valid name , can not be empty\")\n",
    "elif \"@\" in name:\n",
    "    print(\"Invalid name , because @ cannot be used in name\")\n",
    "else:\n",
    "    if (\"@\" in username):\n",
    "        print(\"Username is not correct, because username does not contain @ .\")\n",
    "    else:\n",
    "        if (\"@\" not in Mail_id):\n",
    "            print(\"Invalid mail , Mail id is not in proper format\")\n",
    "        else:\n",
    "            if len(Password) <= 8:\n",
    "                print(\"Password is to short\")\n",
    "            elif(\"@\" not in Password):\n",
    "                print(\"Invalid Password , special character missing\")\n",
    "            else:\n",
    "                print( \"Login Successfully\")"
   ]
  },
  {
   "cell_type": "raw",
   "id": "06816bb5-9ea4-492c-a097-f3639a907af2",
   "metadata": {},
   "source": [
    "this is the complete example of 'nested if else'"
   ]
  },
  {
   "cell_type": "code",
   "execution_count": 6,
   "id": "569a9160-63a5-4a99-9ee4-b626525a0cda",
   "metadata": {},
   "outputs": [
    {
     "name": "stdin",
     "output_type": "stream",
     "text": [
      "Please enter your name Mohsin\n",
      "Enter your mail mkmohsin243@gmail.com\n",
      "Enter your password Mohsin@123\n"
     ]
    },
    {
     "name": "stdout",
     "output_type": "stream",
     "text": [
      "Login Successfull\n"
     ]
    }
   ],
   "source": [
    "# lets try with one more exmples :-\n",
    "name = input(\"Please enter your name\")\n",
    "email = input(\"Enter your mail\")\n",
    "password = input(\"Enter your password\")\n",
    "\n",
    "if name == (\"\"):\n",
    "    print(\"Invalid name , please try again\")\n",
    "else:\n",
    "    if \"@\" not in email :\n",
    "        print(\"Invalid email\")\n",
    "    else:\n",
    "        if (\"@\" not in password):\n",
    "            print(\"Invalid password , retry\")\n",
    "        else:\n",
    "            print(\"Login Successfull\")"
   ]
  },
  {
   "cell_type": "raw",
   "id": "d93abb0d-2c0a-4320-8986-29527ed70670",
   "metadata": {},
   "source": [
    "So this is the complete understanding about conditional statements."
   ]
  },
  {
   "cell_type": "markdown",
   "id": "ffc07390-bc30-4f97-9333-4e50c55e097e",
   "metadata": {},
   "source": [
    "## Question 7 - Decribe the different types of loops in python and their use cases with examples."
   ]
  },
  {
   "cell_type": "raw",
   "id": "eb0e3856-b98c-434d-a28b-cc897aa5c4e0",
   "metadata": {},
   "source": [
    "Ans - Loops -: Basically repeating something over and over until a particular condition is satisfied is known as loops. Loops are used to execute code repeadtely untill the condition will not satisfied.\n",
    " \n",
    " \n",
    "Loops are two types :-\n",
    "1 - while loop\n",
    "2 - for loop"
   ]
  },
  {
   "cell_type": "raw",
   "id": "d5beb690-49c3-4055-b718-c80aca80fc85",
   "metadata": {},
   "source": [
    "1 - while loop :- while loop used to execute the code repeadtely , till the condition will not get false. it means untill the condition is true while loop will be executed the code again and again till the condition will not get false . \n",
    "\n",
    "* while loop executed the code repeatedly , while the condition is not met , but when the condition met then while loop exist the loop immidiatelly on that same purticular itration , where the condition is met .\n",
    "\n",
    "like :- in a buffet i will try each and every dishes while i get chicken biryani.\n",
    "\n",
    "here it means a person who want to taste every dishes , till when he get chicken biryani , he will stop tasting dishes after getting chicken biryani."
   ]
  },
  {
   "cell_type": "code",
   "execution_count": 9,
   "id": "ff25bdf8-d578-4d12-9e68-8e9390b0fa23",
   "metadata": {},
   "outputs": [
    {
     "name": "stdout",
     "output_type": "stream",
     "text": [
      "40\n",
      "41\n",
      "42\n",
      "43\n",
      "44\n",
      "45\n",
      "46\n",
      "47\n",
      "48\n",
      "49\n"
     ]
    }
   ],
   "source": [
    "# examole :-\n",
    "a = 50\n",
    "b = 40\n",
    "while a > b: # this is the condition\n",
    "    print(b)\n",
    "    b = b+1 #  this is the situation"
   ]
  },
  {
   "cell_type": "raw",
   "id": "cf75e96a-9b4a-469d-a100-4f21bc51bb69",
   "metadata": {},
   "source": [
    "so here we can see , 'while' loop execute the code untill the situation matches the condition."
   ]
  },
  {
   "cell_type": "code",
   "execution_count": 10,
   "id": "fbb4b4e4-9120-4642-b8f2-768f63016da9",
   "metadata": {},
   "outputs": [
    {
     "name": "stdout",
     "output_type": "stream",
     "text": [
      "4\n",
      "3\n",
      "2\n",
      "1\n"
     ]
    }
   ],
   "source": [
    "# lets try with other examples :-\n",
    "count = 4\n",
    "while count > 0:  # this is the condition\n",
    "    print(count)\n",
    "    count = count - 1 # this is the situation"
   ]
  },
  {
   "cell_type": "code",
   "execution_count": 11,
   "id": "b5297e0a-7322-481e-9294-59e2efd2d363",
   "metadata": {},
   "outputs": [
    {
     "name": "stdout",
     "output_type": "stream",
     "text": [
      "10\n",
      "11\n",
      "12\n",
      "13\n",
      "14\n"
     ]
    }
   ],
   "source": [
    "a = 10\n",
    "b  = 15\n",
    "while a < b : # this is condition\n",
    "    print(a)\n",
    "    a = a+1   # this is situation"
   ]
  },
  {
   "cell_type": "raw",
   "id": "2c9d0155-571b-43de-b9f5-d1cec1da0038",
   "metadata": {},
   "source": [
    "till here we are completely seen that while loop only working till the condition is true , when the condition is false while loop will not working."
   ]
  },
  {
   "cell_type": "code",
   "execution_count": 12,
   "id": "c69e3b52-4644-42bd-9bd8-1c803d7bba79",
   "metadata": {},
   "outputs": [],
   "source": [
    "# lets try while loop with else :-"
   ]
  },
  {
   "cell_type": "code",
   "execution_count": 13,
   "id": "95cca492-03be-4b97-81f6-f047d60d8f89",
   "metadata": {},
   "outputs": [
    {
     "name": "stdout",
     "output_type": "stream",
     "text": [
      "10\n",
      "11\n",
      "12\n",
      "13\n",
      "14\n",
      "15\n",
      "16\n",
      "17\n",
      "18\n",
      "The code will executed successfully without any break\n"
     ]
    }
   ],
   "source": [
    "a = 18\n",
    "b = 10\n",
    "while b <= a :\n",
    "    print(b)\n",
    "    b = b+1\n",
    "else:\n",
    "    print(\"The code will executed successfully without any break\")"
   ]
  },
  {
   "cell_type": "code",
   "execution_count": 14,
   "id": "5afb77eb-73ae-41ab-baab-b37bb5e9bda0",
   "metadata": {},
   "outputs": [
    {
     "name": "stdout",
     "output_type": "stream",
     "text": [
      "The code will execute successfully , without any break\n"
     ]
    }
   ],
   "source": [
    "number = 11\n",
    "while number < 5: # here while loop will not executed because the condition is false.\n",
    "    print(number)\n",
    "    number = number - 1\n",
    "else:\n",
    "    print(\"The code will execute successfully , without any break\")"
   ]
  },
  {
   "cell_type": "raw",
   "id": "597888fb-25e4-433d-b2ca-fcb887f1a740",
   "metadata": {},
   "source": [
    "here while loop will not executed because the condition is false , because here the condition is number < 5 which means ( 11 < 5 ) which is completely false. that's why while loop not executed the code and take exist directly from the loop , and that's why else condition execute the code , because else condition can execute the code in both true situation as well as false situation."
   ]
  },
  {
   "cell_type": "code",
   "execution_count": 17,
   "id": "f8134566-6784-4cbf-b43d-20ee8942bdd5",
   "metadata": {},
   "outputs": [
    {
     "name": "stdout",
     "output_type": "stream",
     "text": [
      "11\n",
      "10\n",
      "9\n",
      "8\n",
      "7\n",
      "6\n",
      "The code will execute successfully , without any break\n"
     ]
    }
   ],
   "source": [
    "number = 11\n",
    "while number > 5: # here while loop will executed because now the condition is true.\n",
    "    print(number)\n",
    "    number = number - 1  # this is situation.\n",
    "else:\n",
    "    print(\"The code will execute successfully , without any break\")"
   ]
  },
  {
   "cell_type": "markdown",
   "id": "2d855a95-ec27-4c42-a5e5-b5239b9ae984",
   "metadata": {},
   "source": [
    "#### break statement :-"
   ]
  },
  {
   "cell_type": "raw",
   "id": "4b475ffa-3d48-456d-beaf-4690f29e9bd8",
   "metadata": {},
   "source": [
    "break statement :- break statement is basically used to terminate/exit the loop.\n",
    "                  break statement means when it actually break the loop before the condition is met , it will exist the loop."
   ]
  },
  {
   "cell_type": "code",
   "execution_count": 18,
   "id": "fe85f065-4e87-43fc-a317-23f200f797e4",
   "metadata": {},
   "outputs": [],
   "source": [
    "# lets try break statement with while loop :-"
   ]
  },
  {
   "cell_type": "code",
   "execution_count": 19,
   "id": "32bafa99-92f8-43ed-9572-6d81e3b40fb6",
   "metadata": {},
   "outputs": [
    {
     "name": "stdout",
     "output_type": "stream",
     "text": [
      "5\n",
      "6\n",
      "7\n",
      "8\n",
      "9\n"
     ]
    }
   ],
   "source": [
    "a = 15\n",
    "b = 5\n",
    "while a > b:\n",
    "    print(b)\n",
    "    b = b+1\n",
    "    if b == 10:\n",
    "        break\n",
    "else:\n",
    "    print(\"The code will executed properly , till the break statement met the condition.\")"
   ]
  },
  {
   "cell_type": "raw",
   "id": "8208553f-33d6-4d99-a126-7337bd85a55a",
   "metadata": {},
   "source": [
    "This is the concept of break statement , exist the loop when met the condition ."
   ]
  },
  {
   "cell_type": "code",
   "execution_count": 20,
   "id": "4f0b3d38-7957-4ce1-b342-740c8b43c41e",
   "metadata": {},
   "outputs": [
    {
     "name": "stdout",
     "output_type": "stream",
     "text": [
      "50\n",
      "49\n",
      "48\n",
      "47\n",
      "46\n",
      "45\n",
      "44\n",
      "43\n",
      "42\n",
      "41\n"
     ]
    }
   ],
   "source": [
    "roll_no = 50\n",
    "while roll_no >= 30:\n",
    "    print(roll_no)\n",
    "    roll_no = roll_no - 1\n",
    "    if roll_no == 40:\n",
    "        break\n",
    "else:\n",
    "    print(\"Student of this roll number will move toward play ground.\")"
   ]
  },
  {
   "cell_type": "code",
   "execution_count": 2,
   "id": "03f301e4-d9f7-425a-9ae2-ed79830bd99b",
   "metadata": {},
   "outputs": [
    {
     "name": "stdout",
     "output_type": "stream",
     "text": [
      "40\n",
      "41\n",
      "42\n",
      "43\n",
      "44\n",
      "45\n"
     ]
    }
   ],
   "source": [
    "a = 50\n",
    "b = 40\n",
    "while a > b:\n",
    "    print(b)\n",
    "    b = b + 1\n",
    "    if b == 46:\n",
    "        break\n",
    "else:\n",
    "    print(\"The code will execute with the break statement.\")"
   ]
  },
  {
   "cell_type": "markdown",
   "id": "d401d816-25f0-4dc0-8580-1588367cfb70",
   "metadata": {},
   "source": [
    "#### continue statement :-"
   ]
  },
  {
   "cell_type": "raw",
   "id": "6bd6fb29-1a99-431e-b3ea-4396468d56c4",
   "metadata": {},
   "source": [
    "continue statement :- this statement is basically used to skip a purticular itration. \n",
    "                    it means by the use of continue statement , while loop only skip a purticular itration, and then again continue of repeating till the loop will compleated and exist when the condition is met ."
   ]
  },
  {
   "cell_type": "code",
   "execution_count": 1,
   "id": "637e00d2-1fe8-434c-90d1-fa5e9729f0a7",
   "metadata": {},
   "outputs": [
    {
     "name": "stdout",
     "output_type": "stream",
     "text": [
      "6\n",
      "7\n",
      "8\n",
      "9\n",
      "11\n",
      "12\n",
      "13\n",
      "14\n",
      "15\n",
      "The code will executed with the continue statements\n"
     ]
    }
   ],
   "source": [
    "# example of continue statement with while loop :-\n",
    "a = 15\n",
    "b = 5\n",
    "while a > b:\n",
    "    b = b + 1\n",
    "    if b == 10:\n",
    "        continue\n",
    "    print(b)\n",
    "else:\n",
    "    print(\"The code will executed with the continue statements\")"
   ]
  },
  {
   "cell_type": "code",
   "execution_count": 4,
   "id": "26dcd480-ee35-4ed4-beb5-6a75902b2eab",
   "metadata": {},
   "outputs": [
    {
     "name": "stdout",
     "output_type": "stream",
     "text": [
      "49\n",
      "48\n",
      "47\n",
      "46\n",
      "44\n",
      "43\n",
      "42\n",
      "41\n",
      "40\n",
      "The code will executed successfully with the continue statement , beacuse their is no break statement\n"
     ]
    }
   ],
   "source": [
    "# lets try continue statement with another example :-\n",
    "roll_no = 50\n",
    "while roll_no > 40:\n",
    "    roll_no = roll_no - 1\n",
    "    if roll_no == 45:\n",
    "        continue\n",
    "    print(roll_no)\n",
    "else:\n",
    "    print(\"The code will executed successfully with the continue statement , beacuse their is no break statement\")"
   ]
  },
  {
   "cell_type": "code",
   "execution_count": 1,
   "id": "9538e007-a147-48f0-b262-3e96e253672d",
   "metadata": {},
   "outputs": [
    {
     "name": "stdout",
     "output_type": "stream",
     "text": [
      "43\n",
      "44\n",
      "45\n",
      "47\n",
      "48\n",
      "49\n",
      "50\n",
      "The code will run successfully , with the continue statement.\n"
     ]
    }
   ],
   "source": [
    "a = 50\n",
    "b = 42\n",
    "while a > b :\n",
    "    b = b+1\n",
    "    if b == 46:\n",
    "        continue\n",
    "    print(b)\n",
    "else:\n",
    "    print(\"The code will run successfully , with the continue statement.\")"
   ]
  },
  {
   "cell_type": "raw",
   "id": "6d322c3d-00fc-4814-8208-7c001ba942fb",
   "metadata": {},
   "source": [
    "2 - for loop - for loop is used to access the data in a sequence way.\n",
    "            * it means for loop is used to access the complete data in a sequence , utill the sequence of data is not completed , for loop                 will not be exist. when the data are completed then its automatically converted into false statement and exist the loop.\n",
    "           \n",
    "           * access the data individualy every time.\n",
    "\n",
    "\n",
    "* example :-  in a buffet , i will try each and avery dishes.\n",
    "\n",
    "* In 'for' loop there is two types of data are :-\n",
    "# strings\n",
    "# List"
   ]
  },
  {
   "cell_type": "code",
   "execution_count": null,
   "id": "8febd30b-9757-47e8-905d-de576e70ea08",
   "metadata": {},
   "outputs": [],
   "source": [
    "# Lets try some examples of strings type data :-"
   ]
  },
  {
   "cell_type": "code",
   "execution_count": 5,
   "id": "078f4fe7-6e26-4332-b147-bd903abf1c9b",
   "metadata": {},
   "outputs": [
    {
     "name": "stdout",
     "output_type": "stream",
     "text": [
      "p\n",
      "w\n",
      "s\n",
      "k\n",
      "i\n",
      "l\n",
      "l\n",
      "s\n"
     ]
    }
   ],
   "source": [
    "a = \"pwskills\"\n",
    "for i in a:\n",
    "    print(i)"
   ]
  },
  {
   "cell_type": "code",
   "execution_count": 6,
   "id": "28d20128-90a9-4aa9-9b05-1132b4103515",
   "metadata": {},
   "outputs": [
    {
     "name": "stdout",
     "output_type": "stream",
     "text": [
      "p\n",
      "w\n",
      "s\n",
      "k\n",
      "i\n",
      "l\n",
      "l\n",
      "s\n"
     ]
    }
   ],
   "source": [
    "a = \"pwskills\"\n",
    "for l in a:  # This is the condition.\n",
    "    print(l)"
   ]
  },
  {
   "cell_type": "markdown",
   "id": "a4f02dc7-d32e-4f8c-af8d-dd5de06db930",
   "metadata": {},
   "source": [
    "#### Lets try else with 'for' Loop :-"
   ]
  },
  {
   "cell_type": "code",
   "execution_count": 26,
   "id": "0ff032c6-f7f2-47b0-9ddc-3e5ca5298d10",
   "metadata": {},
   "outputs": [
    {
     "name": "stdout",
     "output_type": "stream",
     "text": [
      "p\n",
      "w\n",
      "s\n",
      "k\n",
      "i\n",
      "l\n",
      "l\n",
      "s\n",
      "The pwskills is a good platform\n"
     ]
    }
   ],
   "source": [
    "a = \"pwskills\"\n",
    "for l in a:  # This is the condition.\n",
    "    print(l)\n",
    "else:\n",
    "    print(\"The pwskills is a good platform\")"
   ]
  },
  {
   "cell_type": "raw",
   "id": "638ef93f-33dd-4d62-bdad-e5c5d949fa03",
   "metadata": {},
   "source": [
    "So this is the way of accessing the data in a single - single sequence  and check one by one according to the condition and then print the data is known as 'for' loop."
   ]
  },
  {
   "cell_type": "code",
   "execution_count": 7,
   "id": "c5a5f81b-eeae-42e7-a577-edb200ac2f6c",
   "metadata": {},
   "outputs": [],
   "source": [
    "# Now lets try some list type data :-"
   ]
  },
  {
   "cell_type": "code",
   "execution_count": 14,
   "id": "4f8adfeb-5194-4d5e-baa0-47f10df6296c",
   "metadata": {},
   "outputs": [
    {
     "name": "stdout",
     "output_type": "stream",
     "text": [
      "Mohsin\n",
      "Swati\n",
      "Abhishek\n",
      "Sanjeev\n",
      "Zeba\n",
      "Rashika\n",
      "Bheema\n"
     ]
    }
   ],
   "source": [
    "name = [\"Mohsin\" , \"Swati\" , \"Abhishek\" , \"Sanjeev\" , \"Zeba\" , \"Rashika\" , \"Bheema\"] # this is a list type data.\n",
    "for Sanjeev in name:\n",
    "    print(Sanjeev)"
   ]
  },
  {
   "cell_type": "code",
   "execution_count": 17,
   "id": "f75b623a-9ea7-4880-b10a-f5d43fe77bd2",
   "metadata": {},
   "outputs": [
    {
     "name": "stdout",
     "output_type": "stream",
     "text": [
      "Tomato\n",
      "Potato\n",
      "Cucumber\n",
      "Coriander\n",
      "Onion\n",
      "Green Chilli\n",
      "Garlic\n"
     ]
    }
   ],
   "source": [
    "# lets try with another example :-\n",
    "vegetables = [\"Tomato\" , \"Potato\" , \"Cucumber\" , \"Coriander\" , \"Onion\" , \"Green Chilli\" , \"Garlic\"]\n",
    "for cucumber in vegetables:\n",
    "    print(cucumber)"
   ]
  },
  {
   "cell_type": "markdown",
   "id": "4bfccf32-488a-4c1a-b0ac-82ffef5adff9",
   "metadata": {},
   "source": [
    "#### Lets try else with 'for' loop :-"
   ]
  },
  {
   "cell_type": "code",
   "execution_count": 27,
   "id": "4ba02b05-b10f-4642-ab30-7ca7e5e04700",
   "metadata": {},
   "outputs": [
    {
     "name": "stdout",
     "output_type": "stream",
     "text": [
      "Tomato\n",
      "Potato\n",
      "Cucumber\n",
      "Coriander\n",
      "Onion\n",
      "Green Chilli\n",
      "Garlic\n",
      "These are the best vegetables which are available in the market\n"
     ]
    }
   ],
   "source": [
    "vegetables = [\"Tomato\" , \"Potato\" , \"Cucumber\" , \"Coriander\" , \"Onion\" , \"Green Chilli\" , \"Garlic\"]\n",
    "for cucumber in vegetables:\n",
    "    print(cucumber)\n",
    "else:\n",
    "    print(\"These are the best vegetables which are available in the market\")"
   ]
  },
  {
   "cell_type": "raw",
   "id": "917e3f2e-aaef-409f-baed-509e4e3af3e7",
   "metadata": {},
   "source": [
    "So this is the complete understanding of list type data in 'for' loop."
   ]
  },
  {
   "cell_type": "markdown",
   "id": "019be41b-86b8-4aaf-b1fc-ed72b2fc92c9",
   "metadata": {},
   "source": [
    "#### Notes - now lets discuss break and continue statement in \"for\" loop."
   ]
  },
  {
   "cell_type": "code",
   "execution_count": 18,
   "id": "21a13f27-3acd-4b14-a979-dbd0fecaa224",
   "metadata": {},
   "outputs": [],
   "source": [
    "# lets try break and continue statement with strings type data in 'for' loop :-"
   ]
  },
  {
   "cell_type": "code",
   "execution_count": 19,
   "id": "8fd04600-cbdf-4403-a7cb-e8605559e362",
   "metadata": {},
   "outputs": [],
   "source": [
    "# Now first lest try break statement with strings type data in 'for' loop :-"
   ]
  },
  {
   "cell_type": "code",
   "execution_count": 33,
   "id": "60adc895-77f3-4db8-8852-81ce4d15c459",
   "metadata": {},
   "outputs": [
    {
     "name": "stdout",
     "output_type": "stream",
     "text": [
      "p\n",
      "w\n",
      "s\n",
      "k\n",
      "i\n"
     ]
    }
   ],
   "source": [
    "# example :-\n",
    "course = \"pwskills\" # This is the strings data type :-\n",
    "for i in course:\n",
    "    if i == \"l\":\n",
    "        break\n",
    "    print(i)\n",
    "else:\n",
    "    print(\"pwskills is the best course for the good learnings.\")"
   ]
  },
  {
   "cell_type": "raw",
   "id": "5fb6bb57-332b-46e0-bdef-77ca343b0fe3",
   "metadata": {},
   "source": [
    "# so here we can see that break statement of 'for' loop with strings data type. "
   ]
  },
  {
   "cell_type": "code",
   "execution_count": null,
   "id": "2bf4a0a8-4fcd-4ff4-baec-f970d20490f8",
   "metadata": {},
   "outputs": [],
   "source": [
    "# Now lets try continue statement of 'for' loop with strings type data."
   ]
  },
  {
   "cell_type": "code",
   "execution_count": 34,
   "id": "b1c51d39-a3c7-4618-ae30-2852bdce466f",
   "metadata": {},
   "outputs": [
    {
     "name": "stdout",
     "output_type": "stream",
     "text": [
      "p\n",
      "w\n",
      "s\n",
      "i\n",
      "l\n",
      "l\n",
      "s\n",
      "The pwskills is the best platform.\n"
     ]
    }
   ],
   "source": [
    "course = \"pwskills\"  # This is string data type\n",
    "for l in course:\n",
    "    if l == \"k\":\n",
    "        continue\n",
    "    print(l)\n",
    "else:\n",
    "    print(\"The pwskills is the best platform.\")"
   ]
  },
  {
   "cell_type": "raw",
   "id": "729e91fa-9c36-4162-bd1d-0c4fbd888972",
   "metadata": {},
   "source": [
    "# so here again we can see that continue statement of 'for' loop with strings data type. "
   ]
  },
  {
   "cell_type": "code",
   "execution_count": 30,
   "id": "add1bacb-6ac8-439c-a5e9-6b0e9c7e1acc",
   "metadata": {},
   "outputs": [],
   "source": [
    "## Now lets try break and continue statement of 'for' loop with list type data."
   ]
  },
  {
   "cell_type": "code",
   "execution_count": 31,
   "id": "96319986-60e1-4b60-9f93-5bed8cec20a1",
   "metadata": {},
   "outputs": [],
   "source": [
    "# First late's try break statement of 'for' loop with list data type."
   ]
  },
  {
   "cell_type": "code",
   "execution_count": 37,
   "id": "20e3cf5a-57da-4eba-98c6-cc1fd7f8751f",
   "metadata": {},
   "outputs": [
    {
     "name": "stdout",
     "output_type": "stream",
     "text": [
      "Mohsin\n",
      "Swati\n",
      "Abhishek\n",
      "Sanjeev\n"
     ]
    }
   ],
   "source": [
    "# examples:-\n",
    "name = [\"Mohsin\" , \"Swati\" , \"Abhishek\" , \"Sanjeev\" , \"Zeba\" , \"Rashika\" , \"Bheema\"] # this is the list type data.\n",
    "for Sanjeev in name :\n",
    "    if Sanjeev == \"Zeba\":\n",
    "        break\n",
    "    print(Sanjeev)\n",
    "else:\n",
    "    print(\"They are good freind of mohsin\")"
   ]
  },
  {
   "cell_type": "code",
   "execution_count": 38,
   "id": "63df56ed-f133-4b38-9fb8-91814103c094",
   "metadata": {},
   "outputs": [
    {
     "name": "stdout",
     "output_type": "stream",
     "text": [
      "Mohsin\n",
      "Swati\n"
     ]
    }
   ],
   "source": [
    "name = [\"Mohsin\" , \"Swati\" , \"Abhishek\" , \"Sanjeev\" , \"Zeba\" , \"Rashika\" , \"Bheema\"] # this is the list type data.\n",
    "for Sanjeev in name :\n",
    "    if Sanjeev == \"Abhishek\":\n",
    "        break\n",
    "    print(Sanjeev)\n",
    "else:\n",
    "    print(\"They are good freind of mohsin\")"
   ]
  },
  {
   "cell_type": "code",
   "execution_count": 42,
   "id": "b27378dd-e5af-4b9c-8931-80ea0a5f8822",
   "metadata": {},
   "outputs": [
    {
     "name": "stdout",
     "output_type": "stream",
     "text": [
      "Tomato\n",
      "Potato\n"
     ]
    }
   ],
   "source": [
    "vegetables = [\"Tomato\" , \"Potato\" , \"Cucumber\" , \"Coriander\" , \"Onion\" , \"Green Chilli\" , \"Garlic\"] # this is the list data type\n",
    "for Coriander in vegetables:\n",
    "    if Coriander ==\"Cucumber\":\n",
    "        break\n",
    "    print(Coriander)\n",
    "else:\n",
    "    print(\"These are the good vegetables.\")"
   ]
  },
  {
   "cell_type": "raw",
   "id": "c29473cc-ec1f-45d5-bf74-fab44a981732",
   "metadata": {},
   "source": [
    "# so here we can see the example of break statement of 'for' loop with list data type."
   ]
  },
  {
   "cell_type": "code",
   "execution_count": 39,
   "id": "86dc3cf1-56c8-4ff6-acf3-72a633e1edd7",
   "metadata": {},
   "outputs": [],
   "source": [
    "# Lets try continue statement of 'for' loop with list data type :-"
   ]
  },
  {
   "cell_type": "code",
   "execution_count": 40,
   "id": "61d26e31-1231-4125-aa67-716d3d73ecd1",
   "metadata": {},
   "outputs": [
    {
     "name": "stdout",
     "output_type": "stream",
     "text": [
      "Tomato\n",
      "Potato\n",
      "Cucumber\n",
      "Coriander\n",
      "Onion\n",
      "Garlic\n",
      "These are the good vegetables which are available in the market.\n"
     ]
    }
   ],
   "source": [
    "#example :-\n",
    "vegetables = [\"Tomato\" , \"Potato\" , \"Cucumber\" , \"Coriander\" , \"Onion\" , \"Green Chilli\" , \"Garlic\"] # This is the list type data.\n",
    "for coriander in vegetables  :\n",
    "    if coriander == \"Green Chilli\":\n",
    "        continue\n",
    "    print(coriander)\n",
    "else:\n",
    "    print(\"These are the good vegetables which are available in the market.\")"
   ]
  },
  {
   "cell_type": "code",
   "execution_count": 43,
   "id": "488f59a0-f01b-4532-94b5-ac98deb75a0c",
   "metadata": {},
   "outputs": [
    {
     "name": "stdout",
     "output_type": "stream",
     "text": [
      "Mohsin\n",
      "Swati\n",
      "Abhishek\n",
      "Sanjeev\n",
      "Rashika\n",
      "Bheema\n",
      "They are my Good Freinds\n"
     ]
    }
   ],
   "source": [
    "name = [\"Mohsin\" , \"Swati\" , \"Abhishek\" , \"Sanjeev\" , \"Zeba\" , \"Rashika\" , \"Bheema\"] # this is the list type data.\n",
    "for Sanjeev in name:\n",
    "    if Sanjeev == \"Zeba\":\n",
    "        continue\n",
    "    print(Sanjeev)\n",
    "else:\n",
    "    print(\"They are my Good Freinds\")"
   ]
  },
  {
   "cell_type": "raw",
   "id": "7de6a1e2-9da6-4bad-8a65-81e449ef4eb2",
   "metadata": {},
   "source": [
    "# so here we see the examples of continue statement of 'for' loop with list type data."
   ]
  },
  {
   "cell_type": "markdown",
   "id": "a45e0a2d-8ca5-4530-a3a2-eba45bf30a09",
   "metadata": {},
   "source": [
    "### Notes- There is a new keywords in python called Range"
   ]
  },
  {
   "cell_type": "code",
   "execution_count": 45,
   "id": "2127af3f-1922-4468-8779-ffb514c92651",
   "metadata": {},
   "outputs": [],
   "source": [
    "# so now lets discuss a little bit about range :-"
   ]
  },
  {
   "cell_type": "raw",
   "id": "95418d6f-13ae-4655-8ae9-576ae65634a3",
   "metadata": {},
   "source": [
    "Range is atype of keywords or we can say a type of code already written in python.\n",
    "range is basically used to know the range between two variables , whatever we provide.\n",
    "\n",
    "example:-\n",
    "range(0 , 10) - so it means this code will provide the complete numbers comes betwreen 0 to 10 , except the 10. \n",
    "\n",
    "we also have to use list with range , because range only provide the range between the two variables , but by the help of list with range we can know the all variables or value which lies between 0 to 10."
   ]
  },
  {
   "cell_type": "code",
   "execution_count": 47,
   "id": "42e5f7b4-f9c2-44ba-b903-7972343f9070",
   "metadata": {},
   "outputs": [
    {
     "data": {
      "text/plain": [
       "[0, 1, 2, 3, 4, 5, 6, 7, 8, 9]"
      ]
     },
     "execution_count": 47,
     "metadata": {},
     "output_type": "execute_result"
    }
   ],
   "source": [
    "# lets see with some examples :-\n",
    "list(range(0 , 10))"
   ]
  },
  {
   "cell_type": "code",
   "execution_count": null,
   "id": "ad7f9095-5ca7-414a-8293-ffdfed94a3da",
   "metadata": {},
   "outputs": [],
   "source": [
    "#syntex of range >> (start , stop , step) "
   ]
  },
  {
   "cell_type": "code",
   "execution_count": 48,
   "id": "1b087b5e-238f-4f43-a1ce-93d197c925fc",
   "metadata": {},
   "outputs": [
    {
     "data": {
      "text/plain": [
       "[0, 10, 20, 30, 40, 50, 60, 70, 80, 90]"
      ]
     },
     "execution_count": 48,
     "metadata": {},
     "output_type": "execute_result"
    }
   ],
   "source": [
    "list(range(0 , 100 , 10)) # This is the step range"
   ]
  },
  {
   "cell_type": "code",
   "execution_count": 7,
   "id": "6ae10fb1-2778-40be-99b0-207edfad9a3c",
   "metadata": {},
   "outputs": [
    {
     "data": {
      "text/plain": [
       "[0, 20, 40, 60, 80]"
      ]
     },
     "execution_count": 7,
     "metadata": {},
     "output_type": "execute_result"
    }
   ],
   "source": [
    "list(range(0 , 100 , 20)) # this is the step range"
   ]
  },
  {
   "cell_type": "raw",
   "id": "7bc4b170-63c3-42fc-adaf-27b600ca8dea",
   "metadata": {},
   "source": [
    "list(range(0 , 100 , 10)) - so it means when we provide this type of code then it will give all the numbers between the 0 to 100 divisible by 10 or 20 ."
   ]
  },
  {
   "cell_type": "code",
   "execution_count": 49,
   "id": "b29b8857-efc6-4954-bec3-b9d7723b40e9",
   "metadata": {},
   "outputs": [],
   "source": [
    "# lets see some more examples :-"
   ]
  },
  {
   "cell_type": "code",
   "execution_count": 53,
   "id": "807215c8-7b3a-4efe-b4eb-44b35116b315",
   "metadata": {},
   "outputs": [
    {
     "name": "stdout",
     "output_type": "stream",
     "text": [
      "0\n",
      "1\n",
      "2\n",
      "3\n",
      "4\n",
      "5\n",
      "6\n",
      "7\n",
      "8\n",
      "9\n"
     ]
    }
   ],
   "source": [
    "for Sanjeev in range(10):\n",
    "    print(Sanjeev)"
   ]
  },
  {
   "cell_type": "code",
   "execution_count": 54,
   "id": "ac237104-2df3-4d5b-84a9-367ece440e15",
   "metadata": {},
   "outputs": [
    {
     "name": "stdout",
     "output_type": "stream",
     "text": [
      "0\n",
      "1\n",
      "2\n",
      "3\n",
      "4\n",
      "5\n",
      "6\n",
      "7\n",
      "8\n",
      "9\n",
      "10\n",
      "11\n",
      "12\n",
      "13\n",
      "14\n"
     ]
    }
   ],
   "source": [
    "for mohsin in range(15):\n",
    "    print(mohsin)"
   ]
  },
  {
   "cell_type": "code",
   "execution_count": 55,
   "id": "643d92d8-3d83-4583-baaa-a3918b2d2fe8",
   "metadata": {},
   "outputs": [
    {
     "name": "stdout",
     "output_type": "stream",
     "text": [
      "01234567891011121314"
     ]
    }
   ],
   "source": [
    "# Now there is one more predefined keywords in python which also used with range \n",
    "# lets discuss about that predifined keywords :-\n",
    "for mohsin in range (15):\n",
    "    print(mohsin , end = \"\")"
   ]
  },
  {
   "cell_type": "raw",
   "id": "4fe1b5c9-e342-4d56-a5f5-310c478fe64a",
   "metadata": {},
   "source": [
    "# so here we can see a new predifined keywords .\n",
    "end = \"\"  - it helps to puts all number on one line and also helps us to give space between the number or if we can also use some special character between the number by the help of this code."
   ]
  },
  {
   "cell_type": "code",
   "execution_count": null,
   "id": "22c33ad2-5ff3-4116-bf24-6674efd068d3",
   "metadata": {},
   "outputs": [],
   "source": [
    "# lets see some diffrent examples :-"
   ]
  },
  {
   "cell_type": "code",
   "execution_count": 3,
   "id": "9b607c83-8fde-400d-b265-492bbfa1ccfb",
   "metadata": {},
   "outputs": [
    {
     "name": "stdout",
     "output_type": "stream",
     "text": [
      "01234567891011121314"
     ]
    }
   ],
   "source": [
    "for mohsin in range (15):\n",
    "    print(mohsin , end = \"\")"
   ]
  },
  {
   "cell_type": "code",
   "execution_count": 4,
   "id": "a55f4411-bc84-42d5-ba81-64b7c58f3a0f",
   "metadata": {},
   "outputs": [
    {
     "name": "stdout",
     "output_type": "stream",
     "text": [
      "0  1  2  3  4  5  6  7  8  9  10  11  12  13  14  "
     ]
    }
   ],
   "source": [
    "for mohsin in range (15):\n",
    "    print(mohsin , end = \"  \")"
   ]
  },
  {
   "cell_type": "code",
   "execution_count": 5,
   "id": "855c2bb7-33f4-44fd-bd2f-384fb8352b81",
   "metadata": {},
   "outputs": [
    {
     "name": "stdout",
     "output_type": "stream",
     "text": [
      "0 ** 1 ** 2 ** 3 ** 4 ** 5 ** 6 ** 7 ** 8 ** 9 ** 10 ** 11 ** 12 ** 13 ** 14 ** "
     ]
    }
   ],
   "source": [
    "for mohsin in range (15):\n",
    "    print(mohsin , end = \" ** \")"
   ]
  },
  {
   "cell_type": "code",
   "execution_count": 6,
   "id": "cfeab216-1c2f-422e-9f96-7298a145e593",
   "metadata": {},
   "outputs": [
    {
     "name": "stdout",
     "output_type": "stream",
     "text": [
      "0 # 1 # 2 # 3 # 4 # 5 # 6 # 7 # 8 # 9 # 10 # 11 # 12 # 13 # 14 # "
     ]
    }
   ],
   "source": [
    "for mohsin in range (15):\n",
    "    print(mohsin , end = \" # \")"
   ]
  },
  {
   "cell_type": "raw",
   "id": "e26a2dc5-4834-4d29-873e-f7d7fe4bee2c",
   "metadata": {},
   "source": [
    "so this is the complete understanding of range."
   ]
  },
  {
   "cell_type": "markdown",
   "id": "8ff48092-f9b5-4b67-bced-db11ea7b4852",
   "metadata": {},
   "source": [
    "## Problem statement :-"
   ]
  },
  {
   "cell_type": "code",
   "execution_count": null,
   "id": "2f892b7d-a1fb-420b-8e42-a10db25a9e3f",
   "metadata": {},
   "outputs": [],
   "source": [
    "# Make a traingle with the help of astrik or star pattern by using 'while' loop :-"
   ]
  },
  {
   "cell_type": "code",
   "execution_count": 4,
   "id": "6983d7d4-b47e-4259-b61a-278e30e3d0f7",
   "metadata": {},
   "outputs": [
    {
     "name": "stdout",
     "output_type": "stream",
     "text": [
      "*\n",
      "**\n",
      "***\n",
      "****\n"
     ]
    }
   ],
   "source": [
    "row = 1\n",
    "while row <= 4:\n",
    "    col = 1\n",
    "    while col <= row:\n",
    "        print(\"*\" , end = \"\")\n",
    "        col = col+1\n",
    "    print()\n",
    "    row = row+1"
   ]
  },
  {
   "cell_type": "code",
   "execution_count": null,
   "id": "8cbb4533-021a-4786-8d0d-8ae163114dad",
   "metadata": {},
   "outputs": [],
   "source": [
    "# Make a square with the help of astrik or star pattern by using 'for' loop :-"
   ]
  },
  {
   "cell_type": "code",
   "execution_count": 11,
   "id": "5c5ec732-a58a-4ed9-9b01-1da2a2b05e2a",
   "metadata": {},
   "outputs": [
    {
     "name": "stdout",
     "output_type": "stream",
     "text": [
      "***\n",
      "***\n"
     ]
    }
   ],
   "source": [
    "for i in range(2):\n",
    "    for j in range(3):\n",
    "        print(\"*\" , end = \"\")\n",
    "    print()"
   ]
  },
  {
   "cell_type": "code",
   "execution_count": null,
   "id": "f2444b3d-7c39-458c-a9a9-1b96354fa3a7",
   "metadata": {},
   "outputs": [],
   "source": [
    "so here we can see this looks like the square."
   ]
  },
  {
   "cell_type": "raw",
   "id": "acf1609b-5f3d-42f5-88ee-e508bbfdb4b3",
   "metadata": {},
   "source": [
    "so by the use of this code we can print anything (triangle , sqaure , rectangle, etc.) very easily."
   ]
  },
  {
   "cell_type": "code",
   "execution_count": null,
   "id": "d87c7dbf-db2f-4f84-afdd-7488df9859f8",
   "metadata": {},
   "outputs": [
    {
     "name": "stdout",
     "output_type": "stream",
     "text": [
      "******\n",
      "******\n",
      "******\n"
     ]
    }
   ],
   "source": [
    "# lets try with another example by making a bigger square by using astrik or star patter (*) :-\n",
    "for i in range(3):             # this is the condition\n",
    "    for j in range(6):         # this is the condition\n",
    "        print(\"*\"  , end = \"\")  # by this code we will generate the astriks \n",
    "    print()  # this code means print a new line"
   ]
  },
  {
   "cell_type": "raw",
   "id": "234f905c-c982-4ad3-b902-c3b1b10a2e7b",
   "metadata": {},
   "source": [
    "here we can see this looks like the square."
   ]
  },
  {
   "cell_type": "code",
   "execution_count": 16,
   "id": "947a4e2c-a6a2-406e-b0d3-9bba3b7c8b86",
   "metadata": {},
   "outputs": [],
   "source": [
    "# if we use this code with the a diffrent way by giving space between the astriks :-"
   ]
  },
  {
   "cell_type": "code",
   "execution_count": 17,
   "id": "ab5a63bf-f4ca-47e1-8b6b-0bca156db794",
   "metadata": {},
   "outputs": [
    {
     "name": "stdout",
     "output_type": "stream",
     "text": [
      "* * * * * * \n",
      "* * * * * * \n",
      "* * * * * * \n"
     ]
    }
   ],
   "source": [
    "for i in range(3):             \n",
    "    for j in range(6):         \n",
    "        print(\"*\"  , end = \" \")  # here we give space between the astriks.\n",
    "    print()                     # this code is for new line"
   ]
  },
  {
   "cell_type": "raw",
   "id": "23b5578f-a35f-4ff6-9c1c-4a28dd9d32b9",
   "metadata": {},
   "source": [
    "so we can see here this looks like a rectangle."
   ]
  },
  {
   "cell_type": "code",
   "execution_count": 18,
   "id": "270a022d-3a30-4afe-aa7b-18a2c71f1d88",
   "metadata": {},
   "outputs": [],
   "source": [
    "# lets try to make a traingle by using 'for' loops :-"
   ]
  },
  {
   "cell_type": "code",
   "execution_count": 23,
   "id": "233ca03f-342c-444b-bac8-bb247193f69e",
   "metadata": {},
   "outputs": [
    {
     "name": "stdout",
     "output_type": "stream",
     "text": [
      "*\n",
      "**\n",
      "***\n",
      "****\n"
     ]
    }
   ],
   "source": [
    "for i in range (4):\n",
    "    for j in range(i+1):\n",
    "        print(\"*\" , end = \"\")\n",
    "    print()"
   ]
  },
  {
   "cell_type": "markdown",
   "id": "1f4020b3-7586-4a05-8a4f-5ab5b84446ec",
   "metadata": {},
   "source": [
    "## This is the complete answer of Basics of python.\n",
    "## The complete answer of all queastion given in first assignment."
   ]
  },
  {
   "cell_type": "code",
   "execution_count": null,
   "id": "4ade678a-17de-42b8-8935-96aa1f6d4f80",
   "metadata": {},
   "outputs": [],
   "source": []
  }
 ],
 "metadata": {
  "kernelspec": {
   "display_name": "Python 3 (ipykernel)",
   "language": "python",
   "name": "python3"
  },
  "language_info": {
   "codemirror_mode": {
    "name": "ipython",
    "version": 3
   },
   "file_extension": ".py",
   "mimetype": "text/x-python",
   "name": "python",
   "nbconvert_exporter": "python",
   "pygments_lexer": "ipython3",
   "version": "3.10.8"
  }
 },
 "nbformat": 4,
 "nbformat_minor": 5
}
